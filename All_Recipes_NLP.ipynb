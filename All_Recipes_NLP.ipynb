{
 "cells": [
  {
   "cell_type": "code",
   "execution_count": 8,
   "metadata": {},
   "outputs": [],
   "source": [
    "import numpy as np\n",
    "import pandas as pd\n",
    "import scipy\n",
    "import matplotlib.pyplot as plt\n",
    "import seaborn as sns\n",
    "from sklearn.cluster import KMeans, MeanShift, estimate_bandwidth\n",
    "from sklearn.cluster import SpectralClustering, AffinityPropagation, MiniBatchKMeans\n",
    "from sklearn import metrics\n",
    "from sklearn.preprocessing import normalize\n",
    "from sklearn.decomposition import PCA\n",
    "%matplotlib inline"
   ]
  },
  {
   "cell_type": "code",
   "execution_count": 9,
   "metadata": {},
   "outputs": [],
   "source": [
    "import os\n",
    "curr_directory = os.getcwd()\n",
    "datafile = curr_directory + \"/all_recipe_data.txt\""
   ]
  },
  {
   "cell_type": "code",
   "execution_count": 20,
   "metadata": {},
   "outputs": [],
   "source": [
    "import json\n",
    "raw_recipe_data = pd.read_json(datafile)"
   ]
  },
  {
   "cell_type": "code",
   "execution_count": 24,
   "metadata": {},
   "outputs": [
    {
     "data": {
      "text/html": [
       "<div>\n",
       "<style>\n",
       "    .dataframe thead tr:only-child th {\n",
       "        text-align: right;\n",
       "    }\n",
       "\n",
       "    .dataframe thead th {\n",
       "        text-align: left;\n",
       "    }\n",
       "\n",
       "    .dataframe tbody tr th {\n",
       "        vertical-align: top;\n",
       "    }\n",
       "</style>\n",
       "<table border=\"1\" class=\"dataframe\">\n",
       "  <thead>\n",
       "    <tr style=\"text-align: right;\">\n",
       "      <th></th>\n",
       "      <th>0</th>\n",
       "      <th>1</th>\n",
       "    </tr>\n",
       "  </thead>\n",
       "  <tbody>\n",
       "    <tr>\n",
       "      <th>0</th>\n",
       "      <td>[Mix grapefruit, orange, apples, pineapple, ma...</td>\n",
       "      <td>[witchywoman]</td>\n",
       "    </tr>\n",
       "    <tr>\n",
       "      <th>1</th>\n",
       "      <td>[Fill a margarita glass with crushed ice. Pour...</td>\n",
       "      <td>[witchywoman]</td>\n",
       "    </tr>\n",
       "    <tr>\n",
       "      <th>2</th>\n",
       "      <td>[Preheat an oven to 350 degrees F (175 degrees...</td>\n",
       "      <td>[witchywoman]</td>\n",
       "    </tr>\n",
       "    <tr>\n",
       "      <th>3</th>\n",
       "      <td>[Preheat oven to 375 degrees F (190 degrees C)...</td>\n",
       "      <td>[witchywoman]</td>\n",
       "    </tr>\n",
       "    <tr>\n",
       "      <th>4</th>\n",
       "      <td>[Mix the teriyaki sauce, garlic, ginger, and r...</td>\n",
       "      <td>[witchywoman]</td>\n",
       "    </tr>\n",
       "    <tr>\n",
       "      <th>5</th>\n",
       "      <td>[Fill a pint glass with ice, and pour in the v...</td>\n",
       "      <td>[witchywoman]</td>\n",
       "    </tr>\n",
       "    <tr>\n",
       "      <th>6</th>\n",
       "      <td>[]</td>\n",
       "      <td>[witchywoman]</td>\n",
       "    </tr>\n",
       "    <tr>\n",
       "      <th>7</th>\n",
       "      <td>[Combine butter, brown sugar, and confectioner...</td>\n",
       "      <td>[witchywoman]</td>\n",
       "    </tr>\n",
       "    <tr>\n",
       "      <th>8</th>\n",
       "      <td>[Beat the mascarpone cheese, sugar, vanilla ex...</td>\n",
       "      <td>[witchywoman]</td>\n",
       "    </tr>\n",
       "    <tr>\n",
       "      <th>9</th>\n",
       "      <td>[]</td>\n",
       "      <td>[exception]</td>\n",
       "    </tr>\n",
       "    <tr>\n",
       "      <th>10</th>\n",
       "      <td>[Place cream cheese, fromage blanc, tomato pas...</td>\n",
       "      <td>[Chef John]</td>\n",
       "    </tr>\n",
       "    <tr>\n",
       "      <th>11</th>\n",
       "      <td>[Cut small, shallow X on the bottom of each to...</td>\n",
       "      <td>[Chef John]</td>\n",
       "    </tr>\n",
       "    <tr>\n",
       "      <th>12</th>\n",
       "      <td>[Place potatoes in a large pot with water. Bru...</td>\n",
       "      <td>[Chef John]</td>\n",
       "    </tr>\n",
       "    <tr>\n",
       "      <th>13</th>\n",
       "      <td>[Stir cabbage, Thousand Island dressing, rice ...</td>\n",
       "      <td>[Chef John]</td>\n",
       "    </tr>\n",
       "    <tr>\n",
       "      <th>14</th>\n",
       "      <td>[Whisk together ground coffee and cold water i...</td>\n",
       "      <td>[Chef John]</td>\n",
       "    </tr>\n",
       "    <tr>\n",
       "      <th>15</th>\n",
       "      <td>[Mix mayonnaise, vinegar, horseradish, lemon j...</td>\n",
       "      <td>[Chef John]</td>\n",
       "    </tr>\n",
       "    <tr>\n",
       "      <th>16</th>\n",
       "      <td>[Place half the ground beef on a sheet of plas...</td>\n",
       "      <td>[Chef John]</td>\n",
       "    </tr>\n",
       "    <tr>\n",
       "      <th>17</th>\n",
       "      <td>[Combine chopped almonds and parsley on a cutt...</td>\n",
       "      <td>[Chef John]</td>\n",
       "    </tr>\n",
       "    <tr>\n",
       "      <th>18</th>\n",
       "      <td>[Preheat oven to 375 degrees F (190 degrees C)...</td>\n",
       "      <td>[Chef John]</td>\n",
       "    </tr>\n",
       "    <tr>\n",
       "      <th>19</th>\n",
       "      <td>[Place potatoes into a large pot and cover wit...</td>\n",
       "      <td>[Chef John]</td>\n",
       "    </tr>\n",
       "  </tbody>\n",
       "</table>\n",
       "</div>"
      ],
      "text/plain": [
       "                                                    0              1\n",
       "0   [Mix grapefruit, orange, apples, pineapple, ma...  [witchywoman]\n",
       "1   [Fill a margarita glass with crushed ice. Pour...  [witchywoman]\n",
       "2   [Preheat an oven to 350 degrees F (175 degrees...  [witchywoman]\n",
       "3   [Preheat oven to 375 degrees F (190 degrees C)...  [witchywoman]\n",
       "4   [Mix the teriyaki sauce, garlic, ginger, and r...  [witchywoman]\n",
       "5   [Fill a pint glass with ice, and pour in the v...  [witchywoman]\n",
       "6                                                  []  [witchywoman]\n",
       "7   [Combine butter, brown sugar, and confectioner...  [witchywoman]\n",
       "8   [Beat the mascarpone cheese, sugar, vanilla ex...  [witchywoman]\n",
       "9                                                  []    [exception]\n",
       "10  [Place cream cheese, fromage blanc, tomato pas...    [Chef John]\n",
       "11  [Cut small, shallow X on the bottom of each to...    [Chef John]\n",
       "12  [Place potatoes in a large pot with water. Bru...    [Chef John]\n",
       "13  [Stir cabbage, Thousand Island dressing, rice ...    [Chef John]\n",
       "14  [Whisk together ground coffee and cold water i...    [Chef John]\n",
       "15  [Mix mayonnaise, vinegar, horseradish, lemon j...    [Chef John]\n",
       "16  [Place half the ground beef on a sheet of plas...    [Chef John]\n",
       "17  [Combine chopped almonds and parsley on a cutt...    [Chef John]\n",
       "18  [Preheat oven to 375 degrees F (190 degrees C)...    [Chef John]\n",
       "19  [Place potatoes into a large pot and cover wit...    [Chef John]"
      ]
     },
     "execution_count": 24,
     "metadata": {},
     "output_type": "execute_result"
    }
   ],
   "source": [
    "raw_recipe_data.head(20)"
   ]
  },
  {
   "cell_type": "code",
   "execution_count": 30,
   "metadata": {},
   "outputs": [
    {
     "data": {
      "text/plain": [
       "['Mix grapefruit, orange, apples, pineapple, maraschino cherries, and grapes in a large bowl. Mash slightly with the back of a wooden spoon to release juices. Add bananas, coconut, walnuts, and sugar; stir to coat. Cover and refrigerate to blend flavors, at least 1 hour.']"
      ]
     },
     "execution_count": 30,
     "metadata": {},
     "output_type": "execute_result"
    }
   ],
   "source": [
    "raw_recipe_data.loc[0,0]"
   ]
  },
  {
   "cell_type": "code",
   "execution_count": 31,
   "metadata": {
    "collapsed": true
   },
   "outputs": [],
   "source": [
    "import gensim"
   ]
  },
  {
   "cell_type": "code",
   "execution_count": null,
   "metadata": {
    "collapsed": true
   },
   "outputs": [],
   "source": []
  }
 ],
 "metadata": {
  "anaconda-cloud": {},
  "kernelspec": {
   "display_name": "Python [default]",
   "language": "python",
   "name": "python3"
  },
  "language_info": {
   "codemirror_mode": {
    "name": "ipython",
    "version": 3
   },
   "file_extension": ".py",
   "mimetype": "text/x-python",
   "name": "python",
   "nbconvert_exporter": "python",
   "pygments_lexer": "ipython3",
   "version": "3.6.1"
  }
 },
 "nbformat": 4,
 "nbformat_minor": 2
}
