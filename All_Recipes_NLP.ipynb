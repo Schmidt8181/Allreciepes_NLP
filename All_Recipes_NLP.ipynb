{
 "cells": [
  {
   "cell_type": "code",
   "execution_count": 152,
   "metadata": {
    "collapsed": true
   },
   "outputs": [],
   "source": [
    "import numpy as np\n",
    "import pandas as pd\n",
    "import scipy\n",
    "import matplotlib.pyplot as plt\n",
    "import seaborn as sns\n",
    "from sklearn.cluster import KMeans, MeanShift, estimate_bandwidth\n",
    "from sklearn.cluster import SpectralClustering, AffinityPropagation, MiniBatchKMeans\n",
    "from sklearn import metrics\n",
    "from sklearn.preprocessing import normalize\n",
    "from sklearn.decomposition import PCA\n",
    "from sklearn.model_selection import train_test_split\n",
    "%matplotlib inline"
   ]
  },
  {
   "cell_type": "code",
   "execution_count": 40,
   "metadata": {
    "collapsed": true
   },
   "outputs": [],
   "source": [
    "import os\n",
    "curr_directory = os.getcwd()\n",
    "datafile = curr_directory + \"/all_recipe_data.json\""
   ]
  },
  {
   "cell_type": "code",
   "execution_count": 69,
   "metadata": {
    "collapsed": true
   },
   "outputs": [],
   "source": [
    "import json\n",
    "raw_recipe_data = pd.read_json(datafile)"
   ]
  },
  {
   "cell_type": "code",
   "execution_count": 52,
   "metadata": {},
   "outputs": [
    {
     "data": {
      "text/plain": [
       "False"
      ]
     },
     "execution_count": 52,
     "metadata": {},
     "output_type": "execute_result"
    }
   ],
   "source": [
    "raw_recipe_data.isnull().values.any()"
   ]
  },
  {
   "cell_type": "code",
   "execution_count": 70,
   "metadata": {},
   "outputs": [
    {
     "data": {
      "text/html": [
       "<div>\n",
       "<style>\n",
       "    .dataframe thead tr:only-child th {\n",
       "        text-align: right;\n",
       "    }\n",
       "\n",
       "    .dataframe thead th {\n",
       "        text-align: left;\n",
       "    }\n",
       "\n",
       "    .dataframe tbody tr th {\n",
       "        vertical-align: top;\n",
       "    }\n",
       "</style>\n",
       "<table border=\"1\" class=\"dataframe\">\n",
       "  <thead>\n",
       "    <tr style=\"text-align: right;\">\n",
       "      <th></th>\n",
       "      <th>Author</th>\n",
       "      <th>Instructions</th>\n",
       "    </tr>\n",
       "  </thead>\n",
       "  <tbody>\n",
       "    <tr>\n",
       "      <th>0</th>\n",
       "      <td>[witchywoman]</td>\n",
       "      <td>Mix grapefruit, orange, apples, pineapple, mar...</td>\n",
       "    </tr>\n",
       "    <tr>\n",
       "      <th>1</th>\n",
       "      <td>[witchywoman]</td>\n",
       "      <td>Fill a margarita glass with crushed ice. Pour ...</td>\n",
       "    </tr>\n",
       "    <tr>\n",
       "      <th>2</th>\n",
       "      <td>[witchywoman]</td>\n",
       "      <td>Preheat an oven to 350 degrees F (175 degrees ...</td>\n",
       "    </tr>\n",
       "    <tr>\n",
       "      <th>3</th>\n",
       "      <td>[witchywoman]</td>\n",
       "      <td></td>\n",
       "    </tr>\n",
       "    <tr>\n",
       "      <th>4</th>\n",
       "      <td>[witchywoman]</td>\n",
       "      <td>Mix the teriyaki sauce, garlic, ginger, and re...</td>\n",
       "    </tr>\n",
       "  </tbody>\n",
       "</table>\n",
       "</div>"
      ],
      "text/plain": [
       "          Author                                       Instructions\n",
       "0  [witchywoman]  Mix grapefruit, orange, apples, pineapple, mar...\n",
       "1  [witchywoman]  Fill a margarita glass with crushed ice. Pour ...\n",
       "2  [witchywoman]  Preheat an oven to 350 degrees F (175 degrees ...\n",
       "3  [witchywoman]                                                   \n",
       "4  [witchywoman]  Mix the teriyaki sauce, garlic, ginger, and re..."
      ]
     },
     "execution_count": 70,
     "metadata": {},
     "output_type": "execute_result"
    }
   ],
   "source": [
    "raw_recipe_data.Instructions.replace('', np.nan, inplace=True)\n",
    "raw_recipe_data.head()"
   ]
  },
  {
   "cell_type": "code",
   "execution_count": 76,
   "metadata": {},
   "outputs": [
    {
     "data": {
      "text/plain": [
       "Author          0\n",
       "Instructions    0\n",
       "dtype: int64"
      ]
     },
     "execution_count": 76,
     "metadata": {},
     "output_type": "execute_result"
    }
   ],
   "source": [
    "raw_recipe_data.isnull().sum()"
   ]
  },
  {
   "cell_type": "code",
   "execution_count": 153,
   "metadata": {},
   "outputs": [
    {
     "data": {
      "text/html": [
       "<div>\n",
       "<style>\n",
       "    .dataframe thead tr:only-child th {\n",
       "        text-align: right;\n",
       "    }\n",
       "\n",
       "    .dataframe thead th {\n",
       "        text-align: left;\n",
       "    }\n",
       "\n",
       "    .dataframe tbody tr th {\n",
       "        vertical-align: top;\n",
       "    }\n",
       "</style>\n",
       "<table border=\"1\" class=\"dataframe\">\n",
       "  <thead>\n",
       "    <tr style=\"text-align: right;\">\n",
       "      <th></th>\n",
       "      <th>Author</th>\n",
       "      <th>Instructions</th>\n",
       "    </tr>\n",
       "  </thead>\n",
       "  <tbody>\n",
       "    <tr>\n",
       "      <th>0</th>\n",
       "      <td>[witchywoman]</td>\n",
       "      <td>mix grapefruit, orange, apples, pineapple, mar...</td>\n",
       "    </tr>\n",
       "    <tr>\n",
       "      <th>1</th>\n",
       "      <td>[witchywoman]</td>\n",
       "      <td>fill a margarita glass with crushed ice. pour ...</td>\n",
       "    </tr>\n",
       "    <tr>\n",
       "      <th>2</th>\n",
       "      <td>[witchywoman]</td>\n",
       "      <td>preheat an oven to 350 degrees f (175 degrees ...</td>\n",
       "    </tr>\n",
       "    <tr>\n",
       "      <th>4</th>\n",
       "      <td>[witchywoman]</td>\n",
       "      <td>mix the teriyaki sauce, garlic, ginger, and re...</td>\n",
       "    </tr>\n",
       "    <tr>\n",
       "      <th>5</th>\n",
       "      <td>[witchywoman]</td>\n",
       "      <td>fill a pint glass with ice, and pour in the vo...</td>\n",
       "    </tr>\n",
       "  </tbody>\n",
       "</table>\n",
       "</div>"
      ],
      "text/plain": [
       "          Author                                       Instructions\n",
       "0  [witchywoman]  mix grapefruit, orange, apples, pineapple, mar...\n",
       "1  [witchywoman]  fill a margarita glass with crushed ice. pour ...\n",
       "2  [witchywoman]  preheat an oven to 350 degrees f (175 degrees ...\n",
       "4  [witchywoman]  mix the teriyaki sauce, garlic, ginger, and re...\n",
       "5  [witchywoman]  fill a pint glass with ice, and pour in the vo..."
      ]
     },
     "execution_count": 153,
     "metadata": {},
     "output_type": "execute_result"
    }
   ],
   "source": [
    "raw_recipe_data.head()"
   ]
  },
  {
   "cell_type": "code",
   "execution_count": 165,
   "metadata": {
    "scrolled": false
   },
   "outputs": [
    {
     "data": {
      "text/html": [
       "<div>\n",
       "<style>\n",
       "    .dataframe thead tr:only-child th {\n",
       "        text-align: right;\n",
       "    }\n",
       "\n",
       "    .dataframe thead th {\n",
       "        text-align: left;\n",
       "    }\n",
       "\n",
       "    .dataframe tbody tr th {\n",
       "        vertical-align: top;\n",
       "    }\n",
       "</style>\n",
       "<table border=\"1\" class=\"dataframe\">\n",
       "  <thead>\n",
       "    <tr style=\"text-align: right;\">\n",
       "      <th></th>\n",
       "      <th>Author</th>\n",
       "      <th>Instructions</th>\n",
       "    </tr>\n",
       "  </thead>\n",
       "  <tbody>\n",
       "    <tr>\n",
       "      <th>0</th>\n",
       "      <td>[witchywoman]</td>\n",
       "      <td>mix grapefruit, orange, apples, pineapple, mar...</td>\n",
       "    </tr>\n",
       "    <tr>\n",
       "      <th>1</th>\n",
       "      <td>[witchywoman]</td>\n",
       "      <td>fill a margarita glass with crushed ice. pour ...</td>\n",
       "    </tr>\n",
       "    <tr>\n",
       "      <th>2</th>\n",
       "      <td>[witchywoman]</td>\n",
       "      <td>preheat an oven to 350 degrees f (175 degrees ...</td>\n",
       "    </tr>\n",
       "    <tr>\n",
       "      <th>4</th>\n",
       "      <td>[witchywoman]</td>\n",
       "      <td>mix the teriyaki sauce, garlic, ginger, and re...</td>\n",
       "    </tr>\n",
       "    <tr>\n",
       "      <th>5</th>\n",
       "      <td>[witchywoman]</td>\n",
       "      <td>fill a pint glass with ice, and pour in the vo...</td>\n",
       "    </tr>\n",
       "  </tbody>\n",
       "</table>\n",
       "</div>"
      ],
      "text/plain": [
       "          Author                                       Instructions\n",
       "0  [witchywoman]  mix grapefruit, orange, apples, pineapple, mar...\n",
       "1  [witchywoman]  fill a margarita glass with crushed ice. pour ...\n",
       "2  [witchywoman]  preheat an oven to 350 degrees f (175 degrees ...\n",
       "4  [witchywoman]  mix the teriyaki sauce, garlic, ginger, and re...\n",
       "5  [witchywoman]  fill a pint glass with ice, and pour in the vo..."
      ]
     },
     "execution_count": 165,
     "metadata": {},
     "output_type": "execute_result"
    }
   ],
   "source": [
    "raw_recipe_data.Instructions = raw_recipe_data.Instructions.lower().split('.').replace(\",\", \"\")\n",
    "raw_recipe_data.head()"
   ]
  },
  {
   "cell_type": "code",
   "execution_count": 172,
   "metadata": {
    "scrolled": true
   },
   "outputs": [],
   "source": [
    "sentences = [text for text in raw_recipe_data.Instructions]\n",
    "\n",
    "np.random.shuffle(sentences)\n",
    "train, test = sentences[:81], sentences[81:]\n"
   ]
  },
  {
   "cell_type": "code",
   "execution_count": 197,
   "metadata": {},
   "outputs": [],
   "source": [
    "instructions = raw_recipe_data.Instructions\n"
   ]
  },
  {
   "cell_type": "code",
   "execution_count": 199,
   "metadata": {},
   "outputs": [
    {
     "ename": "AttributeError",
     "evalue": "'Series' object has no attribute 'lower'",
     "output_type": "error",
     "traceback": [
      "\u001b[0;31m---------------------------------------------------------------------------\u001b[0m",
      "\u001b[0;31mAttributeError\u001b[0m                            Traceback (most recent call last)",
      "\u001b[0;32m<ipython-input-199-6c4bc49cc2ab>\u001b[0m in \u001b[0;36m<module>\u001b[0;34m()\u001b[0m\n\u001b[1;32m      3\u001b[0m \u001b[0;31m# Lowercase each document, split it by white space and filter out stopwords\u001b[0m\u001b[0;34m\u001b[0m\u001b[0;34m\u001b[0m\u001b[0m\n\u001b[1;32m      4\u001b[0m texts = [[word for word in instructions.lower().split() if word not in stoplist]\n\u001b[0;32m----> 5\u001b[0;31m          for document in instructions[1]]\n\u001b[0m\u001b[1;32m      6\u001b[0m \u001b[0;34m\u001b[0m\u001b[0m\n\u001b[1;32m      7\u001b[0m \u001b[0;31m# Count word frequencies\u001b[0m\u001b[0;34m\u001b[0m\u001b[0;34m\u001b[0m\u001b[0m\n",
      "\u001b[0;32m<ipython-input-199-6c4bc49cc2ab>\u001b[0m in \u001b[0;36m<listcomp>\u001b[0;34m(.0)\u001b[0m\n\u001b[1;32m      3\u001b[0m \u001b[0;31m# Lowercase each document, split it by white space and filter out stopwords\u001b[0m\u001b[0;34m\u001b[0m\u001b[0;34m\u001b[0m\u001b[0m\n\u001b[1;32m      4\u001b[0m texts = [[word for word in instructions.lower().split() if word not in stoplist]\n\u001b[0;32m----> 5\u001b[0;31m          for document in instructions[1]]\n\u001b[0m\u001b[1;32m      6\u001b[0m \u001b[0;34m\u001b[0m\u001b[0m\n\u001b[1;32m      7\u001b[0m \u001b[0;31m# Count word frequencies\u001b[0m\u001b[0;34m\u001b[0m\u001b[0;34m\u001b[0m\u001b[0m\n",
      "\u001b[0;32m/anaconda/lib/python3.6/site-packages/pandas/core/generic.py\u001b[0m in \u001b[0;36m__getattr__\u001b[0;34m(self, name)\u001b[0m\n\u001b[1;32m   2968\u001b[0m             \u001b[0;32mif\u001b[0m \u001b[0mname\u001b[0m \u001b[0;32min\u001b[0m \u001b[0mself\u001b[0m\u001b[0;34m.\u001b[0m\u001b[0m_info_axis\u001b[0m\u001b[0;34m:\u001b[0m\u001b[0;34m\u001b[0m\u001b[0m\n\u001b[1;32m   2969\u001b[0m                 \u001b[0;32mreturn\u001b[0m \u001b[0mself\u001b[0m\u001b[0;34m[\u001b[0m\u001b[0mname\u001b[0m\u001b[0;34m]\u001b[0m\u001b[0;34m\u001b[0m\u001b[0m\n\u001b[0;32m-> 2970\u001b[0;31m             \u001b[0;32mreturn\u001b[0m \u001b[0mobject\u001b[0m\u001b[0;34m.\u001b[0m\u001b[0m__getattribute__\u001b[0m\u001b[0;34m(\u001b[0m\u001b[0mself\u001b[0m\u001b[0;34m,\u001b[0m \u001b[0mname\u001b[0m\u001b[0;34m)\u001b[0m\u001b[0;34m\u001b[0m\u001b[0m\n\u001b[0m\u001b[1;32m   2971\u001b[0m \u001b[0;34m\u001b[0m\u001b[0m\n\u001b[1;32m   2972\u001b[0m     \u001b[0;32mdef\u001b[0m \u001b[0m__setattr__\u001b[0m\u001b[0;34m(\u001b[0m\u001b[0mself\u001b[0m\u001b[0;34m,\u001b[0m \u001b[0mname\u001b[0m\u001b[0;34m,\u001b[0m \u001b[0mvalue\u001b[0m\u001b[0;34m)\u001b[0m\u001b[0;34m:\u001b[0m\u001b[0;34m\u001b[0m\u001b[0m\n",
      "\u001b[0;31mAttributeError\u001b[0m: 'Series' object has no attribute 'lower'"
     ]
    }
   ],
   "source": [
    "# Create a set of frequent words\n",
    "stoplist = set('for a of the and to in'.split(' '))\n",
    "# Lowercase each document, split it by white space and filter out stopwords\n",
    "texts = [[word for word in instructions.lower().split() if word not in stoplist]\n",
    "         for document in instructions[1]]\n",
    "\n",
    "# Count word frequencies\n",
    "from collections import defaultdict\n",
    "frequency = defaultdict(int)\n",
    "for text in texts:\n",
    "    for token in text:\n",
    "        frequency[token] += 1\n",
    "\n",
    "# Only keep words that appear more than once\n",
    "processed_corpus = [[token for token in text if frequency[token] > 1] for text in texts]\n",
    "processed_corpus"
   ]
  },
  {
   "cell_type": "code",
   "execution_count": null,
   "metadata": {
    "collapsed": true
   },
   "outputs": [],
   "source": []
  },
  {
   "cell_type": "code",
   "execution_count": 118,
   "metadata": {
    "collapsed": true
   },
   "outputs": [],
   "source": [
    "# import modules & set up logging\n",
    "import gensim, logging\n",
    "\n",
    "logging.basicConfig(format='%(asctime)s : %(levelname)s : %(message)s', level=logging.INFO)"
   ]
  },
  {
   "cell_type": "code",
   "execution_count": 187,
   "metadata": {},
   "outputs": [
    {
     "name": "stderr",
     "output_type": "stream",
     "text": [
      "2018-04-20 14:42:49,406 : INFO : collecting all words and their counts\n",
      "2018-04-20 14:42:49,410 : WARNING : Each 'sentences' item should be a list of words (usually unicode strings). First item here is instead plain <class 'str'>.\n",
      "2018-04-20 14:42:49,413 : INFO : PROGRESS: at sentence #0, processed 0 words, keeping 0 word types\n",
      "2018-04-20 14:42:49,427 : INFO : collected 56 word types from a corpus of 35682 raw words and 81 sentences\n",
      "2018-04-20 14:42:49,429 : INFO : Loading a fresh vocabulary\n",
      "2018-04-20 14:42:49,434 : INFO : min_count=3 retains 47 unique words (83% of original 56, drops 9)\n",
      "2018-04-20 14:42:49,437 : INFO : min_count=3 leaves 35669 word corpus (99% of original 35682, drops 13)\n",
      "2018-04-20 14:42:49,442 : INFO : deleting the raw counts dictionary of 56 items\n",
      "2018-04-20 14:42:49,444 : INFO : sample=0.001 downsamples 27 most-common words\n",
      "2018-04-20 14:42:49,446 : INFO : downsampling leaves estimated 6936 word corpus (19.4% of prior 35669)\n",
      "2018-04-20 14:42:49,457 : INFO : estimated required memory for 47 words and 100 dimensions: 61100 bytes\n",
      "2018-04-20 14:42:49,460 : INFO : resetting layer weights\n",
      "2018-04-20 14:42:49,463 : INFO : training model with 3 workers on 47 vocabulary and 100 features, using sg=1 hs=0 sample=0.001 negative=5 window=7\n",
      "2018-04-20 14:42:49,509 : INFO : worker thread finished; awaiting finish of 2 more threads\n",
      "2018-04-20 14:42:49,511 : INFO : worker thread finished; awaiting finish of 1 more threads\n",
      "2018-04-20 14:42:49,518 : INFO : worker thread finished; awaiting finish of 0 more threads\n",
      "2018-04-20 14:42:49,520 : INFO : EPOCH - 1 : training on 35682 raw words (6959 effective words) took 0.0s, 188452 effective words/s\n",
      "2018-04-20 14:42:49,556 : INFO : worker thread finished; awaiting finish of 2 more threads\n",
      "2018-04-20 14:42:49,557 : INFO : worker thread finished; awaiting finish of 1 more threads\n",
      "2018-04-20 14:42:49,564 : INFO : worker thread finished; awaiting finish of 0 more threads\n",
      "2018-04-20 14:42:49,565 : INFO : EPOCH - 2 : training on 35682 raw words (7007 effective words) took 0.0s, 182210 effective words/s\n",
      "2018-04-20 14:42:49,599 : INFO : worker thread finished; awaiting finish of 2 more threads\n",
      "2018-04-20 14:42:49,603 : INFO : worker thread finished; awaiting finish of 1 more threads\n",
      "2018-04-20 14:42:49,610 : INFO : worker thread finished; awaiting finish of 0 more threads\n",
      "2018-04-20 14:42:49,612 : INFO : EPOCH - 3 : training on 35682 raw words (6863 effective words) took 0.0s, 157470 effective words/s\n",
      "2018-04-20 14:42:49,652 : INFO : worker thread finished; awaiting finish of 2 more threads\n",
      "2018-04-20 14:42:49,653 : INFO : worker thread finished; awaiting finish of 1 more threads\n",
      "2018-04-20 14:42:49,658 : INFO : worker thread finished; awaiting finish of 0 more threads\n",
      "2018-04-20 14:42:49,660 : INFO : EPOCH - 4 : training on 35682 raw words (6945 effective words) took 0.0s, 159912 effective words/s\n",
      "2018-04-20 14:42:49,692 : INFO : worker thread finished; awaiting finish of 2 more threads\n",
      "2018-04-20 14:42:49,695 : INFO : worker thread finished; awaiting finish of 1 more threads\n",
      "2018-04-20 14:42:49,703 : INFO : worker thread finished; awaiting finish of 0 more threads\n",
      "2018-04-20 14:42:49,705 : INFO : EPOCH - 5 : training on 35682 raw words (7049 effective words) took 0.0s, 192191 effective words/s\n",
      "2018-04-20 14:42:49,707 : INFO : training on a 178410 raw words (34823 effective words) took 0.2s, 145481 effective words/s\n",
      "2018-04-20 14:42:49,709 : WARNING : under 10 jobs per worker: consider setting a smaller `batch_words' for smoother alpha decay\n"
     ]
    }
   ],
   "source": [
    "model = gensim.models.Word2Vec(train, min_count=3, sg=1, window=7, sample=1e-3)"
   ]
  },
  {
   "cell_type": "code",
   "execution_count": 201,
   "metadata": {},
   "outputs": [
    {
     "data": {
      "text/plain": [
       "{' ': <gensim.models.keyedvectors.Vocab at 0x11355a908>,\n",
       " '\"': <gensim.models.keyedvectors.Vocab at 0x11355af98>,\n",
       " \"'\": <gensim.models.keyedvectors.Vocab at 0x11355ad30>,\n",
       " '(': <gensim.models.keyedvectors.Vocab at 0x11355a438>,\n",
       " ')': <gensim.models.keyedvectors.Vocab at 0x11355a0b8>,\n",
       " ',': <gensim.models.keyedvectors.Vocab at 0x11355a668>,\n",
       " '-': <gensim.models.keyedvectors.Vocab at 0x11355a4e0>,\n",
       " '.': <gensim.models.keyedvectors.Vocab at 0x11355a588>,\n",
       " '/': <gensim.models.keyedvectors.Vocab at 0x11355a198>,\n",
       " '0': <gensim.models.keyedvectors.Vocab at 0x11355a4a8>,\n",
       " '1': <gensim.models.keyedvectors.Vocab at 0x11355a160>,\n",
       " '2': <gensim.models.keyedvectors.Vocab at 0x11355a278>,\n",
       " '3': <gensim.models.keyedvectors.Vocab at 0x11355a470>,\n",
       " '4': <gensim.models.keyedvectors.Vocab at 0x11355a2b0>,\n",
       " '5': <gensim.models.keyedvectors.Vocab at 0x11355a390>,\n",
       " '6': <gensim.models.keyedvectors.Vocab at 0x11355ac88>,\n",
       " '7': <gensim.models.keyedvectors.Vocab at 0x11355a2e8>,\n",
       " '8': <gensim.models.keyedvectors.Vocab at 0x11355a3c8>,\n",
       " '9': <gensim.models.keyedvectors.Vocab at 0x11355acf8>,\n",
       " ';': <gensim.models.keyedvectors.Vocab at 0x11355a550>,\n",
       " 'a': <gensim.models.keyedvectors.Vocab at 0x11355ab70>,\n",
       " 'b': <gensim.models.keyedvectors.Vocab at 0x11355a5f8>,\n",
       " 'c': <gensim.models.keyedvectors.Vocab at 0x113557160>,\n",
       " 'd': <gensim.models.keyedvectors.Vocab at 0x11355a780>,\n",
       " 'e': <gensim.models.keyedvectors.Vocab at 0x11355a8d0>,\n",
       " 'f': <gensim.models.keyedvectors.Vocab at 0x11355a518>,\n",
       " 'g': <gensim.models.keyedvectors.Vocab at 0x11355ab00>,\n",
       " 'h': <gensim.models.keyedvectors.Vocab at 0x113557a90>,\n",
       " 'i': <gensim.models.keyedvectors.Vocab at 0x11355a828>,\n",
       " 'j': <gensim.models.keyedvectors.Vocab at 0x11355a6d8>,\n",
       " 'k': <gensim.models.keyedvectors.Vocab at 0x11355a5c0>,\n",
       " 'l': <gensim.models.keyedvectors.Vocab at 0x11355a7b8>,\n",
       " 'm': <gensim.models.keyedvectors.Vocab at 0x11355a7f0>,\n",
       " 'n': <gensim.models.keyedvectors.Vocab at 0x11355aa90>,\n",
       " 'o': <gensim.models.keyedvectors.Vocab at 0x11355aac8>,\n",
       " 'p': <gensim.models.keyedvectors.Vocab at 0x11355aa58>,\n",
       " 'q': <gensim.models.keyedvectors.Vocab at 0x11355a320>,\n",
       " 'r': <gensim.models.keyedvectors.Vocab at 0x11355a9e8>,\n",
       " 's': <gensim.models.keyedvectors.Vocab at 0x11355a860>,\n",
       " 't': <gensim.models.keyedvectors.Vocab at 0x11355aa20>,\n",
       " 'u': <gensim.models.keyedvectors.Vocab at 0x11355a6a0>,\n",
       " 'v': <gensim.models.keyedvectors.Vocab at 0x11355a400>,\n",
       " 'w': <gensim.models.keyedvectors.Vocab at 0x11355a748>,\n",
       " 'x': <gensim.models.keyedvectors.Vocab at 0x11355a630>,\n",
       " 'y': <gensim.models.keyedvectors.Vocab at 0x11355a710>,\n",
       " 'z': <gensim.models.keyedvectors.Vocab at 0x11355a358>,\n",
       " '½': <gensim.models.keyedvectors.Vocab at 0x11355afd0>}"
      ]
     },
     "execution_count": 201,
     "metadata": {},
     "output_type": "execute_result"
    }
   ],
   "source": [
    "model.wv.vocab"
   ]
  },
  {
   "cell_type": "code",
   "execution_count": 200,
   "metadata": {},
   "outputs": [],
   "source": [
    "# set up clustering estimators\n",
    "from sklearn import cluster\n",
    "\n",
    "dbscan = cluster.DBSCAN() \n",
    "meanshift = cluster.MeanShift()\n",
    "spectral = cluster.SpectralClustering()\n",
    "affinity = cluster.AffinityPropagation()"
   ]
  },
  {
   "cell_type": "code",
   "execution_count": null,
   "metadata": {
    "collapsed": true
   },
   "outputs": [],
   "source": []
  }
 ],
 "metadata": {
  "anaconda-cloud": {},
  "kernelspec": {
   "display_name": "Python [default]",
   "language": "python",
   "name": "python3"
  },
  "language_info": {
   "codemirror_mode": {
    "name": "ipython",
    "version": 3
   },
   "file_extension": ".py",
   "mimetype": "text/x-python",
   "name": "python",
   "nbconvert_exporter": "python",
   "pygments_lexer": "ipython3",
   "version": "3.6.1"
  }
 },
 "nbformat": 4,
 "nbformat_minor": 2
}
