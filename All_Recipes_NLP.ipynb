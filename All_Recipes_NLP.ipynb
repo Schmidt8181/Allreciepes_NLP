{
 "cells": [
  {
   "cell_type": "code",
   "execution_count": 1,
   "metadata": {
    "collapsed": true
   },
   "outputs": [],
   "source": [
    "import numpy as np\n",
    "import pandas as pd\n",
    "import scipy\n",
    "import matplotlib.pyplot as plt\n",
    "import seaborn as sns\n",
    "from sklearn import metrics\n",
    "from sklearn.preprocessing import normalize\n",
    "from sklearn.decomposition import PCA\n",
    "from sklearn.model_selection import train_test_split\n",
    "%matplotlib inline"
   ]
  },
  {
   "cell_type": "code",
   "execution_count": 2,
   "metadata": {
    "collapsed": true
   },
   "outputs": [],
   "source": [
    "import os\n",
    "curr_directory = os.getcwd()\n",
    "datafile = curr_directory + \"/all_recipe_data.json\""
   ]
  },
  {
   "cell_type": "code",
   "execution_count": 3,
   "metadata": {
    "collapsed": true
   },
   "outputs": [],
   "source": [
    "import json\n",
    "raw_recipe_data = pd.read_json(datafile)"
   ]
  },
  {
   "cell_type": "code",
   "execution_count": 4,
   "metadata": {},
   "outputs": [
    {
     "data": {
      "text/plain": [
       "False"
      ]
     },
     "execution_count": 4,
     "metadata": {},
     "output_type": "execute_result"
    }
   ],
   "source": [
    "raw_recipe_data.isnull().values.any()"
   ]
  },
  {
   "cell_type": "code",
   "execution_count": 5,
   "metadata": {},
   "outputs": [
    {
     "data": {
      "text/html": [
       "<div>\n",
       "<style>\n",
       "    .dataframe thead tr:only-child th {\n",
       "        text-align: right;\n",
       "    }\n",
       "\n",
       "    .dataframe thead th {\n",
       "        text-align: left;\n",
       "    }\n",
       "\n",
       "    .dataframe tbody tr th {\n",
       "        vertical-align: top;\n",
       "    }\n",
       "</style>\n",
       "<table border=\"1\" class=\"dataframe\">\n",
       "  <thead>\n",
       "    <tr style=\"text-align: right;\">\n",
       "      <th></th>\n",
       "      <th>Author</th>\n",
       "      <th>Instructions</th>\n",
       "    </tr>\n",
       "  </thead>\n",
       "  <tbody>\n",
       "    <tr>\n",
       "      <th>0</th>\n",
       "      <td>[witchywoman]</td>\n",
       "      <td>Mix grapefruit, orange, apples, pineapple, mar...</td>\n",
       "    </tr>\n",
       "    <tr>\n",
       "      <th>1</th>\n",
       "      <td>[witchywoman]</td>\n",
       "      <td>Fill a margarita glass with crushed ice. Pour ...</td>\n",
       "    </tr>\n",
       "    <tr>\n",
       "      <th>2</th>\n",
       "      <td>[witchywoman]</td>\n",
       "      <td>Preheat an oven to 350 degrees F (175 degrees ...</td>\n",
       "    </tr>\n",
       "    <tr>\n",
       "      <th>3</th>\n",
       "      <td>[witchywoman]</td>\n",
       "      <td></td>\n",
       "    </tr>\n",
       "    <tr>\n",
       "      <th>4</th>\n",
       "      <td>[witchywoman]</td>\n",
       "      <td>Mix the teriyaki sauce, garlic, ginger, and re...</td>\n",
       "    </tr>\n",
       "  </tbody>\n",
       "</table>\n",
       "</div>"
      ],
      "text/plain": [
       "          Author                                       Instructions\n",
       "0  [witchywoman]  Mix grapefruit, orange, apples, pineapple, mar...\n",
       "1  [witchywoman]  Fill a margarita glass with crushed ice. Pour ...\n",
       "2  [witchywoman]  Preheat an oven to 350 degrees F (175 degrees ...\n",
       "3  [witchywoman]                                                   \n",
       "4  [witchywoman]  Mix the teriyaki sauce, garlic, ginger, and re..."
      ]
     },
     "execution_count": 5,
     "metadata": {},
     "output_type": "execute_result"
    }
   ],
   "source": [
    "raw_recipe_data = raw_recipe_data.replace(np.nan, \"\", regex=True)\n",
    "raw_recipe_data.head()"
   ]
  },
  {
   "cell_type": "code",
   "execution_count": 6,
   "metadata": {},
   "outputs": [
    {
     "data": {
      "text/plain": [
       "Author          0\n",
       "Instructions    0\n",
       "dtype: int64"
      ]
     },
     "execution_count": 6,
     "metadata": {},
     "output_type": "execute_result"
    }
   ],
   "source": [
    "raw_recipe_data.isnull().sum()"
   ]
  },
  {
   "cell_type": "code",
   "execution_count": 7,
   "metadata": {},
   "outputs": [
    {
     "data": {
      "text/html": [
       "<div>\n",
       "<style>\n",
       "    .dataframe thead tr:only-child th {\n",
       "        text-align: right;\n",
       "    }\n",
       "\n",
       "    .dataframe thead th {\n",
       "        text-align: left;\n",
       "    }\n",
       "\n",
       "    .dataframe tbody tr th {\n",
       "        vertical-align: top;\n",
       "    }\n",
       "</style>\n",
       "<table border=\"1\" class=\"dataframe\">\n",
       "  <thead>\n",
       "    <tr style=\"text-align: right;\">\n",
       "      <th></th>\n",
       "      <th>Author</th>\n",
       "      <th>Instructions</th>\n",
       "    </tr>\n",
       "  </thead>\n",
       "  <tbody>\n",
       "    <tr>\n",
       "      <th>0</th>\n",
       "      <td>[witchywoman]</td>\n",
       "      <td>Mix grapefruit, orange, apples, pineapple, mar...</td>\n",
       "    </tr>\n",
       "    <tr>\n",
       "      <th>1</th>\n",
       "      <td>[witchywoman]</td>\n",
       "      <td>Fill a margarita glass with crushed ice. Pour ...</td>\n",
       "    </tr>\n",
       "    <tr>\n",
       "      <th>2</th>\n",
       "      <td>[witchywoman]</td>\n",
       "      <td>Preheat an oven to 350 degrees F (175 degrees ...</td>\n",
       "    </tr>\n",
       "    <tr>\n",
       "      <th>3</th>\n",
       "      <td>[witchywoman]</td>\n",
       "      <td></td>\n",
       "    </tr>\n",
       "    <tr>\n",
       "      <th>4</th>\n",
       "      <td>[witchywoman]</td>\n",
       "      <td>Mix the teriyaki sauce, garlic, ginger, and re...</td>\n",
       "    </tr>\n",
       "  </tbody>\n",
       "</table>\n",
       "</div>"
      ],
      "text/plain": [
       "          Author                                       Instructions\n",
       "0  [witchywoman]  Mix grapefruit, orange, apples, pineapple, mar...\n",
       "1  [witchywoman]  Fill a margarita glass with crushed ice. Pour ...\n",
       "2  [witchywoman]  Preheat an oven to 350 degrees F (175 degrees ...\n",
       "3  [witchywoman]                                                   \n",
       "4  [witchywoman]  Mix the teriyaki sauce, garlic, ginger, and re..."
      ]
     },
     "execution_count": 7,
     "metadata": {},
     "output_type": "execute_result"
    }
   ],
   "source": [
    "raw_recipe_data.head()"
   ]
  },
  {
   "cell_type": "code",
   "execution_count": 8,
   "metadata": {},
   "outputs": [
    {
     "data": {
      "text/plain": [
       "exception                    118\n",
       "TheBritishBaker               13\n",
       "LoveMexiFood                  13\n",
       "Johanna WISHES she were a     11\n",
       "witchywoman                   11\n",
       "Peach822                      10\n",
       "bellepepper                   10\n",
       "ellie                         10\n",
       "Litegal1                      10\n",
       "Chef John                     10\n",
       "Semigourmet                   10\n",
       "Name: Author, dtype: int64"
      ]
     },
     "execution_count": 8,
     "metadata": {},
     "output_type": "execute_result"
    }
   ],
   "source": [
    "raw_recipe_data.Author = raw_recipe_data.Author.apply(lambda x: x[0])\n",
    "\n",
    "raw_recipe_data.Author.value_counts()"
   ]
  },
  {
   "cell_type": "code",
   "execution_count": 9,
   "metadata": {
    "collapsed": true
   },
   "outputs": [],
   "source": [
    "raw_recipe_data.drop(3, axis=0, inplace=True)\n",
    "raw_recipe_data = raw_recipe_data[raw_recipe_data.Author != \"exception\"]\n"
   ]
  },
  {
   "cell_type": "code",
   "execution_count": 10,
   "metadata": {
    "collapsed": true
   },
   "outputs": [],
   "source": [
    "from string import punctuation\n",
    "\n",
    "transtab = str.maketrans({key:None for key in punctuation if key != \".\"})"
   ]
  },
  {
   "cell_type": "code",
   "execution_count": 11,
   "metadata": {
    "scrolled": false
   },
   "outputs": [
    {
     "data": {
      "text/html": [
       "<div>\n",
       "<style>\n",
       "    .dataframe thead tr:only-child th {\n",
       "        text-align: right;\n",
       "    }\n",
       "\n",
       "    .dataframe thead th {\n",
       "        text-align: left;\n",
       "    }\n",
       "\n",
       "    .dataframe tbody tr th {\n",
       "        vertical-align: top;\n",
       "    }\n",
       "</style>\n",
       "<table border=\"1\" class=\"dataframe\">\n",
       "  <thead>\n",
       "    <tr style=\"text-align: right;\">\n",
       "      <th></th>\n",
       "      <th>Author</th>\n",
       "      <th>Instructions</th>\n",
       "    </tr>\n",
       "  </thead>\n",
       "  <tbody>\n",
       "    <tr>\n",
       "      <th>0</th>\n",
       "      <td>witchywoman</td>\n",
       "      <td>[mix grapefruit orange apples pineapple marasc...</td>\n",
       "    </tr>\n",
       "    <tr>\n",
       "      <th>1</th>\n",
       "      <td>witchywoman</td>\n",
       "      <td>[fill a margarita glass with crushed ice,  pou...</td>\n",
       "    </tr>\n",
       "    <tr>\n",
       "      <th>2</th>\n",
       "      <td>witchywoman</td>\n",
       "      <td>[preheat an oven to 350 degrees f 175 degrees ...</td>\n",
       "    </tr>\n",
       "    <tr>\n",
       "      <th>4</th>\n",
       "      <td>witchywoman</td>\n",
       "      <td>[mix the teriyaki sauce garlic ginger and red ...</td>\n",
       "    </tr>\n",
       "    <tr>\n",
       "      <th>5</th>\n",
       "      <td>witchywoman</td>\n",
       "      <td>[fill a pint glass with ice and pour in the vo...</td>\n",
       "    </tr>\n",
       "  </tbody>\n",
       "</table>\n",
       "</div>"
      ],
      "text/plain": [
       "        Author                                       Instructions\n",
       "0  witchywoman  [mix grapefruit orange apples pineapple marasc...\n",
       "1  witchywoman  [fill a margarita glass with crushed ice,  pou...\n",
       "2  witchywoman  [preheat an oven to 350 degrees f 175 degrees ...\n",
       "4  witchywoman  [mix the teriyaki sauce garlic ginger and red ...\n",
       "5  witchywoman  [fill a pint glass with ice and pour in the vo..."
      ]
     },
     "execution_count": 11,
     "metadata": {},
     "output_type": "execute_result"
    }
   ],
   "source": [
    "# remove punctuation\n",
    "raw_recipe_data.Instructions = raw_recipe_data.Instructions.apply(lambda x: x.lower().translate(transtab).strip().split(\".\"))\n",
    "raw_recipe_data.head()"
   ]
  },
  {
   "cell_type": "code",
   "execution_count": 12,
   "metadata": {},
   "outputs": [
    {
     "data": {
      "text/plain": [
       "['mix grapefruit orange apples pineapple maraschino cherries and grapes in a large bowl',\n",
       " ' mash slightly with the back of a wooden spoon to release juices',\n",
       " ' add bananas coconut walnuts and sugar stir to coat',\n",
       " ' cover and refrigerate to blend flavors at least 1 hour',\n",
       " '']"
      ]
     },
     "execution_count": 12,
     "metadata": {},
     "output_type": "execute_result"
    }
   ],
   "source": [
    "raw_recipe_data.Instructions.iloc[0]"
   ]
  },
  {
   "cell_type": "code",
   "execution_count": 13,
   "metadata": {
    "collapsed": true
   },
   "outputs": [],
   "source": [
    "raw_recipe_data.loc[:,\"FullInstruction\"] = raw_recipe_data.Instructions.apply(lambda x: \"\".join(x))\n"
   ]
  },
  {
   "cell_type": "code",
   "execution_count": 14,
   "metadata": {
    "collapsed": true
   },
   "outputs": [],
   "source": [
    "# Get Instructions: List of list of sentences; DONE\n",
    "# Flatten list of list of sentences -> List of sentences; DONE\n",
    "# Remove stopwords from each sentence; DONE\n",
    "# Create Train/Test split of sentences; DONE\n",
    "# Pass Training set into Gensim; DONE"
   ]
  },
  {
   "cell_type": "code",
   "execution_count": 15,
   "metadata": {},
   "outputs": [
    {
     "data": {
      "text/plain": [
       "['mix grapefruit orange apples pineapple maraschino cherries and grapes in a large bowl mash slightly with the back of a wooden spoon to release juices add bananas coconut walnuts and sugar stir to coat cover and refrigerate to blend flavors at least 1 hour',\n",
       " 'fill a margarita glass with crushed ice pour tequila melon liqueur and triple sec into the glass top with sour mix grenadine lime juice and orange juice garnish with the cherry and a wedge of orange',\n",
       " 'preheat an oven to 350 degrees f 175 degrees c grease 12 muffin cups or line with paper muffin liners stir the flour cinnamon nutmeg allspice cloves pumpkin pie spice cardamom ginger salt and baking soda together in a bowl beat the brown sugar and the eggs together with an electric mixer in a large bowl until smooth add 12 cup plus 2 tablespoons vegetable oil and pumpkin continue beating until integrated pour the flour mixture into the egg mixture and beat until just incorporated fill the prepared muffin cups about halffull with the batter spoon about 1 teaspoon cream cheese into the center of each muffin cup and poke it down into the middle of the batter with a finger sprinkle the sunflower seeds over each muffin bake in the preheated oven until golden and the tops spring back when lightly pressed about 25 minutes let cool in pan 5 minutes and remove to a rack to cool completely be extra careful the cream cheese stays hot for a while']"
      ]
     },
     "execution_count": 15,
     "metadata": {},
     "output_type": "execute_result"
    }
   ],
   "source": [
    "# get instructions\n",
    "sentences = [text for text in raw_recipe_data.FullInstruction]\n",
    "sentences[:3]"
   ]
  },
  {
   "cell_type": "code",
   "execution_count": 16,
   "metadata": {
    "collapsed": true
   },
   "outputs": [],
   "source": [
    "# flatten list of sentences\n",
    "from itertools import chain\n",
    "\n",
    "#sentences = list(chain.from_iterable(sentences))"
   ]
  },
  {
   "cell_type": "code",
   "execution_count": 17,
   "metadata": {
    "collapsed": true,
    "scrolled": true
   },
   "outputs": [],
   "source": [
    "sentences;"
   ]
  },
  {
   "cell_type": "code",
   "execution_count": 18,
   "metadata": {
    "collapsed": true
   },
   "outputs": [],
   "source": [
    "# remove empty strings\n",
    "clean_sentences = list(filter(None, sentences))\n"
   ]
  },
  {
   "cell_type": "code",
   "execution_count": 19,
   "metadata": {},
   "outputs": [
    {
     "data": {
      "text/plain": [
       "107"
      ]
     },
     "execution_count": 19,
     "metadata": {},
     "output_type": "execute_result"
    }
   ],
   "source": [
    "len(sentences)"
   ]
  },
  {
   "cell_type": "code",
   "execution_count": 20,
   "metadata": {
    "collapsed": true
   },
   "outputs": [],
   "source": [
    "# remove stop words\n",
    "stoplist = set('a an and are as at be by for from has he in is it its of on or that the to was will with'.split(' '))\n",
    "sentences_text = [[word for word in document.split() if word not in stoplist]\n",
    "                  for document in sentences]"
   ]
  },
  {
   "cell_type": "code",
   "execution_count": 21,
   "metadata": {},
   "outputs": [
    {
     "data": {
      "text/plain": [
       "Author             object\n",
       "Instructions       object\n",
       "FullInstruction    object\n",
       "dtype: object"
      ]
     },
     "execution_count": 21,
     "metadata": {},
     "output_type": "execute_result"
    }
   ],
   "source": [
    "# flatten list of words of sentences\n",
    "#combined_text = list(chain.from_iterable(sentences_text))\n",
    "raw_recipe_data.dtypes"
   ]
  },
  {
   "cell_type": "code",
   "execution_count": 22,
   "metadata": {},
   "outputs": [
    {
     "data": {
      "text/plain": [
       "Author             category\n",
       "Instructions         object\n",
       "FullInstruction      object\n",
       "dtype: object"
      ]
     },
     "execution_count": 22,
     "metadata": {},
     "output_type": "execute_result"
    }
   ],
   "source": [
    "raw_recipe_data['Author'] = raw_recipe_data['Author'].astype('category')\n",
    "raw_recipe_data.dtypes"
   ]
  },
  {
   "cell_type": "code",
   "execution_count": 23,
   "metadata": {},
   "outputs": [
    {
     "data": {
      "text/html": [
       "<div>\n",
       "<style>\n",
       "    .dataframe thead tr:only-child th {\n",
       "        text-align: right;\n",
       "    }\n",
       "\n",
       "    .dataframe thead th {\n",
       "        text-align: left;\n",
       "    }\n",
       "\n",
       "    .dataframe tbody tr th {\n",
       "        vertical-align: top;\n",
       "    }\n",
       "</style>\n",
       "<table border=\"1\" class=\"dataframe\">\n",
       "  <thead>\n",
       "    <tr style=\"text-align: right;\">\n",
       "      <th></th>\n",
       "      <th>Author</th>\n",
       "      <th>Instructions</th>\n",
       "      <th>FullInstruction</th>\n",
       "      <th>Author_codes</th>\n",
       "    </tr>\n",
       "  </thead>\n",
       "  <tbody>\n",
       "    <tr>\n",
       "      <th>0</th>\n",
       "      <td>witchywoman</td>\n",
       "      <td>[mix grapefruit orange apples pineapple marasc...</td>\n",
       "      <td>mix grapefruit orange apples pineapple marasch...</td>\n",
       "      <td>9</td>\n",
       "    </tr>\n",
       "    <tr>\n",
       "      <th>1</th>\n",
       "      <td>witchywoman</td>\n",
       "      <td>[fill a margarita glass with crushed ice,  pou...</td>\n",
       "      <td>fill a margarita glass with crushed ice pour t...</td>\n",
       "      <td>9</td>\n",
       "    </tr>\n",
       "    <tr>\n",
       "      <th>2</th>\n",
       "      <td>witchywoman</td>\n",
       "      <td>[preheat an oven to 350 degrees f 175 degrees ...</td>\n",
       "      <td>preheat an oven to 350 degrees f 175 degrees c...</td>\n",
       "      <td>9</td>\n",
       "    </tr>\n",
       "    <tr>\n",
       "      <th>4</th>\n",
       "      <td>witchywoman</td>\n",
       "      <td>[mix the teriyaki sauce garlic ginger and red ...</td>\n",
       "      <td>mix the teriyaki sauce garlic ginger and red p...</td>\n",
       "      <td>9</td>\n",
       "    </tr>\n",
       "    <tr>\n",
       "      <th>5</th>\n",
       "      <td>witchywoman</td>\n",
       "      <td>[fill a pint glass with ice and pour in the vo...</td>\n",
       "      <td>fill a pint glass with ice and pour in the vod...</td>\n",
       "      <td>9</td>\n",
       "    </tr>\n",
       "  </tbody>\n",
       "</table>\n",
       "</div>"
      ],
      "text/plain": [
       "        Author                                       Instructions  \\\n",
       "0  witchywoman  [mix grapefruit orange apples pineapple marasc...   \n",
       "1  witchywoman  [fill a margarita glass with crushed ice,  pou...   \n",
       "2  witchywoman  [preheat an oven to 350 degrees f 175 degrees ...   \n",
       "4  witchywoman  [mix the teriyaki sauce garlic ginger and red ...   \n",
       "5  witchywoman  [fill a pint glass with ice and pour in the vo...   \n",
       "\n",
       "                                     FullInstruction  Author_codes  \n",
       "0  mix grapefruit orange apples pineapple marasch...             9  \n",
       "1  fill a margarita glass with crushed ice pour t...             9  \n",
       "2  preheat an oven to 350 degrees f 175 degrees c...             9  \n",
       "4  mix the teriyaki sauce garlic ginger and red p...             9  \n",
       "5  fill a pint glass with ice and pour in the vod...             9  "
      ]
     },
     "execution_count": 23,
     "metadata": {},
     "output_type": "execute_result"
    }
   ],
   "source": [
    "raw_recipe_data['Author_codes'] = raw_recipe_data['Author'].cat.codes\n",
    "raw_recipe_data.head()"
   ]
  },
  {
   "cell_type": "code",
   "execution_count": 24,
   "metadata": {},
   "outputs": [
    {
     "data": {
      "text/plain": [
       "6    13\n",
       "3    13\n",
       "1    11\n",
       "9    10\n",
       "8    10\n",
       "7    10\n",
       "5    10\n",
       "4    10\n",
       "2    10\n",
       "0    10\n",
       "Name: Author_codes, dtype: int64"
      ]
     },
     "execution_count": 24,
     "metadata": {},
     "output_type": "execute_result"
    }
   ],
   "source": [
    "raw_recipe_data['Author_codes'].value_counts()"
   ]
  },
  {
   "cell_type": "code",
   "execution_count": 25,
   "metadata": {
    "collapsed": true,
    "scrolled": true
   },
   "outputs": [],
   "source": [
    "np.random.shuffle(sentences_text)\n",
    "train, test = sentences_text[:81], sentences_text[81:]"
   ]
  },
  {
   "cell_type": "code",
   "execution_count": 26,
   "metadata": {},
   "outputs": [
    {
     "data": {
      "text/plain": [
       "107"
      ]
     },
     "execution_count": 26,
     "metadata": {},
     "output_type": "execute_result"
    }
   ],
   "source": [
    "len(sentences_text)"
   ]
  },
  {
   "cell_type": "code",
   "execution_count": 27,
   "metadata": {
    "collapsed": true
   },
   "outputs": [],
   "source": [
    "# import modules & set up logging\n",
    "import gensim, logging\n",
    "\n",
    "logging.basicConfig(format='%(asctime)s : %(levelname)s : %(message)s', level=logging.INFO)"
   ]
  },
  {
   "cell_type": "code",
   "execution_count": 28,
   "metadata": {},
   "outputs": [
    {
     "name": "stderr",
     "output_type": "stream",
     "text": [
      "2018-05-02 21:30:08,817 : INFO : collecting all words and their counts\n",
      "2018-05-02 21:30:08,833 : INFO : PROGRESS: at sentence #0, processed 0 words, keeping 0 word types\n",
      "2018-05-02 21:30:08,841 : INFO : collected 1086 word types from a corpus of 4902 raw words and 81 sentences\n",
      "2018-05-02 21:30:08,844 : INFO : Loading a fresh vocabulary\n",
      "2018-05-02 21:30:08,861 : INFO : min_count=3 retains 398 unique words (36% of original 1086, drops 688)\n",
      "2018-05-02 21:30:08,867 : INFO : min_count=3 leaves 4033 word corpus (82% of original 4902, drops 869)\n",
      "2018-05-02 21:30:08,876 : INFO : deleting the raw counts dictionary of 1086 items\n",
      "2018-05-02 21:30:08,881 : INFO : sample=0.001 downsamples 104 most-common words\n",
      "2018-05-02 21:30:08,886 : INFO : downsampling leaves estimated 2934 word corpus (72.8% of prior 4033)\n",
      "2018-05-02 21:30:08,893 : INFO : estimated required memory for 398 words and 100 dimensions: 517400 bytes\n",
      "2018-05-02 21:30:08,897 : INFO : resetting layer weights\n",
      "2018-05-02 21:30:08,907 : INFO : training model with 3 workers on 398 vocabulary and 100 features, using sg=1 hs=0 sample=0.001 negative=5 window=5\n",
      "2018-05-02 21:30:08,918 : INFO : worker thread finished; awaiting finish of 2 more threads\n",
      "2018-05-02 21:30:08,920 : INFO : worker thread finished; awaiting finish of 1 more threads\n",
      "2018-05-02 21:30:08,941 : INFO : worker thread finished; awaiting finish of 0 more threads\n",
      "2018-05-02 21:30:08,943 : INFO : EPOCH - 1 : training on 4902 raw words (2888 effective words) took 0.0s, 114922 effective words/s\n",
      "2018-05-02 21:30:08,951 : INFO : worker thread finished; awaiting finish of 2 more threads\n",
      "2018-05-02 21:30:08,978 : INFO : worker thread finished; awaiting finish of 1 more threads\n",
      "2018-05-02 21:30:08,982 : INFO : worker thread finished; awaiting finish of 0 more threads\n",
      "2018-05-02 21:30:08,988 : INFO : EPOCH - 2 : training on 4902 raw words (2933 effective words) took 0.0s, 73250 effective words/s\n",
      "2018-05-02 21:30:09,003 : INFO : worker thread finished; awaiting finish of 2 more threads\n",
      "2018-05-02 21:30:09,011 : INFO : worker thread finished; awaiting finish of 1 more threads\n",
      "2018-05-02 21:30:09,025 : INFO : worker thread finished; awaiting finish of 0 more threads\n",
      "2018-05-02 21:30:09,036 : INFO : EPOCH - 3 : training on 4902 raw words (2939 effective words) took 0.0s, 88611 effective words/s\n",
      "2018-05-02 21:30:09,047 : INFO : worker thread finished; awaiting finish of 2 more threads\n",
      "2018-05-02 21:30:09,050 : INFO : worker thread finished; awaiting finish of 1 more threads\n",
      "2018-05-02 21:30:09,071 : INFO : worker thread finished; awaiting finish of 0 more threads\n",
      "2018-05-02 21:30:09,074 : INFO : EPOCH - 4 : training on 4902 raw words (2977 effective words) took 0.0s, 105134 effective words/s\n",
      "2018-05-02 21:30:09,082 : INFO : worker thread finished; awaiting finish of 2 more threads\n",
      "2018-05-02 21:30:09,095 : INFO : worker thread finished; awaiting finish of 1 more threads\n",
      "2018-05-02 21:30:09,108 : INFO : worker thread finished; awaiting finish of 0 more threads\n",
      "2018-05-02 21:30:09,111 : INFO : EPOCH - 5 : training on 4902 raw words (2946 effective words) took 0.0s, 103223 effective words/s\n",
      "2018-05-02 21:30:09,117 : INFO : training on a 24510 raw words (14683 effective words) took 0.2s, 70813 effective words/s\n",
      "2018-05-02 21:30:09,131 : WARNING : under 10 jobs per worker: consider setting a smaller `batch_words' for smoother alpha decay\n"
     ]
    }
   ],
   "source": [
    "model = gensim.models.Word2Vec(train, min_count=3, sg=1, window=5, sample=1e-3)"
   ]
  },
  {
   "cell_type": "code",
   "execution_count": 29,
   "metadata": {
    "scrolled": true
   },
   "outputs": [
    {
     "name": "stderr",
     "output_type": "stream",
     "text": [
      "/Users/mnandi/anaconda3/lib/python3.6/site-packages/ipykernel_launcher.py:1: DeprecationWarning: Call to deprecated `__getitem__` (Method will be removed in 4.0.0, use self.wv.__getitem__() instead).\n",
      "  \"\"\"Entry point for launching an IPython kernel.\n"
     ]
    }
   ],
   "source": [
    "X = model[model.wv.vocab]"
   ]
  },
  {
   "cell_type": "code",
   "execution_count": 30,
   "metadata": {
    "collapsed": true
   },
   "outputs": [],
   "source": [
    "word_vectors = model.wv"
   ]
  },
  {
   "cell_type": "code",
   "execution_count": 31,
   "metadata": {
    "collapsed": true
   },
   "outputs": [],
   "source": [
    "cake = word_vectors['cake']\n",
    "chicken = word_vectors['chicken']\n",
    "cake2 = cake + chicken"
   ]
  },
  {
   "cell_type": "code",
   "execution_count": 32,
   "metadata": {},
   "outputs": [
    {
     "data": {
      "text/plain": [
       "array([ 0.10104416,  0.00759692, -0.20345618,  0.26731047, -0.27915686,\n",
       "        0.03368591, -0.30721432,  0.22342598, -0.20961297,  0.3539397 ,\n",
       "        0.09238882,  0.18850529, -0.20286474, -0.21599436, -0.2890963 ,\n",
       "       -0.07179179,  0.00189335,  0.03240603, -0.07909358, -0.3625425 ,\n",
       "       -0.04112869,  0.25603294,  0.13369007, -0.14952962,  0.27671707,\n",
       "        0.13714045,  0.01177461, -0.16216564,  0.10535083, -0.24393749,\n",
       "       -0.05860618,  0.11426173, -0.2684162 ,  0.1025659 ,  0.13736069,\n",
       "        0.37679592,  0.15320863, -0.09970841,  0.12311987,  0.07035   ,\n",
       "       -0.18355387,  0.10319992, -0.11056389,  0.15921114,  0.03116819,\n",
       "       -0.54857564, -0.21608447, -0.06481655,  0.26926342,  0.04012489,\n",
       "        0.29349115, -0.1404423 ,  0.0352008 , -0.03390134,  0.0153007 ,\n",
       "        0.00279146, -0.16318657,  0.08056597, -0.23154142,  0.43597293,\n",
       "       -0.1351418 , -0.08477293,  0.25139642, -0.00885614, -0.2804789 ,\n",
       "       -0.09685996, -0.03868222,  0.08259703, -0.14821348,  0.08082503,\n",
       "       -0.1091155 ,  0.01428369, -0.01089343,  0.04139786,  0.03864823,\n",
       "       -0.06909283,  0.00403173,  0.21383896, -0.12151287,  0.02961638,\n",
       "        0.01790395, -0.368402  ,  0.07789579,  0.19184455,  0.17620677,\n",
       "        0.07432646, -0.18049107,  0.5078846 ,  0.22130848,  0.29706973,\n",
       "        0.24976858, -0.27602836, -0.01945208, -0.16448462, -0.26675832,\n",
       "       -0.19003758, -0.01762784,  0.13859007,  0.15441248,  0.12473659],\n",
       "      dtype=float32)"
      ]
     },
     "execution_count": 32,
     "metadata": {},
     "output_type": "execute_result"
    }
   ],
   "source": [
    "cake2"
   ]
  },
  {
   "cell_type": "code",
   "execution_count": 35,
   "metadata": {},
   "outputs": [
    {
     "ename": "SyntaxError",
     "evalue": "'return' outside function (<ipython-input-35-df5f6d51e8a0>, line 17)",
     "output_type": "error",
     "traceback": [
      "\u001b[0;36m  File \u001b[0;32m\"<ipython-input-35-df5f6d51e8a0>\"\u001b[0;36m, line \u001b[0;32m17\u001b[0m\n\u001b[0;31m    return featureVec\u001b[0m\n\u001b[0m    ^\u001b[0m\n\u001b[0;31mSyntaxError\u001b[0m\u001b[0;31m:\u001b[0m 'return' outside function\n"
     ]
    }
   ],
   "source": [
    "\n",
    "#def sentence_vector(model_vectors):\n",
    "    #function to sum all words vectors in a given sentence\n",
    "#    featureVec = np.zeros((100,), dtype=\"float32\")\n",
    "#    try:\n",
    "#        for word in words:\n",
    "#            featureVec = np.add(featureVec, model_vectors[word])\n",
    "#    except:\n",
    "#        pass\n",
    "#    return featureVec\n",
    "\n",
    "#[[word for word in document.split() if word not in stoplist] for document in sentences]\n",
    "#featureVec = np.zeros((100,), dtype=\"float32\")\n",
    "for each in raw_recipes_data.FullInstruction.str.split():\n",
    "    featureVec = np.zeros((100,), dtype=\"float32\")\n",
    "    featureVec = np.add(featureVec, model_vectors[each])\n",
    "    return featureVec"
   ]
  },
  {
   "cell_type": "code",
   "execution_count": 67,
   "metadata": {},
   "outputs": [],
   "source": [
    "def avg_sentence_vector(words, model, num_features, index2word_set):\n",
    "    #function to average all words vectors in a given paragraph\n",
    "    featureVec = np.zeros((num_features,), dtype=\"float32\")\n",
    "    nwords = 0\n",
    "\n",
    "    for word in words:\n",
    "        if word not in index2word_set:\n",
    "            if model.__contains__(word):\n",
    "                nwords = nwords+1\n",
    "                featureVec = np.add(featureVec, model[word])\n",
    "\n",
    "    if nwords>0:\n",
    "        featureVec = np.divide(featureVec, nwords)\n",
    "    return featureVec\n"
   ]
  },
  {
   "cell_type": "code",
   "execution_count": 73,
   "metadata": {},
   "outputs": [
    {
     "data": {
      "text/html": [
       "<div>\n",
       "<style>\n",
       "    .dataframe thead tr:only-child th {\n",
       "        text-align: right;\n",
       "    }\n",
       "\n",
       "    .dataframe thead th {\n",
       "        text-align: left;\n",
       "    }\n",
       "\n",
       "    .dataframe tbody tr th {\n",
       "        vertical-align: top;\n",
       "    }\n",
       "</style>\n",
       "<table border=\"1\" class=\"dataframe\">\n",
       "  <thead>\n",
       "    <tr style=\"text-align: right;\">\n",
       "      <th></th>\n",
       "      <th>Author</th>\n",
       "      <th>Instructions</th>\n",
       "      <th>FullInstruction</th>\n",
       "      <th>Author_codes</th>\n",
       "      <th>Instruction_Vectors</th>\n",
       "    </tr>\n",
       "  </thead>\n",
       "  <tbody>\n",
       "    <tr>\n",
       "      <th>0</th>\n",
       "      <td>witchywoman</td>\n",
       "      <td>[mix grapefruit orange apples pineapple marasc...</td>\n",
       "      <td>mix grapefruit orange apples pineapple marasch...</td>\n",
       "      <td>9</td>\n",
       "      <td>[0.0548178, 0.003845036, -0.120127514, 0.14804...</td>\n",
       "    </tr>\n",
       "    <tr>\n",
       "      <th>1</th>\n",
       "      <td>witchywoman</td>\n",
       "      <td>[fill a margarita glass with crushed ice,  pou...</td>\n",
       "      <td>fill a margarita glass with crushed ice pour t...</td>\n",
       "      <td>9</td>\n",
       "      <td>[0.056686554, 0.0051684096, -0.123579055, 0.15...</td>\n",
       "    </tr>\n",
       "    <tr>\n",
       "      <th>2</th>\n",
       "      <td>witchywoman</td>\n",
       "      <td>[preheat an oven to 350 degrees f 175 degrees ...</td>\n",
       "      <td>preheat an oven to 350 degrees f 175 degrees c...</td>\n",
       "      <td>9</td>\n",
       "      <td>[0.061886206, 0.0050285114, -0.13219936, 0.164...</td>\n",
       "    </tr>\n",
       "    <tr>\n",
       "      <th>4</th>\n",
       "      <td>witchywoman</td>\n",
       "      <td>[mix the teriyaki sauce garlic ginger and red ...</td>\n",
       "      <td>mix the teriyaki sauce garlic ginger and red p...</td>\n",
       "      <td>9</td>\n",
       "      <td>[0.061183065, 0.0061097955, -0.12828897, 0.160...</td>\n",
       "    </tr>\n",
       "    <tr>\n",
       "      <th>5</th>\n",
       "      <td>witchywoman</td>\n",
       "      <td>[fill a pint glass with ice and pour in the vo...</td>\n",
       "      <td>fill a pint glass with ice and pour in the vod...</td>\n",
       "      <td>9</td>\n",
       "      <td>[0.054824676, 0.0049762465, -0.12117226, 0.146...</td>\n",
       "    </tr>\n",
       "  </tbody>\n",
       "</table>\n",
       "</div>"
      ],
      "text/plain": [
       "        Author                                       Instructions  \\\n",
       "0  witchywoman  [mix grapefruit orange apples pineapple marasc...   \n",
       "1  witchywoman  [fill a margarita glass with crushed ice,  pou...   \n",
       "2  witchywoman  [preheat an oven to 350 degrees f 175 degrees ...   \n",
       "4  witchywoman  [mix the teriyaki sauce garlic ginger and red ...   \n",
       "5  witchywoman  [fill a pint glass with ice and pour in the vo...   \n",
       "\n",
       "                                     FullInstruction  Author_codes  \\\n",
       "0  mix grapefruit orange apples pineapple marasch...             9   \n",
       "1  fill a margarita glass with crushed ice pour t...             9   \n",
       "2  preheat an oven to 350 degrees f 175 degrees c...             9   \n",
       "4  mix the teriyaki sauce garlic ginger and red p...             9   \n",
       "5  fill a pint glass with ice and pour in the vod...             9   \n",
       "\n",
       "                                 Instruction_Vectors  \n",
       "0  [0.0548178, 0.003845036, -0.120127514, 0.14804...  \n",
       "1  [0.056686554, 0.0051684096, -0.123579055, 0.15...  \n",
       "2  [0.061886206, 0.0050285114, -0.13219936, 0.164...  \n",
       "4  [0.061183065, 0.0061097955, -0.12828897, 0.160...  \n",
       "5  [0.054824676, 0.0049762465, -0.12117226, 0.146...  "
      ]
     },
     "execution_count": 73,
     "metadata": {},
     "output_type": "execute_result"
    }
   ],
   "source": [
<<<<<<< HEAD
    "raw_recipe_data.head()"
=======
    "raw_recipe_data['Instruction_Vectors'] = avg_sentence_vector(raw_recipe_data.FullInstruction.str.split(), model=word_vectors, num_features=100, index2word_set=stoplist)\n"
>>>>>>> 4e6b1feb7a4344add42e0dd57578c0e06f81c756
   ]
  },
  {
   "cell_type": "code",
   "execution_count": 77,
   "metadata": {},
   "outputs": [
    {
     "data": {
      "text/plain": [
       "(107,)"
      ]
     },
     "execution_count": 77,
     "metadata": {},
     "output_type": "execute_result"
    }
   ],
   "source": []
  },
  {
   "cell_type": "code",
   "execution_count": 74,
   "metadata": {},
   "outputs": [],
   "source": [
    "X_w2v = raw_recipe_data.Instruction_Vectors\n",
    "y_auth = raw_recipe_data.Author"
   ]
  },
  {
   "cell_type": "code",
   "execution_count": 68,
   "metadata": {},
   "outputs": [],
   "source": [
    "raw_recipe_data.loc[:,\"Instruction_Vectors\"] = raw_recipe_data.FullInstruction.apply(lambda x: avg_sentence_vector(x.split(), model = word_vectors, num_features = 100, index2word_set = stoplist))"
   ]
  },
  {
   "cell_type": "code",
   "execution_count": 37,
   "metadata": {},
   "outputs": [
    {
     "ename": "TypeError",
     "evalue": "unhashable type: 'list'",
     "output_type": "error",
     "traceback": [
      "\u001b[0;31m---------------------------------------------------------------------------\u001b[0m",
      "\u001b[0;31mTypeError\u001b[0m                                 Traceback (most recent call last)",
      "\u001b[0;32m<ipython-input-37-088e4f5b151f>\u001b[0m in \u001b[0;36m<module>\u001b[0;34m()\u001b[0m\n\u001b[0;32m----> 1\u001b[0;31m \u001b[0mraw_recipe_data\u001b[0m\u001b[0;34m[\u001b[0m\u001b[0;34m'Instruction_Vectors'\u001b[0m\u001b[0;34m]\u001b[0m \u001b[0;34m=\u001b[0m \u001b[0mavg_sentence_vector\u001b[0m\u001b[0;34m(\u001b[0m\u001b[0mraw_recipe_data\u001b[0m\u001b[0;34m.\u001b[0m\u001b[0mFullInstruction\u001b[0m\u001b[0;34m.\u001b[0m\u001b[0mstr\u001b[0m\u001b[0;34m.\u001b[0m\u001b[0msplit\u001b[0m\u001b[0;34m(\u001b[0m\u001b[0;34m)\u001b[0m\u001b[0;34m,\u001b[0m \u001b[0mmodel\u001b[0m\u001b[0;34m=\u001b[0m\u001b[0mword_vectors\u001b[0m\u001b[0;34m,\u001b[0m \u001b[0mnum_features\u001b[0m\u001b[0;34m=\u001b[0m\u001b[0;36m100\u001b[0m\u001b[0;34m,\u001b[0m \u001b[0mindex2word_set\u001b[0m\u001b[0;34m=\u001b[0m\u001b[0mstoplist\u001b[0m\u001b[0;34m)\u001b[0m\u001b[0;34m\u001b[0m\u001b[0m\n\u001b[0m",
      "\u001b[0;32m<ipython-input-36-842d7a2103c4>\u001b[0m in \u001b[0;36mavg_sentence_vector\u001b[0;34m(words, model, num_features, index2word_set)\u001b[0m\n\u001b[1;32m      5\u001b[0m \u001b[0;34m\u001b[0m\u001b[0m\n\u001b[1;32m      6\u001b[0m     \u001b[0;32mfor\u001b[0m \u001b[0mword\u001b[0m \u001b[0;32min\u001b[0m \u001b[0mwords\u001b[0m\u001b[0;34m:\u001b[0m\u001b[0;34m\u001b[0m\u001b[0m\n\u001b[0;32m----> 7\u001b[0;31m         \u001b[0;32mif\u001b[0m \u001b[0mword\u001b[0m \u001b[0;32mnot\u001b[0m \u001b[0;32min\u001b[0m \u001b[0mindex2word_set\u001b[0m\u001b[0;34m:\u001b[0m\u001b[0;34m\u001b[0m\u001b[0m\n\u001b[0m\u001b[1;32m      8\u001b[0m             \u001b[0mnwords\u001b[0m \u001b[0;34m=\u001b[0m \u001b[0mnwords\u001b[0m\u001b[0;34m+\u001b[0m\u001b[0;36m1\u001b[0m\u001b[0;34m\u001b[0m\u001b[0m\n\u001b[1;32m      9\u001b[0m             \u001b[0mfeatureVec\u001b[0m \u001b[0;34m=\u001b[0m \u001b[0mnp\u001b[0m\u001b[0;34m.\u001b[0m\u001b[0madd\u001b[0m\u001b[0;34m(\u001b[0m\u001b[0mfeatureVec\u001b[0m\u001b[0;34m,\u001b[0m \u001b[0mmodel\u001b[0m\u001b[0;34m[\u001b[0m\u001b[0mword\u001b[0m\u001b[0;34m]\u001b[0m\u001b[0;34m)\u001b[0m\u001b[0;34m\u001b[0m\u001b[0m\n",
      "\u001b[0;31mTypeError\u001b[0m: unhashable type: 'list'"
     ]
    }
   ],
   "source": [
    "raw_recipe_data['Instruction_Vectors'] = avg_sentence_vector(raw_recipe_data.FullInstruction.str.split(), model=word_vectors, num_features=100, index2word_set=stoplist)"
   ]
  },
  {
   "cell_type": "code",
   "execution_count": 41,
   "metadata": {},
   "outputs": [
    {
     "name": "stdout",
     "output_type": "stream",
     "text": [
      "['mix', 'grapefruit', 'orange', 'apples', 'pineapple', 'maraschino', 'cherries', 'and', 'grapes', 'in', 'a', 'large', 'bowl', 'mash', 'slightly', 'with', 'the', 'back', 'of', 'a', 'wooden', 'spoon', 'to', 'release', 'juices', 'add', 'bananas', 'coconut', 'walnuts', 'and', 'sugar', 'stir', 'to', 'coat', 'cover', 'and', 'refrigerate', 'to', 'blend', 'flavors', 'at', 'least', '1', 'hour']\n",
      "['fill', 'a', 'margarita', 'glass', 'with', 'crushed', 'ice', 'pour', 'tequila', 'melon', 'liqueur', 'and', 'triple', 'sec', 'into', 'the', 'glass', 'top', 'with', 'sour', 'mix', 'grenadine', 'lime', 'juice', 'and', 'orange', 'juice', 'garnish', 'with', 'the', 'cherry', 'and', 'a', 'wedge', 'of', 'orange']\n",
      "['preheat', 'an', 'oven', 'to', '350', 'degrees', 'f', '175', 'degrees', 'c', 'grease', '12', 'muffin', 'cups', 'or', 'line', 'with', 'paper', 'muffin', 'liners', 'stir', 'the', 'flour', 'cinnamon', 'nutmeg', 'allspice', 'cloves', 'pumpkin', 'pie', 'spice', 'cardamom', 'ginger', 'salt', 'and', 'baking', 'soda', 'together', 'in', 'a', 'bowl', 'beat', 'the', 'brown', 'sugar', 'and', 'the', 'eggs', 'together', 'with', 'an', 'electric', 'mixer', 'in', 'a', 'large', 'bowl', 'until', 'smooth', 'add', '12', 'cup', 'plus', '2', 'tablespoons', 'vegetable', 'oil', 'and', 'pumpkin', 'continue', 'beating', 'until', 'integrated', 'pour', 'the', 'flour', 'mixture', 'into', 'the', 'egg', 'mixture', 'and', 'beat', 'until', 'just', 'incorporated', 'fill', 'the', 'prepared', 'muffin', 'cups', 'about', 'halffull', 'with', 'the', 'batter', 'spoon', 'about', '1', 'teaspoon', 'cream', 'cheese', 'into', 'the', 'center', 'of', 'each', 'muffin', 'cup', 'and', 'poke', 'it', 'down', 'into', 'the', 'middle', 'of', 'the', 'batter', 'with', 'a', 'finger', 'sprinkle', 'the', 'sunflower', 'seeds', 'over', 'each', 'muffin', 'bake', 'in', 'the', 'preheated', 'oven', 'until', 'golden', 'and', 'the', 'tops', 'spring', 'back', 'when', 'lightly', 'pressed', 'about', '25', 'minutes', 'let', 'cool', 'in', 'pan', '5', 'minutes', 'and', 'remove', 'to', 'a', 'rack', 'to', 'cool', 'completely', 'be', 'extra', 'careful', 'the', 'cream', 'cheese', 'stays', 'hot', 'for', 'a', 'while']\n",
      "['mix', 'the', 'teriyaki', 'sauce', 'garlic', 'ginger', 'and', 'red', 'pepper', 'flakes', 'in', 'a', 'bowl', 'stir', 'in', 'the', 'chicken', 'pieces', 'until', 'thoroughly', 'coated', 'cover', 'the', 'bowl', 'and', 'refrigerate', 'the', 'chicken', '3', 'to', '4', 'hours', 'to', 'overnight', 'remove', 'a', 'piece', 'of', 'chicken', 'from', 'the', 'marinade', 'and', 'place', 'into', 'the', 'center', 'of', 'an', 'aluminum', 'square', 'fold', 'the', 'square', 'diagonally', 'over', 'the', 'chicken', 'piece', 'in', 'a', 'triangle', 'shape', 'fold', 'up', 'the', 'open', 'edges', 'of', 'the', 'triangle', 'several', 'times', 'and', 'press', 'tightly', 'together', 'to', 'seal', 'the', 'chicken', 'into', 'the', 'foil', 'repeat', 'with', 'remaining', 'chicken', 'pieces', 'discard', 'the', 'used', 'marinade', 'heat', 'oil', 'in', 'a', 'deepfryer', 'or', 'large', 'saucepan', 'to', '350', 'degrees', 'f', '175', 'degrees', 'c', 'gently', 'add', 'the', 'sealed', 'foil', 'packets', 'to', 'the', 'hot', 'oil', 'and', 'fry', 'until', 'the', 'chicken', 'is', 'tender', 'and', 'cooked', 'through', '2', 'to', '4', 'minutes', 'drain', 'the', 'packets', 'on', 'paper', 'towels', 'and', 'allow', 'to', 'cool', 'slightly', 'to', 'serve', 'tear', 'open', 'the', 'packets', 'along', 'the', 'sealed', 'edges']\n",
      "['fill', 'a', 'pint', 'glass', 'with', 'ice', 'and', 'pour', 'in', 'the', 'vodka', 'amaretto', 'peach', 'schnapps', 'coconut', 'rum', 'and', 'melon', 'liqueur', 'stir', 'pour', 'in', 'the', 'orange', 'juice', 'and', 'pineapple', 'juice', 'float', 'the', 'cranberry', 'juice', 'on', 'top', 'garnish', 'with', 'a', 'lemon', 'twist']\n",
      "['stir', 'the', 'salad', 'shrimp', 'tomatoes', 'onion', 'cilantro', 'lime', 'juice', 'salt', 'pepper', 'and', 'garlic', 'together', 'in', 'a', 'large', 'glass', 'bowl', 'cover', 'with', 'plastic', 'wrap', 'and', 'refrigerate', 'until', 'the', 'flavors', 'combine', 'at', 'least', '1', 'hour', 'serve', 'cold']\n",
      "['combine', 'butter', 'brown', 'sugar', 'and', 'confectioners', 'sugar', 'in', 'a', 'large', 'coffee', 'mug', 'stir', 'the', 'mixture', 'together', 'with', 'a', 'fork', 'until', 'well', 'combined', 'pour', 'in', 'the', 'rum', 'add', 'the', 'ice', 'cream', 'and', 'cinnamon', 'and', 'fill', 'the', 'remainder', 'of', 'the', 'mug', 'with', 'simmering', 'water', 'mix', 'the', 'drink', 'with', 'the', 'fork', 'until', 'the', 'ice', 'cream', 'and', 'butter', 'have', 'melted', 'together', 'to', 'make', 'a', 'creamy', 'topping', 'sprinkle', 'with', 'a', 'dash', 'of', 'nutmeg', 'and', 'serve']\n",
      "['beat', 'the', 'mascarpone', 'cheese', 'sugar', 'vanilla', 'extract', 'and', 'egg', 'yolk', 'in', 'a', 'bowl', 'until', 'lightly', 'and', 'creamy', 'cut', 'the', 'sponge', 'snack', 'cakes', 'in', 'half', 'lengthwise', 'then', 'in', 'half', 'widthwise', 'cutting', 'each', 'into', '4', 'pieces', 'press', 'two', 'cake', 'pieces', 'into', 'the', 'bottom', 'of', 'a', 'large', 'coffee', 'mug', 'creamsidedown', 'press', 'four', 'cake', 'pieces', 'around', 'the', 'inside', 'of', 'the', 'mug', 'repeat', 'with', 'a', 'second', 'mug', 'sprinkle', 'the', 'sponge', 'cake', 'with', '2', 'tablespoons', 'of', 'coffee', 'liqueur', 'per', 'mug', 'spoon', 'in', 'half', 'of', 'the', 'mascarpone', 'mixture', 'and', 'place', 'two', 'more', 'sponge', 'cake', 'halves', 'on', 'top', 'creamsidedown', 'sprinkle', 'the', 'tops', 'with', 'the', 'remaining', 'coffee', 'liqueur', 'wrap', 'with', 'plastic', 'wrap', 'and', 'refrigerate', 'at', 'least', '2', 'hours', 'before', 'serving']\n",
      "['place', 'cream', 'cheese', 'fromage', 'blanc', 'tomato', 'paste', 'cider', 'vinegar', 'worcestershire', 'sauce', 'onion', 'and', 'garlic', 'powder', 'in', 'a', 'bowl', 'add', 'sriracha', 'sauce', 'ghost', 'pepper', 'sauce', 'sweet', 'and', 'hot', 'paprika', 'chipotle', 'powder', 'and', 'cayenne', 'pepper', 'stir', 'until', 'well', 'combined', 'and', 'the', 'cheeses', 'are', 'completely', 'blended', 'in', 'cover', 'bowl', 'with', 'plastic', 'wrap', 'and', 'refrigerate', 'about', '3', 'hours', 'or', 'ideally', 'overnight', 'season', 'with', 'salt', 'if', 'desired', 'transfer', 'to', 'a', 'serving', 'bowl']\n",
      "['cut', 'small', 'shallow', 'x', 'on', 'the', 'bottom', 'of', 'each', 'tomato', 'remove', 'any', 'stems', 'place', 'some', 'ice', 'cubes', 'in', 'a', 'bowl', 'of', 'water', 'bring', 'a', 'pot', 'of', 'water', 'to', 'a', 'boil', 'over', 'mediumhigh', 'heat', 'add', 'tomatoes', 'and', 'stir', 'them', 'gently', 'until', 'skin', 'begins', 'to', 'peel', 'back', 'from', 'xs', 'about', '10', 'to', '20', 'seconds', 'immediately', 'transfer', 'tomatoes', 'to', 'ice', 'water', 'with', 'a', 'slotted', 'spoon', 'gently', 'peel', 'off', 'skins', 'and', 'place', 'naked', 'tomatoes', 'in', 'a', 'bowl', 'place', 'mint', 'leaves', 'in', 'a', 'small', 'bowl', 'add', 'vinegar', 'olive', 'oil', 'cayenne', 'pepper', 'salt', 'and', 'pepper', 'mix', 'until', 'well', 'blended', 'bruising', 'the', 'mint', 'leaves', 'to', 'release', 'the', 'flavor', 'drizzle', 'over', 'tomatoes', 'cover', 'and', 'refrigerate', 'until', 'thoroughly', 'chilled', '30', 'to', '60', 'minutes', 'about', 'halfway', 'through', 'chilling', 'gently', 'stir', 'to', 'coat', 'tomatoes', 'in', 'dressing', 'drizzle', 'with', 'a', 'few', 'drops', 'of', 'sherry', 'vinegar', 'and', 'olive', 'oil', 'if', 'desired', 'serve', 'drizzled', 'with', 'dressing', 'and', 'a', 'sprinkle', 'of', 'sea', 'salt']\n",
      "['place', 'potatoes', 'in', 'a', 'large', 'pot', 'with', 'water', 'bruise', 'the', 'rosemary', 'with', 'the', 'dull', 'side', 'of', 'a', 'knife', 'blade', 'and', 'place', 'in', 'the', 'pot', 'add', 'garlic', 'bay', 'leaves', 'and', 'salt', 'bring', 'to', 'a', 'boil', 'simmer', 'for', '5', 'minutes', 'drain', 'let', 'potatoes', 'air', 'dry', 'preheat', 'oven', 'to', '375', 'degrees', 'f', '190', 'degrees', 'c', 'when', 'potatoes', 'are', 'thoroughly', 'dry', 'transfer', 'them', 'back', 'to', 'the', 'pot', 'drizzle', 'with', 'olive', 'oil', 'cayenne', 'pepper', 'and', 'a', 'pinch', 'of', 'salt', 'stir', 'to', 'coat', 'transfer', 'potatoes', 'to', 'a', 'rimmed', 'sheet', 'pan', 'bake', 'until', 'potatoes', 'are', 'golden', 'brown', 'and', 'crusty', 'and', 'the', 'flesh', 'is', 'creamy', 'and', 'soft', 'about', '35', 'to', '45', 'minutes', 'depending', 'on', 'the', 'size', 'of', 'the', 'potatoes']\n",
      "['stir', 'cabbage', 'thousand', 'island', 'dressing', 'rice', 'vinegar', 'hot', 'sauce', 'and', 'salt', 'together', 'in', 'a', 'bowl', 'with', 'a', 'fork', 'until', 'evenly', 'mixed']\n",
      "['whisk', 'together', 'ground', 'coffee', 'and', 'cold', 'water', 'in', 'a', 'small', 'bowl', 'cover', 'with', 'plastic', 'wrap', 'and', 'set', 'aside', 'for', '12', 'hours', 'whisk', 'then', 'strain', 'through', 'a', 'funnel', 'lined', 'with', 'a', 'moistened', 'paper', 'towel', 'into', 'a', 'bowl', 'place', 'ice', 'cream', 'scoops', 'in', '2', 'coffee', 'or', 'espresso', 'cups', 'pour', '14', 'to', '12', 'cup', 'cold', 'coffee', 'over', 'the', 'top', 'of', 'each', 'garnish', 'with', 'shaved', 'dark', 'chocolate']\n",
      "['mix', 'mayonnaise', 'vinegar', 'horseradish', 'lemon', 'juice', 'black', 'pepper', 'mustard', 'salt', 'cayenne', 'pepper', 'and', 'garlic', 'powder', 'together', 'in', 'a', 'bowl', 'whisk', 'together', 'thoroughly', 'until', 'creamy', 'and', 'smooth', 'cover', 'and', 'refrigerate', 'until', 'ready', 'to', 'use']\n",
      "['place', 'half', 'the', 'ground', 'beef', 'on', 'a', 'sheet', 'of', 'plastic', 'wrap', 'pat', 'it', 'into', 'a', 'rectangular', 'shape', 'about', '12', 'inch', 'thick', '8', '12', 'inches', 'long', 'and', '4', 'inches', 'wide', 'season', 'with', 'salt', 'and', 'pepper', 'roll', 'the', 'beef', 'into', 'a', 'log', 'using', 'the', 'plastic', 'wrap', 'as', 'a', 'guide', 'season', 'with', 'more', 'salt', 'and', 'pepper', 'wrap', 'the', 'plastic', 'tightly', 'around', 'the', 'log', 'and', 'twist', 'both', 'ends', 'tight', 'pat', 'gently', 'to', 'slightly', 'flatten', 'repeat', 'with', 'remaining', 'ground', 'beef', 'preheat', 'an', 'outdoor', 'grill', 'for', 'mediumhigh', 'heat', 'and', 'lightly', 'oil', 'the', 'grate', 'remove', 'the', 'burger', 'dogs', 'from', 'the', 'plastic', 'wrap', 'and', 'place', 'on', 'the', 'grill', 'perpendicular', 'to', 'the', 'grates', 'cook', 'until', 'burgers', 'are', 'browned', 'but', 'still', 'pink', 'inside', '4', 'to', '5', 'minutes', 'flip', 'and', 'cook', 'another', '2', 'to', '3', 'minutes', 'place', 'a', 'slice', 'of', 'cheese', 'on', 'each', 'burger', 'dog', 'and', 'grill', 'to', 'medium', 'doneness', 'an', 'instantread', 'thermometer', 'inserted', 'into', 'the', 'center', 'should', 'read', 'at', 'least', '140', 'degrees', 'f60', 'degrees', 'c', 'remove', 'and', 'rest', '3', 'to', '4', 'minutes', 'toast', 'hot', 'dog', 'buns', 'on', 'the', 'grill', 'and', 'spread', 'each', 'with', '2', 'teaspoons', 'mayonnaise', 'place', 'burger', 'dog', 'on', 'each', 'bun', 'and', 'squirt', '1', 'tablespoon', 'of', 'ketchup', 'on', 'top']\n",
      "['combine', 'chopped', 'almonds', 'and', 'parsley', 'on', 'a', 'cutting', 'board', 'chop', 'together', 'again', 'until', 'very', 'finely', 'chopped', 'transfer', 'almond', 'mixture', 'to', 'a', 'bowl', 'and', 'add', 'garlic', 'stir', 'olive', 'oil', 'into', 'almond', 'mixture', 'until', 'a', 'thick', 'sauce', 'forms']\n",
      "['preheat', 'oven', 'to', '375', 'degrees', 'f', '190', 'degrees', 'c', 'line', 'a', 'baking', 'sheet', 'with', 'a', 'silicon', 'mat', 'or', 'parchment', 'paper', 'mash', 'the', 'butter', 'white', 'sugar', 'and', 'brown', 'sugar', 'together', 'in', 'a', 'large', 'mixing', 'bowl', 'with', 'a', 'spatula', 'until', 'creamy', 'and', 'smooth', '2', 'to', '3', 'minutes', 'add', 'the', 'egg', 'and', 'vanilla', 'whisk', 'vigorously', 'for', '20', 'to', '30', 'seconds', 'whisk', 'the', 'flour', 'salt', 'and', 'baking', 'soda', 'together', 'in', 'a', 'small', 'bowl', 'dump', 'into', 'the', 'butter', 'mixture', 'and', 'mix', 'until', 'just', 'combined', 'fold', 'the', 'semisweet', 'chocolate', 'chips', 'white', 'chocolate', 'chips', 'and', 'milk', 'chocolate', 'chips', 'into', 'the', 'mixture', 'arrange', 'onto', 'the', 'prepared', 'baking', 'sheet', 'using', 'a', 'small', 'scoop', 'or', 'large', 'spoon', 'bake', 'in', 'the', 'preheated', 'oven', 'until', 'golden', 'brown', 'about', '10', 'minutes', 'remove', 'from', 'oven', 'and', 'allow', 'to', 'cool', 'on', 'the', 'sheet', 'for', '10', 'minutes', 'transfer', 'to', 'a', 'wire', 'rack', 'to', 'finish', 'cooling', 'completely']\n",
      "['place', 'potatoes', 'into', 'a', 'large', 'pot', 'and', 'cover', 'with', 'salted', 'water', 'bring', 'to', 'a', 'boil', 'reduce', 'heat', 'to', 'mediumlow', 'and', 'simmer', 'until', 'tender', 'about', '20', 'minutes', 'drain', 'and', 'rinse', 'with', 'cold', 'water', 'until', 'cool', 'enough', 'to', 'handle', 'peel', 'potatoes', 'and', 'cut', 'into', '12inch', 'cubes', 'heat', 'oil', 'in', 'a', 'skillet', 'over', 'medium', 'heat', 'cook', 'and', 'stir', 'white', 'and', 'light', 'green', 'onion', 'pieces', 'until', 'soft', 'and', 'slightly', 'golden', '3', 'to', '5', 'minutes', 'add', 'garlic', 'stir', 'and', 'remove', 'skillet', 'from', 'heat', 'stir', 'potatoes', 'green', 'oniongarlic', 'mixture', 'dark', 'green', 'onion', 'pieces', 'yogurt', 'yellow', 'mustard', 'cayenne', 'pepper', 'salt', 'and', 'black', 'pepper', 'together', 'in', 'a', 'bowl', 'until', 'evenly', 'combined']\n",
      "['combine', 'orzo', 'wild', 'rice', 'orange', 'bell', 'pepper', 'red', 'bell', 'pepper', 'corn', 'currants', 'and', 'red', 'onion', 'together', 'in', 'a', 'large', 'bowl', 'blend', 'vegetable', 'oil', 'sugar', 'white', 'wine', 'vinegar', 'cider', 'vinegar', 'minced', 'onion', 'white', 'pepper', 'paprika', 'garlic', 'powder', 'and', '1', 'pinch', 'salt', 'together', 'in', 'a', 'blender', 'or', 'food', 'processor', 'until', 'smooth', 'mix', 'pecans', 'almonds', 'and', 'parsley', 'into', 'orzo', 'mixture', 'drizzle', 'enough', 'dressing', 'to', 'coat', 'salad', 'toss', 'to', 'evenly', 'coat', 'season', 'with', 'salt', 'and', 'black', 'pepper']\n",
      "['preheat', 'oven', 'to', '400', 'degrees', 'f', '200', 'degrees', 'c', 'spray', 'a', '9x13inch', 'baking', 'pan', 'or', 'cast', 'iron', 'skillet', 'with', 'cooking', 'spray', 'pour', 'in', 'about', '1', 'teaspoon', 'vegetable', 'oil', 'to', 'coat', 'the', 'bottom', 'mix', 'parmesan', 'cheese', 'salt', 'garlic', 'powder', 'paprika', 'and', 'black', 'pepper', 'together', 'in', 'a', 'bowl', 'blot', 'the', 'cutside', 'of', 'potatoes', 'with', 'a', 'paper', 'towel', 'to', 'remove', 'any', 'moisture', 'place', 'potatoes', 'in', 'a', 'bowl', 'and', 'drizzle', 'with', '1', 'tablespoon', 'vegetable', 'oil', 'toss', 'until', 'potatoes', 'are', 'lightly', 'coated', 'sprinkle', 'potatoes', 'with', 'parmesan', 'cheese', 'mixture', 'toss', 'to', 'coat', 'arrange', 'potatoes', 'cutside', 'down', 'onto', 'the', 'prepared', 'baking', 'pan', 'bake', 'in', 'the', 'preheated', 'oven', 'for', '15', 'to', '20', 'minutes', 'turn', 'potatoes', 'to', 'cutside', 'up', 'continue', 'baking', 'until', 'golden', 'and', 'crispy', 'about', '15', 'to', '20', 'more', 'minutes', 'serve', 'with', 'sour', 'cream']\n",
      "['preheat', 'oven', 'to', '350', 'degrees', 'f', '175', 'degrees', 'c', 'lightly', 'grease', '2', 'large', 'baking', 'sheets', 'combine', 'water', 'mashed', 'bananas', 'honey', 'vanilla', 'and', 'egg', 'in', 'a', 'large', 'bowl', 'stir', 'in', 'wholewheat', 'flour', 'and', 'baking', 'powder', 'beat', 'dough', 'with', 'an', 'electric', 'mixer', 'on', 'medium', 'speed', 'until', 'ingredients', 'are', 'thoroughly', 'combined', '1', 'to', '2', 'minutes', 'turn', 'dough', 'onto', 'a', 'floured', 'surface', 'and', 'knead', 'until', 'no', 'longer', 'sticky', '5', 'to', '8', 'minutes', 'roll', 'out', 'dough', 'to', '14inch', 'thickness', 'and', 'cut', 'into', 'mini', 'shapes', 'with', 'your', 'favorite', 'cookie', 'cutter', 'place', 'dough', 'shapes', 'on', 'prepared', 'baking', 'sheets', 'bake', 'in', 'preheated', 'oven', 'until', 'cookies', 'are', 'lightly', 'browned', 'about', '20', 'minutes', 'turn', 'off', 'the', 'oven', 'and', 'leave', 'cookies', 'until', 'thoroughly', 'dry', 'and', 'crisp', '30', 'to', '40', 'more', 'minutes', 'remove', 'baking', 'sheets', 'from', 'oven', 'and', 'allow', 'cookies', 'to', 'cool', 'on', 'pans', 'for', '10', 'minutes', 'transfer', 'cookies', 'to', 'wire', 'rack', 'to', 'fully', 'cool']\n",
      "['preheat', 'oven', 'to', '350', 'degrees', 'f', '175', 'degrees', 'c', 'lightly', 'grease', 'baking', 'sheets', 'or', 'line', 'them', 'with', 'parchment', 'paper', 'in', 'a', 'large', 'bowl', 'whisk', 'the', 'whole', 'wheat', 'flour', 'and', 'baking', 'powder', 'together', 'until', 'thoroughly', 'combined', 'and', 'stir', 'in', 'the', 'cooked', 'turkey', 'meat', 'and', 'dried', 'cranberries', 'make', 'a', 'well', 'in', 'the', 'center', 'of', 'the', 'flour', 'mixture', 'and', 'drop', 'the', 'egg', 'into', 'the', 'center', 'pour', 'in', 'the', 'olive', 'oil', 'and', 'about', '12', 'cup', 'of', 'chicken', 'broth', 'mix', 'into', 'a', 'soft', 'dough', 'if', 'mixture', 'is', 'too', 'dry', 'mix', 'in', 'more', 'chicken', 'broth', 'about', '1', 'tablespoon', 'at', 'a', 'time', 'until', 'dough', 'is', 'of', 'desired', 'consistency', 'turn', 'the', 'dough', 'out', 'onto', 'a', 'floured', 'work', 'surface', 'and', 'knead', 'for', '1', 'to', '2', 'minutes', 'roll', 'the', 'dough', 'out', '14', 'inch', 'thick', 'and', 'cut', 'out', 'with', 'your', 'favorite', 'cookie', 'cutters', 'bake', 'until', 'the', 'treats', 'turn', 'brown', 'about', '25', 'minutes', 'turn', 'the', 'oven', 'off', 'and', 'leave', 'the', 'dog', 'treats', 'in', 'the', 'oven', 'an', 'additional', '30', 'minutes', 'to', 'dry', 'out', 'refrigerate', 'leftover', 'dog', 'treats']\n",
      "['preheat', 'an', 'oven', 'to', '400', 'degrees', 'f', '200', 'degrees', 'c', 'lightly', 'grease', '2', 'large', 'baking', 'sheets', 'mix', 'the', 'whole', 'wheat', 'flour', 'cornmeal', 'rolled', 'oats', 'and', 'baking', 'powder', 'together', 'in', 'a', 'bowl', 'lightly', 'mix', 'the', 'water', 'applesauce', 'and', 'vanilla', 'extract', 'into', 'the', 'flour', 'mixture', 'stir', 'the', 'eggs', 'and', 'peanut', 'butter', 'into', 'the', 'mixture', 'turn', 'the', 'dough', 'onto', 'a', 'floured', 'surface', 'and', 'knead', 'until', 'no', 'longer', 'sticky', 'about', '1', 'minute', 'roll', 'out', 'the', 'dough', 'to', '14inch', 'thickness', 'cut', 'into', '75', 'small', 'squares', 'and', 'arrange', 'onto', 'baking', 'sheets', 'bake', 'in', 'the', 'preheated', 'oven', 'for', '15', 'minutes', 'turn', 'the', 'oven', 'off', 'and', 'allow', 'the', 'treats', 'to', 'sit', 'in', 'the', 'oven', 'as', 'it', 'cools', 'another', '30', 'minutes', 'remove', 'the', 'treats', 'from', 'the', 'oven', 'allow', 'the', 'treats', 'to', 'cool', 'on', 'the', 'baking', 'sheets', 'for', '10', 'minutes', 'before', 'removing', 'to', 'a', 'wire', 'rack', 'to', 'cool', 'completely']\n",
      "['stir', 'milk', 'schnapps', 'irish', 'cream', 'liqueur', 'vodka', 'and', 'coffeeflavored', 'liqueur', 'together', 'in', 'a', 'bowl', 'add', 'pudding', 'mix', 'and', 'blend', 'thoroughly', 'spoon', 'into', 'disposable', 'shot', 'cups', 'and', 'refrigerate', 'until', 'chilled', 'at', 'least', '30', 'minutes']\n",
      "['stir', 'milk', 'vodka', 'and', 'pudding', 'mix', 'together', 'in', 'a', 'bowl', 'until', 'mixture', 'thickens', 'fold', 'in', 'whipped', 'topping', 'spoon', 'into', 'disposable', 'shot', 'cups', 'and', 'refrigerate', 'until', 'chilled', 'at', 'least', '30', 'minutes']\n",
      "['combine', 'coriander', 'cumin', 'garlic', 'powder', 'ginger', 'cloves', 'mace', 'fenugreek', 'cinnamon', 'black', 'pepper', 'cardamom', 'and', 'nutmeg', 'together', 'in', 'a', 'bowl', 'store', 'in', 'an', 'airtight', 'container']\n",
      "['place', 'the', 'avocados', 'into', 'a', 'mixing', 'bowl', 'mash', 'with', 'a', 'fork', 'mix', 'in', 'cream', 'cheese', 'cottage', 'cheese', 'onion', 'chili', 'peppers', 'and', 'salsa', 'season', 'with', 'garlic', 'salt', 'lemon', 'juice', 'and', 'salt', 'and', 'pepper']\n",
      "['heat', 'the', 'vegetable', 'oil', 'in', 'a', 'skillet', 'over', 'medium', 'heat', 'and', 'brown', 'the', 'ribs', 'on', 'all', 'sides', 'transfer', 'to', 'a', 'slow', 'cooker', 'place', 'onion', 'in', 'the', 'skillet', 'cook', 'until', 'tender', 'and', 'transfer', 'to', 'the', 'slow', 'cooker', 'place', 'the', 'chicken', 'in', 'the', 'slow', 'cooker', 'and', 'mix', 'in', 'tomatoes', 'ketchup', 'steak', 'sauce', 'cider', 'vinegar', 'worcestershire', 'sauce', 'hot', 'sauce', 'lemon', 'chicken', 'bouillon', 'and', 'pepper', 'cover', 'and', 'cook', '6', 'hours', 'on', 'high', 'remove', 'ribs', 'discard', 'bones', 'and', 'shred', 'return', 'meat', 'to', 'slow', 'cooker', 'mix', 'in', 'corn', 'and', 'lima', 'beans', 'cover', 'and', 'continue', 'cooking', '2', 'hours', 'on', 'high']\n",
      "['bring', 'a', 'large', 'pot', 'of', 'lightly', 'salted', 'water', 'to', 'a', 'boil', 'add', 'the', 'macaroni', 'and', 'cook', 'until', 'tender', 'about', '8', 'minutes', 'drain', 'and', 'rinse', 'under', 'cold', 'running', 'water', 'in', 'a', 'large', 'bowl', 'stir', 'together', 'the', 'macaroni', 'tuna', 'celery', 'onion', 'and', 'peas', 'mix', 'in', 'the', 'mayonnaise', 'relish', 'salt', 'and', 'pepper', 'garnish', 'with', 'egg', 'wedges', 'and', 'a', 'sprinkle', 'of', 'paprika', 'cover', 'and', 'chill', 'for', 'at', 'least', '1', 'hour', 'before', 'serving']\n",
      "['combine', 'red', 'wine', 'vinegar', 'water', 'vegetable', 'oil', 'olive', 'oil', 'lemon', 'juice', 'worcestershire', 'sauce', 'garlic', 'salt', 'pepper', 'sugar', 'and', 'mustard', 'together', 'in', 'a', 'bowl', 'until', 'dressing', 'is', 'smooth', 'place', 'chopped', 'lettuce', 'and', 'watercress', 'in', 'a', 'large', 'salad', 'bowl', 'arrange', 'tomatoes', 'turkey', 'eggs', 'blue', 'cheese', 'bacon', 'and', 'avocados', 'on', 'top', 'add', 'desired', 'amount', 'of', 'dressing', 'before', 'serving', 'and', 'toss']\n",
      "['place', 'the', 'cranberries', 'into', 'a', 'food', 'processor', 'and', 'pulse', 'until', 'finely', 'chopped', 'they', 'should', 'still', 'have', 'some', 'texture', 'transfer', 'to', 'a', 'serving', 'bowl', 'and', 'stir', 'in', 'the', 'sugar', 'orange', 'liqueur', 'cucumber', 'celery', 'and', 'jalapeno', 'let', 'sit', 'at', 'room', 'temperature', 'for', '15', 'minutes', 'before', 'serving', 'to', 'blend', 'the', 'flavors']\n",
      "['place', 'the', 'bouillon', 'cubes', 'in', 'a', 'medium', 'pot', 'filled', 'with', 'water', 'and', 'bring', 'to', 'a', 'boil', 'place', 'orzo', 'in', 'the', 'pot', 'when', 'bouillon', 'has', 'dissolved', 'and', 'cook', '8', 'minutes', 'until', 'al', 'dente', 'drain', 'transfer', 'orzo', 'to', 'a', 'large', 'bowl', 'and', 'toss', 'with', 'roasted', 'red', 'peppers', 'kalamata', 'olives', 'artichoke', 'hearts', 'and', 'parmesan']\n",
      "['in', 'a', 'bowl', 'mix', 'together', 'the', 'tomatoes', 'the', '13', 'cup', 'chopped', 'onion', '2', 'of', 'the', '4', 'cloves', 'of', 'minced', 'garlic', 'serrano', 'chile', 'pepper', 'lime', 'juice', 'and', 'cilantro', 'stir', 'in', 'salt', 'and', 'pepper', 'to', 'taste', 'and', 'set', 'aside', 'place', 'the', 'ground', 'turkey', 'in', 'a', 'bowl', 'add', 'the', 'egg', 'the', '12', 'onion', 'minced', 'remaining', '2', 'cloves', 'minced', 'garlic', 'coriander', 'celery', 'salt', 'chili', 'powder', 'cumin', 'and', 'chopped', 'parsley', 'using', 'your', 'hands', 'work', 'the', 'mixture', 'until', 'all', 'ingredients', 'are', 'evenly', 'blended', 'form', 'mixture', 'into', '4', 'patties', 'heat', 'a', 'large', 'nonstick', 'skillet', 'for', 'mediumhigh', 'heat', 'cook', 'the', 'turkey', 'burgers', 'for', '5', 'minutes', 'per', 'side', 'or', 'until', 'no', 'longer', 'pink', 'in', 'the', 'center', 'and', 'juices', 'run', 'clear', 'reduce', 'the', 'heat', 'as', 'necessary', 'during', 'cooking', 'serve', 'with', 'pico', 'de', 'gallo', 'salsa']\n",
      "['spread', 'the', 'lettuce', 'out', 'on', 'a', 'large', 'serving', 'dish', 'or', 'bowl', 'sprinkle', 'the', 'onion', 'celery', 'water', 'chestnuts', 'and', 'frozen', 'peas', 'unthawed', 'over', 'the', 'lettuce', 'in', 'layers', 'spread', 'mayonnaise', 'over', 'the', 'top', 'like', 'a', 'frosting', 'sprinkle', 'with', 'sugar', 'and', 'grated', 'cheese', 'cover', 'and', 'refrigerate', 'overnight', 'place', 'bacon', 'in', 'a', 'large', 'deep', 'skillet', 'cook', 'over', 'mediumhigh', 'heat', 'until', 'evenly', 'brown', 'drain', 'crumble', 'and', 'set', 'aside', 'before', 'serving', 'sprinkle', 'crumbled', 'bacon', 'over', 'the', 'top', 'and', 'garnish', 'with', 'tomato', 'wedges', 'slices', 'of', 'hardcooked', 'egg', 'and', 'parsley']\n",
      "['preheat', 'the', 'oven', 'to', '350', 'degrees', 'f', '175', 'degrees', 'c', 'if', 'you', 'are', 'not', 'using', 'a', 'nonstick', 'muffin', 'pan', 'grease', '5', 'cups', 'of', 'a', 'regular', 'muffin', 'pan', 'in', 'a', 'medium', 'bowl', 'stir', 'together', 'the', 'flour', 'milk', 'and', 'mayonnaise', 'spoon', 'into', 'the', '5', 'prepared', 'muffin', 'cups', 'bake', 'for', '15', 'minutes', 'in', 'the', 'preheated', 'oven', 'or', 'until', 'nicely', 'puffed', 'and', 'browned']\n",
      "['place', 'potatoes', 'in', 'pressure', 'cooker', 'with', 'water', 'cook', 'on', 'high', 'pressure', '3', 'minutes', 'if', 'potatoes', 'are', 'larger', 'cook', 'for', '4', 'minutes', 'let', 'steam', 'release', 'for', '3', 'minutes', 'then', 'quickly', 'release', 'pressure', 'and', 'open', 'cooker', 'peel', 'and', 'dice', 'potatoes', 'when', 'they', 'are', 'cool', 'enough', 'to', 'handle', 'alternate', 'layers', 'of', 'potatoes', 'onion', 'and', 'celery', 'in', 'a', 'large', 'bowl', 'season', 'each', 'layer', 'with', 'salt', 'and', 'pepper', 'top', 'with', 'the', 'chopped', 'egg', 'and', 'sprinkle', 'with', 'dill', 'mix', 'together', 'the', 'mayonnaise', 'mustard', 'and', 'cider', 'vinegar', 'in', 'a', 'small', 'bowl', 'gently', 'fold', 'the', 'mayonnaise', 'mixture', 'into', 'the', 'potatoes', 'chill', 'at', 'least', 'one', 'hour', 'before', 'serving']\n",
      "['heat', 'a', 'large', 'pot', 'over', 'mediumhigh', 'heat', 'and', 'stir', 'in', 'the', 'sausage', 'cook', 'and', 'stir', 'until', 'sausage', 'is', 'crumbly', 'evenly', 'browned', 'and', 'no', 'longer', 'pink', 'about', '5', 'minutes', 'drain', 'and', 'discard', 'any', 'excess', 'grease', 'stir', 'onion', 'and', 'red', 'bell', 'pepper', 'into', 'sausage', 'cook', 'and', 'stir', 'until', 'vegetables', 'begin', 'to', 'soften', 'about', '3', 'minutes', 'pour', 'water', 'into', 'the', 'pot', 'add', 'swiss', 'chard', 'chicken', 'bouillon', 'garlic', 'salt', 'and', 'italian', 'seasoning', 'cover', 'and', 'reduce', 'heat', 'to', 'mediumlow', 'simmer', 'until', 'vegetables', 'are', 'very', 'tender', 'about', '20', 'minutes', 'sprinkle', 'soup', 'with', 'parmesan', 'cheese', 'before', 'serving']\n",
      "['preheat', 'an', 'oven', 'to', '500', 'degrees', 'f', '260', 'degrees', 'c', 'place', 'the', 'bell', 'peppers', 'onto', 'a', 'baking', 'sheet', 'roast', 'in', 'the', 'preheated', 'oven', 'until', 'the', 'skins', 'are', 'nicely', 'blackened', 'about', '30', 'minutes', 'turn', 'the', 'peppers', 'once', 'halfway', 'through', 'to', 'ensure', 'even', 'cooking', 'once', 'blackened', 'place', 'the', 'peppers', 'into', 'a', 'bowl', 'cover', 'with', 'foil', 'and', 'allow', 'to', 'steam', '20', 'to', '30', 'minutes', 'meanwhile', 'whisk', 'together', 'the', 'olive', 'oil', 'vinegar', 'salt', 'pepper', 'garlic', 'and', 'capers', 'in', 'a', 'bowl', 'set', 'aside', 'once', 'the', 'peppers', 'have', 'finished', 'steaming', 'remove', 'and', 'discard', 'the', 'stems', 'skins', 'and', 'seeds', 'cut', 'the', 'peppers', 'into', 'quarters', 'and', 'stir', 'into', 'the', 'vinaigrette', 'cover', 'with', 'plastic', 'wrap', 'and', 'refrigerate', 'at', 'least', '30', 'minutes', 'before', 'serving']\n",
      "['preheat', 'an', 'outdoor', 'grill', 'for', 'mediumhigh', 'heat', 'and', 'lightly', 'oil', 'the', 'grate', 'whisk', 'garlic', 'olive', 'oil', 'rosemary', 'mustard', 'lemon', 'juice', 'ground', 'black', 'pepper', 'and', 'salt', 'together', 'in', 'a', 'bowl', 'place', 'chicken', 'breasts', 'in', 'a', 'resealable', 'plastic', 'bag', 'pour', 'garlic', 'mixture', 'over', 'chicken', 'reserving', '18', 'cup', 'seal', 'bag', 'and', 'massage', 'marinade', 'into', 'chicken', 'let', 'stand', 'for', '30', 'minutes', 'at', 'room', 'temperature', 'place', 'chicken', 'on', 'preheated', 'grill', 'and', 'cook', 'for', '4', 'minutes', 'turn', 'the', 'chicken', 'baste', 'with', 'reserved', 'marinade', 'and', 'continue', 'to', 'grill', 'until', 'cooked', 'through', 'about', '5', 'minutes', 'cover', 'with', 'foil', 'and', 'let', 'rest', 'for', 'at', 'least', '2', 'minutes', 'before', 'serving']\n",
      "['preheat', 'oven', 'to', '400', 'degrees', 'f', '200', 'degrees', 'c', 'cut', 'each', 'potato', 'into', '4', 'thick', 'slices', 'stopping', 'before', 'you', 'cut', 'through', 'the', 'bottom', 'drizzle', 'butter', 'over', 'slices', 'season', 'with', 'salt', 'and', 'pepper', 'sprinkle', '1', 'teaspoon', 'bacon', 'bits', 'between', 'the', 'slices', 'wrap', 'potatoes', 'in', 'aluminum', 'foil', 'transfer', 'to', 'a', 'rimmed', 'baking', 'sheet', 'bake', 'in', 'the', 'preheated', 'oven', 'until', 'tender', '45', 'to', '60', 'minutes', 'garnish', 'potatoes', 'with', 'sour', 'cream', 'cheddar', 'cheese', 'and', 'chives']\n",
      "['preheat', 'oven', 'to', '425', 'degrees', 'f', '220', 'degrees', 'c', 'spray', 'a', '3quart', 'casserole', 'dish', 'with', 'cooking', 'spray', 'combine', 'tomato', 'sauce', 'with', 'chili', 'powder', 'and', '12', 'cup', 'water', 'or', 'as', 'desired', 'in', 'a', 'small', 'saucepan', 'over', 'medium', 'heat', 'bring', 'to', 'a', 'simmer', 'and', 'stir', 'to', 'make', 'a', 'pourable', 'sauce', 'remove', 'from', 'heat', 'and', 'set', 'enchilada', 'sauce', 'aside', 'cook', 'and', 'stir', 'ground', 'turkey', 'onion', 'and', '1', 'envelope', 'of', 'taco', 'seasoning', 'mix', 'in', 'a', 'large', 'skillet', 'over', 'medium', 'heat', 'chopping', 'turkey', 'as', 'you', 'cook', 'until', 'meat', 'is', 'crumbly', 'and', 'no', 'longer', 'pink', 'about', '10', 'minutes', 'stir', 'in', '23', 'cup', 'water', 'and', 'remaining', 'envelope', 'of', 'taco', 'seasoning', 'mix', 'and', 'cook', 'stirring', 'often', 'until', 'moisture', 'has', 'evaporated', 'from', 'turkey', 'mixture', 'mix', '1', 'cup', 'of', 'enchilada', 'sauce', 'into', 'turkey', 'mixture', 'and', 'remove', 'skillet', 'from', 'heat', 'to', 'layer', 'the', 'casserole', 'spread', '8', 'tortilla', 'halves', 'into', 'the', 'bottom', 'of', 'the', 'prepared', 'baking', 'dish', 'overlapping', 'as', 'necessary', 'to', 'fit', 'toss', 'sharp', 'cheddar', 'cheese', 'and', 'monterey', 'jack', 'cheese', 'together', 'in', 'a', 'bowl', 'and', 'spread', '14', 'of', 'the', 'cheese', 'mixture', 'over', 'the', 'tortillas', 'in', 'an', 'even', 'layer', 'top', 'with', '13', 'the', 'turkey', 'mixture', '13', 'the', 'lettuce', '13', 'the', 'chopped', 'tomatoes', 'and', 'about', '13', 'cup', 'of', 'the', 'remaining', 'sauce', 'repeat', 'layers', 'twice', 'more', 'place', '8', 'tortilla', 'halves', 'on', 'top', 'of', 'the', 'casserole', 'and', 'spread', 'with', 'remaining', '1', '14', 'cup', 'shredded', 'cheese', 'mixture', 'bake', 'in', 'the', 'preheated', 'oven', 'until', 'cheese', 'on', 'top', 'of', 'casserole', 'is', 'melted', 'and', 'browned', '20', 'to', '30', 'minutes']\n",
      "['heat', 'the', 'olive', 'oil', 'in', 'a', 'skillet', 'over', 'medium', 'heat', 'cook', 'the', 'onion', 'and', 'bell', 'pepper', 'in', 'the', 'hot', 'oil', 'until', 'they', 'begin', 'to', 'soften', 'about', '5', 'minutes', 'add', 'the', 'garlic', 'and', 'ground', 'turkey', 'to', 'the', 'skillet', 'cook', 'and', 'stir', 'until', 'the', 'turkey', 'is', 'completely', 'crumbled', 'and', 'browned', 'another', '5', 'to', '7', 'minutes', 'stir', 'the', 'pureed', 'tomatoes', 'barbeque', 'sauce', 'ketchup', 'vinegar', 'worcestershire', 'sauce', 'mustard', 'and', 'chilegarlic', 'sauce', 'into', 'the', 'turkey', 'mixture', 'simmer', 'until', 'completely', 'heated', '7', 'to', '10', 'minutes', 'more']\n",
      "['stir', 'celery', 'flakes', 'salt', 'paprika', 'garlic', 'powder', 'onion', 'powder', 'thyme', 'sage', 'black', 'pepper', 'rosemary', 'and', 'cayenne', 'pepper', 'together', 'in', 'a', 'bowl', 'transfer', 'spice', 'mixture', 'to', 'a', 'spice', 'grinder', 'or', 'food', 'processor', 'and', 'blend', 'until', 'smooth']\n",
      "['preheat', 'oven', 'to', '400', 'degrees', 'f', '200', 'degrees', 'c', 'mix', 'chickpeas', 'nutritional', 'yeast', 'olive', 'oil', 'chili', 'powder', 'onion', 'powder', 'and', 'salt', 'together', 'in', 'a', 'bowl', 'until', 'combined', 'spread', 'evenly', 'on', 'a', 'rimmed', 'baking', 'sheet', 'bake', 'in', 'the', 'preheated', 'oven', 'shaking', 'the', 'pan', 'occasionally', 'to', 'redistribute', 'chickpeas', 'until', 'crispy', '30', 'to', '40', 'minutes']\n",
      "['combine', 'popcorn', 'kernels', 'and', 'oil', 'in', 'a', 'deep', 'pot', 'over', 'high', 'heat', 'and', 'place', 'a', 'cover', 'on', 'the', 'pot', 'cook', 'the', 'popcorn', 'frequently', 'shaking', 'the', 'pot', 'to', 'move', 'the', 'kernels', 'until', 'the', 'sound', 'of', 'kernels', 'popping', 'slows', 'to', 'nearly', 'a', 'stop', 'about', '7', 'minutes', 'carefully', 'pour', 'popcorn', 'into', 'a', 'large', 'mixing', 'bowl', 'sprinkle', 'lime', 'zest', 'and', 'salt', 'over', 'the', 'popcorn', 'whisk', 'lime', 'juice', 'melted', 'butter', 'and', 'sriracha', 'sauce', 'together', 'in', 'a', 'bowl', 'drizzle', 'over', 'popcorn', 'and', 'toss', 'to', 'coat']\n",
      "['combine', 'hot', 'chocolate', 'irish', 'cream', 'liqueur', 'and', 'creme', 'de', 'cacao', 'in', 'a', 'coffee', 'glass', 'or', 'mug']\n",
      "['mix', 'the', 'teriyaki', 'sauce', 'garlic', 'ginger', 'and', 'red', 'pepper', 'flakes', 'in', 'a', 'bowl', 'stir', 'in', 'the', 'chicken', 'pieces', 'until', 'thoroughly', 'coated', 'cover', 'the', 'bowl', 'and', 'refrigerate', 'the', 'chicken', '3', 'to', '4', 'hours', 'to', 'overnight', 'remove', 'a', 'piece', 'of', 'chicken', 'from', 'the', 'marinade', 'and', 'place', 'into', 'the', 'center', 'of', 'an', 'aluminum', 'square', 'fold', 'the', 'square', 'diagonally', 'over', 'the', 'chicken', 'piece', 'in', 'a', 'triangle', 'shape', 'fold', 'up', 'the', 'open', 'edges', 'of', 'the', 'triangle', 'several', 'times', 'and', 'press', 'tightly', 'together', 'to', 'seal', 'the', 'chicken', 'into', 'the', 'foil', 'repeat', 'with', 'remaining', 'chicken', 'pieces', 'discard', 'the', 'used', 'marinade', 'heat', 'oil', 'in', 'a', 'deepfryer', 'or', 'large', 'saucepan', 'to', '350', 'degrees', 'f', '175', 'degrees', 'c', 'gently', 'add', 'the', 'sealed', 'foil', 'packets', 'to', 'the', 'hot', 'oil', 'and', 'fry', 'until', 'the', 'chicken', 'is', 'tender', 'and', 'cooked', 'through', '2', 'to', '4', 'minutes', 'drain', 'the', 'packets', 'on', 'paper', 'towels', 'and', 'allow', 'to', 'cool', 'slightly', 'to', 'serve', 'tear', 'open', 'the', 'packets', 'along', 'the', 'sealed', 'edges']\n",
      "['preheat', 'oven', 'to', '350', 'degrees', 'f', '175', 'degrees', 'c', 'place', 'squash', 'into', 'a', 'large', 'pot', 'and', 'cover', 'with', 'water', 'bring', 'to', 'a', 'boil', 'reduce', 'heat', 'to', 'mediumlow', 'and', 'simmer', 'until', 'tender', 'about', '10', 'minutes', 'drain', 'and', 'mash', 'squash', 'in', 'a', 'bowl', 'stir', '1', 'cup', 'corn', 'flakes', 'margarine', 'eggs', 'sugar', 'seasoned', 'salt', 'and', 'black', 'pepper', 'into', 'mashed', 'squash', 'transfer', 'mixture', 'to', 'a', '2quart', 'casserole', 'dish', 'sprinkle', 'about', '14', 'cup', 'cornflake', 'crumbs', 'over', 'squash', 'mixture', 'bake', 'in', 'the', 'preheated', 'oven', 'until', 'bubbling', 'and', 'topping', 'is', 'lightly', 'browned', '20', 'to', '25', 'minutes']\n",
      "['divide', 'lettuce', 'or', 'cabbage', 'chicken', 'and', 'among', '4', 'bowls', 'top', 'each', 'with', '2', 'tablespoons', 'ranch', 'dressing', 'and', '1', '½', 'tablespoons', 'barbecue', 'sauce', 'sprinkle', 'each', 'with', '1', 'to', '2', 'tablespoons', 'bacon', 'bits', 'or', 'to', 'taste']\n",
      "['preheat', 'the', 'oven', 'to', '375', 'degrees', 'mix', 'mustard', 'honey', 'agave', 'nectar', 'and', 'sriracha', 'reserving', '4', 'to', '5', 'tablespoons', 'lay', 'chicken', 'thighs', 'in', 'a', 'single', 'layer', 'in', 'greased', '8x12”', 'baking', 'dish', 'sprayed', 'with', 'cooking', 'spray', 'pour', 'remaining', 'mustard', 'mixture', 'over', 'chicken', 'bake', 'for', '25', 'to', '30', 'minutes', 'or', 'until', 'cooked', 'through', 'serve', 'with', 'reserved', 'sauce', 'drizzled', 'over', 'chicken']\n",
      "['cook', 'pasta', 'according', 'to', 'package', 'directions', 'sauté', 'onions', 'mushrooms', 'and', 'garlic', 'in', '1', 'tablespoon', 'of', 'the', 'butter', 'until', 'soft', 'remove', 'the', 'onions', 'mushrooms', 'and', 'garlic', 'and', 'set', 'them', 'aside', 'until', 'later', 'in', 'the', 'same', 'pan', 'cook', 'the', 'chicken', 'stirring', 'frequently', 'remove', 'the', 'chicken', 'and', 'it', 'aside', 'until', 'later', 'to', 'the', 'same', 'pan', 'add', '2', 'tbsp', 'butter', 'and', 'melt', 'over', 'a', 'lowmedium', 'heat', 'sprinkle', 'the', 'flour', 'over', 'the', 'butter', 'and', 'stir', 'to', 'make', 'a', 'roux', 'slowly', 'add', 'in', 'the', 'madeira', 'sherry', 'and', 'heavy', 'cream', 'stirring', 'constantly', 'cook', 'over', 'a', 'mediumhigh', 'heat', 'until', 'thickened', '–', 'stirring', 'often', 'to', 'keep', 'it', 'from', 'sticking', 'to', 'the', 'bottom', 'of', 'the', 'pan', 'add', 'the', 'parsley', 'and', 'let', 'simmer', 'for', 'a', 'few', 'minutes', 'add', 'the', 'chicken', 'mushrooms', 'garlic', 'and', 'onions', 'back', 'in', 'and', 'simmer', 'for', '2', 'more', 'minutes', 'pour', 'over', 'the', 'pasta', 'and', 'server', 'with', 'parmesan', 'cheese']\n",
      "['1', 'in', 'a', '1', 'gallon', 'baggie', 'add', '1', 'or', 'both', 'tenderloins', 'cover', 'with', 'marinade', 'seal', 'and', 'place', 'in', 'the', 'refrigerator', 'overnight', 'turning', 'once', 'in', 'a', 'while', '2', 'when', 'ready', 'to', 'grill', 'remove', 'the', 'meat', 'from', 'the', 'refrigerator', 'take', 'of', 'of', 'marinade', 'discard', 'marinade', 'place', 'meat', 'in', 'a', 'microwave', 'safe', 'dish', 'and', 'microwave', 'for', '3', 'minutes', 'then', 'put', 'straight', 'onto', 'a', 'preheated', 'grill', 'at', 'medium', 'heat', 'cook', '15', 'to', '20', 'minutes', 'or', 'until', 'at', 'least', '145', 'degrees', 'internal', 'temp', '3', 'remove', 'from', 'grill', 'cover', 'and', 'let', 'rest', 'for', '5', 'to', '10', 'minutes', 'then', 'slice', 'and', 'serve']\n",
      "['1', 'heat', 'oil', 'in', 'a', 'large', 'nonstick', 'skillet', 'over', 'medium', 'heat', 'add', 'the', 'onion', 'and', 'next', '4', 'ingredients', 'onion', 'through', 'garlic', 'sauté', '4', 'minutes', 'or', 'until', 'the', 'onion', 'is', 'tender', 'stir', 'in', 'chicken', 'and', 'orange', 'juice', 'bring', 'to', 'a', 'boil', 'cook', 'for', '2', 'minutes', 'or', 'until', 'the', 'liquid', 'is', 'almost', 'evaporated', 'stirring', 'constantly', 'add', '1', 'can', 'broth', 'bring', 'to', 'a', 'boil', 'stir', 'in', 'the', 'bell', 'pepper', 'carrot', 'anaheim', 'chile', 'jalapeño', 'and', 'salt', 'cook', 'over', 'medium', 'heat', '15', 'minutes', 'or', 'until', 'vegetables', 'are', 'tender', 'set', 'aside', '2', 'combine', 'remaining', '3', 'cans', 'broth', 'cabbage', 'vegetable', 'juice', 'rice', '1', 'tablespoon', 'chili', 'powder', 'and', 'tomatoes', 'in', 'a', 'large', 'dutch', 'oven', 'bring', 'to', 'a', 'boil', 'reduce', 'heat', 'and', 'simmer', '20', 'minutes', 'add', 'chicken', 'mixture', 'and', 'beans', 'cook', 'an', 'additional', '45', 'minutes', 'serve', 'with', 'sour', 'cream']\n",
      "['roast', 'the', 'salt', 'and', 'peppercorns', 'in', 'a', 'dry', 'skillet', 'over', 'medium', 'low', 'heat', 'until', 'salt', 'starts', 'to', 'turn', 'yellow', 'and', 'the', 'peppercorns', 'get', 'fragrant', 'and', 'peppercorns', 'begin', 'to', 'pop', 'open', 'like', 'popcorn', 'does', 'in', 'the', 'meantime', 'preheat', 'an', 'outdoor', 'grill', 'to', 'mediumhigh', 'heat', 'brush', 'the', 'chicken', 'wings', 'with', 'peanut', 'oil', 'and', 'grill', 'the', 'chicken', 'wings', 'over', 'indirect', 'heat', 'until', 'the', 'juices', 'run', 'clear', 'and', 'the', 'wings', 'reach', '165', 'degrees', 'on', 'an', 'instant', 'read', 'thermometer', 'place', 'the', 'salt', 'and', 'pepper', 'blend', 'in', 'a', 'mortar', 'and', 'grind', 'with', 'a', 'pestle', 'until', 'everything', 'is', 'coarsely', 'ground', 'place', 'the', 'grilled', 'chicken', 'wings', 'in', 'a', 'large', 'bowl', 'sprinkle', 'in', '2', 'teaspoons', 'or', 'more', 'depending', 'on', 'taste', 'of', 'the', 'spice', 'blend', 'and', 'toss', 'to', 'coat']\n",
      "['mix', 'all', 'ingredients', 'in', 'a', 'large', 'bowl', 'except', 'bread', 'and', 'extra', 'virgin', 'olive', 'oil', 'coat', 'a', 'large', 'nonstick', 'baking', 'pan', 'with', 'pan', 'spray', 'fill', 'pan', 'with', 'mixture', 'bake', 'at', '325f', 'for', 'about', '25', 'minutes', 'or', 'until', 'bubbling', 'and', 'center', 'is', 'hot', 'drizzle', 'both', 'sides', 'of', 'bread', 'with', 'extra', 'virgin', 'olive', 'oil', 'grill', 'bread', 'on', 'both', 'sides', 'sprinkle', 'top', 'of', 'heated', 'dip', 'with', 'parmesan', 'cheese', 'serve', 'hot', 'with', 'grilled', 'bread']\n",
      "['use', 'left', 'over', 'chicken', 'breasts', 'or', 'prepare', 'as', 'follows', 'place', 'the', 'chicken', '1', '12', 'tablespoons', 'of', 'cilantro', 'and', 'vegetable', 'oil', 'in', 'a', 'skillet', 'over', 'medium', 'heat', 'and', 'panfry', 'the', 'chicken', 'breasts', 'until', 'lightly', 'golden', 'brown', 'no', 'longer', 'pink', 'in', 'the', 'middle', 'and', 'the', 'juices', 'run', 'clear', 'about', '5', 'minutes', 'per', 'side', 'remove', 'the', 'chicken', 'and', 'set', 'aside', 'when', 'cooled', 'cut', 'into', 'cubes', 'cook', 'refried', 'beans', 'into', 'the', 'skillet', 'until', 'the', 'beans', 'are', 'hot', 'and', 'bubbling', '5', 'to', '10', 'minutes', 'mix', 'the', 'taco', 'seasoning', 'and', 'sour', 'cream', 'together', 'in', 'a', 'bowl', 'to', 'assemble', 'spread', 'the', 'hot', 'bean', 'and', 'bacon', 'mixture', 'into', 'the', 'bottom', 'of', 'an', '8x8inch', 'glass', 'dish', 'sprinkle', 'the', 'chicken', 'cubes', 'over', 'the', 'bean', 'mixture', 'then', 'follow', 'with', 'these', 'layers', '34', 'cup', 'of', 'cheddar', 'cheese', 'guacamole', 'sour', 'cream', 'mixture', 'and', 'sliced', 'tomatoes', 'sprinkle', 'the', 'top', 'with', '1', '12', 'tablespoons', 'of', 'cilantro', 'black', 'olives', 'green', 'onions', 'and', '14', 'cup', 'of', 'shredded', 'cheddar', 'cheese']\n",
      "['combine', 'all', 'in', 'non', 'reactive', 'bowl', 'stir', 'until', 'sugar', 'and', 'salt', 'have', 'dissolved', 'refrigerate', 'a', 'minimum', 'of', '2', 'days', 'before', 'eating', 'if', 'using', 'a', 'bowl', 'place', 'a', 'small', 'plate', 'on', 'top', 'to', 'keep', 'carrots', 'submerged']\n",
      "['preheat', 'oven', 'to', '400', 'combine', 'chipolte', 'adobo', 'sauce', 'with', 'olive', 'oil', 'and', 'liberally', 'brush', 'on', 'chicken', 'season', 'with', 'salt', 'and', 'pepper', 'in', 'oven', 'proof', 'skillet', 'sear', 'chicken', 'until', 'nicely', 'browned', 'transfer', 'to', 'oven', 'and', 'cook', '10', 'to', '15', 'minutes', 'more', 'or', 'until', 'internal', 'temp', 'of', '165', 'reached', 'remove', 'from', 'oven', 'let', 'cool', 'and', 'cube', 'or', 'shred', 'which', 'ever', 'is', 'ascetically', 'pleasing', 'to', 'your', 'eye', 'optional', 'i', 'added', 'a', 'little', 'chicken', 'stock', 'to', 'the', 'pan', 'drippings', 'reduced', 'a', 'bit', 'and', 'added', 'that', 'to', 'the', 'chicken', 'in', 'a', 'bowl', 'add', 'cooked', 'and', 'cubed', 'chicken', 'along', 'with', 'drippings', 'if', 'using', 'stir', 'in', 'olives', 'onion', 'and', 'tomatoes', 'add', 'lemon', 'juice', 'and', 'feta', 'cheese', 'note', 'if', 'not', 'using', 'drippings', 'add', 'an', 'additional', 'tablespoon', 'of', 'olive', 'oil', 'if', 'desired', 'line', 'a', 'bowl', 'or', 'plate', 'with', 'lettuce', 'and', 'pile', 'chicken', 'mixture', 'on', 'top', 'serve']\n",
      "['dice', 'broccoli', 'into', 'bite', 'sized', 'pieces', 'and', 'set', 'aside', 'heat', '2t', 'olive', 'oil', 'over', 'medium', 'high', 'heat', 'until', 'hot', 'but', 'not', 'smoking', 'fry', '2', 'bread', 'slices', 'apx', '2', 'minutes', 'per', 'side', 'until', 'golden', 'brown', 'repeat', 'with', 'remaining', '2', 'slices', 'and', 'adtl', '2', 't', 'of', 'oil', 'if', 'needed', 'sprinkle', 'tops', 'of', 'fried', 'bread', 'with', 'some', 'of', 'the', 'cheese', 'and', 'garlic', 'powder', 'if', 'using', 'set', 'aside', 'add', 'remaining', 't', 'of', 'oil', 'to', 'pan', 'add', 'broccoli', 'and', 'saute', 'briefly', 'until', 'just', 'cooked', 'apx', '2', 'to', '3', 'minutes', 'add', 'garlic', 'anchovy', 'paste', 'or', 'anchovies', 'and', 'crushed', 'red', 'chili', 'flakes', 'continue', 'to', 'cook', 'for', 'about', '30', 'seconds', 'or', 'until', 'fragrant', 'turn', 'off', 'heat', 'and', 'add', 'lemon', 'zest', 'and', 'juice', 'if', 'using', 'salt', 'to', 'taste', 'you', 'wont', 'need', 'much', 'spoon', 'broccoli', 'mixture', 'over', 'tops', 'of', 'bread', 'and', 'sprinkle', 'remaining', 'cheese', 'on', 'top', 'serve', 'immediately']\n",
      "['season', 'flour', 'with', 'salt', 'and', 'pepper', 'and', 'set', 'aside', 'on', 'plate', 'have', 'beaten', 'egg', 'whites', 'in', 'a', 'bowl', 'and', 'the', 'breadcrumbs', 'on', 'a', '3rd', 'plate', 'line', 'a', 'baking', 'sheet', 'with', 'parchment', 'paper', 'and', 'line', 'a', 'rack', 'with', 'paper', 'towels', 'for', 'draining', 'dredge', 'eggplant', 'no', 'need', 'to', 'salt', 'or', 'peel', 'in', 'flour', 'then', 'egg', 'whites', 'and', 'lastly', 'in', 'breadcrumbs', 'oh', 'a', 'note', 'adding', 'parmesan', 'cheese', 'to', 'breadcrumbs', 'would', 'be', 'wonderful', 'if', 'you', 'have', 'it', 'if', 'not', 'dont', 'worry', 'heat', 'olive', 'oil', 'in', 'large', 'frying', 'pan', 'and', 'saute', 'breaded', 'eggplant', 'slices', '1', 'to', '2', 'minutes', 'per', 'side', 'or', 'until', 'golden', 'brown', 'remove', 'from', 'oil', 'and', 'drain', 'on', 'paper', 'towels', 'once', 'drained', 'move', 'eggplant', 'slices', 'to', 'prepared', 'baking', 'sheet', 'the', 'original', 'recipe', 'called', 'for', 'first', 'putting', 'a', 'dab', 'of', 'spaghetti', 'sauce', 'on', 'eggplant', 'we', 'felt', 'that', 'made', 'it', 'too', 'soggy', 'but', 'thats', 'your', 'choice', 'top', 'fried', 'eggplant', 'with', 'cheese', 'we', 'like', 'provolone', 'and', 'a', 'sprinkling', 'of', 'parmesan', 'or', 'romano', 'run', 'under', 'broiler', 'for', '23', 'minutes', 'or', 'until', 'cheese', 'has', 'melted', 'into', 'gooey', 'yummy', 'stuff', 'oh', 'yeah', 'baby', 'serve', 'hot', 'with', 'a', 'side', 'of', 'pasta', 'homemade', 'sauce', 'and', 'a', 'salad', 'or', 'eat', 'them', 'dipped', 'in', 'ranch', 'thatll', 'keep', 'you', 'busy']\n",
      "['trim', 'the', 'ends', 'of', 'asparagus', 'and', 'shave', 'off', 'any', 'of', 'the', 'tough', 'skin', 'from', 'lower', 'ends', 'slice', 'on', 'the', 'bias', 'into', 'roughly', '1', 'to', '1', '12', 'pieces', 'set', 'aside', 'saute', 'bacon', 'set', 'aside', 'to', 'cool', 'then', 'tear', 'into', 'bitesize', 'pieces', 'remove', 'most', 'of', 'grease', 'from', 'pan', 'leaving', 'a', 'few', 'drippings', 'in', 'for', 'flavor', 'begin', 'cooking', 'pasta', 'in', 'another', 'pan', 'according', 'to', 'directions', 'and', 'then', 'return', 'your', 'attention', 'to', 'saute', 'pan', 'saute', 'asparagus', 'pieces', 'in', 'butter', 'and', 'bacon', 'drippings', '5', 'to', '6', 'minutes', 'or', 'until', 'just', 'done', 'add', 'shallot', 'and', 'garlic', 'and', 'continue', 'to', 'cook', 'for', 'another', 'minute', 'add', 'cream', 'and', 'bacon', 'to', 'pan', 'and', 'let', 'cook', 'several', 'minutes', 'or', 'until', 'it', 'begins', 'to', 'thicken', 'add', 'crushed', 'red', 'pepper', 'if', 'desired', 'begin', 'slowly', 'adding', 'shredded', 'cheese', 'to', 'sauce', 'until', 'desired', 'flavor', 'is', 'reached', 'were', 'usually', 'happy', 'with', 'about', '14', 'cup', 'serving', 'additional', 'on', 'top', 'of', 'pasta', 'season', 'well', 'with', 'cracked', 'pepper', 'add', 'drained', 'pasta', 'and', 'toss', 'well']\n",
      "['combine', 'the', 'ketchup', 'white', 'vinegar', 'molasses', 'honey', 'liquid', 'smoke', 'salt', 'black', 'pepper', 'paprika', 'chili', 'powder', 'cayenne', 'pepper', 'garlic', 'powder', 'and', 'onion', 'powder', 'to', 'a', 'medium', 'saucepot', 'set', 'over', 'medium', 'heat', 'stir', 'to', 'combine', 'bring', 'the', 'sauce', 'to', 'a', 'simmer', 'and', 'then', 'reduce', 'the', 'heat', 'to', 'low', 'to', 'maintain', 'the', 'simmer', 'cook', 'uncovered', 'for', '20', 'minutes', 'add', 'desired', 'amount', 'of', 'chipolte', 'sauce', 'then', 'cook', 'an', 'additional', '5', 'to', '10', 'minutes', 'to', 'make', 'wings', 'add', 'the', 'oil', 'to', 'a', 'heavybottomed', 'dutch', 'oven', 'or', 'electric', 'deep', 'fryer', 'leaving', 'at', 'least', '2', 'inches', 'of', 'space', 'at', 'the', 'top', 'heat', 'the', 'oil', 'to', '375°f', 'dust', 'wings', 'with', 'a', 'light', 'coating', 'of', 'flour', 'i', 'used', 'flour', 'with', 'a', 'little', 'cayenne', 'pepper', 'salt', 'pepper', 'fry', 'the', 'wings', 'for', '10', 'to', '15', 'minutes', 'or', 'until', 'they', 'are', 'crisp', 'on', 'the', 'outside', 'place', 'on', 'a', 'papertowellined', 'plate', 'to', 'drain', 'off', 'excess', 'oil', 'and', 'cool', 'slightly', 'before', 'tossing', 'them', 'in', 'the', 'honeybarbecue', 'sauce', 'note', 'we', 'also', 'bake', 'ours', 'in', 'a', '400', 'degree', 'oven', 'for', '10', 'to', '15', 'minutes', 'prior', 'to', 'saucing', 'just', 'to', 'make', 'sure', 'theyre', 'thoroughly', 'cooked', 'nobody', 'wants', 'an', 'undercooked', 'wing', 'toss', 'wings', 'in', 'honeybarbecue', 'sauce', 'and', 'serve', 'immediately']\n",
      "['put', 'sugar', 'yeast', 'and', '3', 'or', '4', 't', 'of', 'the', 'warm', 'water', 'aside', 'to', 'bloom', 'add', 'all', 'other', 'ingredients', 'to', 'mixing', 'bowl', 'except', 'cornmeal', 'and', 'mix', 'add', 'yeast', 'mixture', 'and', 'using', 'dough', 'hook', 'mix', '5', 'to', '10', 'minutes', 'turn', 'dough', 'out', 'kneed', 'a', 'few', 'times', 'then', 'place', 'in', 'a', 'greased', 'bowl', 'to', 'rise', '1', 'to', '1', '12', 'hours', 'gently', 'turn', 'out', 'dough', 'try', 'not', 'to', 'deflate', 'too', 'much', 'and', 'roll', 'out', 'to', '12', 'thick', 'cut', 'with', '3', '12', 'cutter', 'i', 'used', 'chicken', 'can', 'to', 'shape', 'and', 'then', 'cut', 'with', 'pastry', 'knife', 'place', 'on', 'ungreased', 'cookie', 'sheet', 'that', 'has', 'been', 'liberally', 'dusted', 'with', 'cornmeal', 'sprinkle', 'additional', 'cornmeal', 'all', 'over', 'top', 'cover', 'with', 'wax', 'paper', 'and', 'set', 'aside', 'to', 'rise', 'again', '45', 'minutes', 'or', 'so', 'heat', 'griddle', 'to', '325', 'and', 'sprinkle', 'liberally', 'with', 'cornmeal', 'gently', 'transfer', 'muffins', 'to', 'griddle', 'and', 'bake', '10', 'minutes', 'each', 'side', 'you', 'might', 'want', 'to', 'preheat', 'oven', 'to', '350', 'while', 'griddling', 'can', 'throw', 'them', 'in', 'the', 'oven', 'to', 'tighten', 'up', 'a', 'bit', 'if', 'theyve', 'risen', 'high', 'and', 'youre', 'having', 'difficulty', 'getting', 'internal', 'temp', 'to', '190', 'i', 'only', 'ha', 'd', 'to', 'bake', '3', 'or', '4', 'of', 'them', 'for', 'around', '4', 'minutes', 'or', 'so']\n",
      "['heat', 'oven', 'to', '350', 'degrees', 'in', 'hot', 'oil', 'fry', 'corn', 'tortillas', 'for', '20', 'seconds', 'drain', 'wipe', 'excessive', 'oil', 'cook', 'and', 'drain', 'ground', 'meat', 'mix', 'soups', 'and', 'milk', 'in', '13', 'x', '9', 'pan', 'spray', 'pan', 'with', 'cooking', 'spray', 'layer', '6', 'corn', 'tortillas', 'flat', 'in', 'the', 'pan', 'layer', 'the', 'meat', 'soup', 'mixture', '1', 'cup', 'cheese', '6', 'corn', 'tortillas', '3', 'cups', 'cheese', 'black', 'olives', 'and', 'green', 'onions', 'bake', 'approx', '20', 'minutes', 'until', 'the', 'cheese', 'is', 'melted']\n",
      "['mix', 'coconut', 'vanilla', 'milk', 'fold', 'in', 'egg', 'white', 'drop', 'batter', 'from', 'tsp', 'onto', 'greased', 'cookie', 'sheet', 'about', '2”', 'apart', 'bake', 'at', '350', 'degrees', '810', 'minutes', 'once', 'cooled', 'dip', 'in', 'melted', 'microwaved', 'chocolate']\n",
      "['place', 'roast', 'in', 'crock', 'pot', 'add', 'garlic', 'salt', 'pepper', 'and', '1', 'can', 'of', 'red', 'chili', 'sauce', 'cook', 'on', 'low', 'for', '7', 'to', '8', 'hours', 'remove', 'meat', 'cool', 'enough', 'so', 'that', 'you', 'can', 'remove', 'fat', 'and', 'shred', 'meat', 'pour', 'half', 'of', 'the', 'liquid', 'from', 'the', 'crock', 'pot', 'into', 'a', 'bowl', 'set', 'aside', 'be', 'sure', 'to', 'remove', 'any', 'remaining', 'fat', 'from', 'the', 'crock', 'pot', 'put', 'shredded', 'meat', 'in', 'the', 'crock', 'pot', 'stir', 'in', 'the', '2nd', 'can', 'of', 'red', 'chili', 'sauce', 'over', 'the', 'meat', 'mix', 'in', 'any', 'needed', 'remaining', 'sauce', 'to', 'get', 'the', 'proper', 'consistency', 'cook', 'on', 'low', 'in', 'the', 'crock', 'pot', 'for', '½', 'hour', 'or', 'more', 'until', 'thoroughly', 'heated']\n",
      "['thinly', 'slice', 'alligator', '14', 'inch', 'thick', 'and', '4', 'inches', 'long', 'remove', 'all', 'white', 'fatty', 'tissue', 'place', 'alligator', 'slices', 'in', 'glass', 'bowl', 'and', 'cover', 'with', 'vinegar', 'or', 'lemon', 'juice', 'salt', 'and', 'red', 'pepper', 'soak', '½', 'hour', 'no', 'more', 'roll', 'slices', 'in', 'corn', 'meal', 'and', 'flour', 'seasoned', 'with', 'red', 'pepper', 'fry', 'in', 'hot', 'grease', 'in', 'iron', 'pot', 'or', 'deep', 'fat', 'fryer', 'until', 'golden', 'brown', 'about', '5', 'minutes', 'eat', 'while', 'warm']\n",
      "['in', 'a', 'large', 'punch', 'bowl', 'empty', 'sherbert', 'into', 'the', 'bowl', 'pour', 'soda', 'on', 'top', 'serve', 'promptly']\n",
      "['mix', 'and', 'put', 'in', 'freezer', 'canister', 'of', 'ice', 'cream', 'maker', 'follow', 'directions']\n",
      "['combine', 'raisins', 'and', 'boiling', 'water', 'set', 'aside', 'cream', 'sugar', 'and', 'butter', 'beat', 'eggs', 'and', 'add', 'to', 'mix', 'add', 'applesauce', 'alternately', 'with', 'flour', 'add', 'nutslast', 'add', 'soda', 'to', 'raisins', 'then', 'stir', 'all', 'into', 'cake', 'bake', 'at', '350', 'degrees', '40', 'to', '45', 'minutes', 'frost', 'with', 'carmel', 'frosting', 'when', 'cooled']\n",
      "['cook', 'in', 'top', 'of', 'a', 'double', 'boiler', 'for', '10', 'minutes']\n",
      "['defrost', 'chicken', 'drums', 'enough', 'to', 'be', 'able', 'to', 'break', 'them', 'apart', 'put', 'in', 'slow', 'cooker', 'pour', 'italian', 'dressing', 'over', 'the', 'top', 'and', 'add', 'seasonings', 'cook', 'on', 'low', 'for', '6', 'hours', 'do', 'not', 'overcook']\n",
      "['place', 'roast', 'in', 'a', 'crock', 'pot', 'add', 'enough', 'water', 'to', 'cover', 'roast', 'about', 'a', 'quart', 'and', 'a', 'half', 'sprinkle', 'salt', 'pepper', 'garlic', 'on', 'top', 'of', 'the', 'onions', 'cook', 'for', '8', 'hours', 'until', 'tender', 'serve', 'with', 'baked', 'potatoes', 'and', 'gravy']\n",
      "['put', '3', 'cups', 'of', 'sorted', 'beans', 'in', 'a', 'pan', 'with', 'water', 'and', 'bring', 'to', 'a', 'hard', 'boil', 'for', '3', 'minutes', 'drain', 'beans', 'and', 'place', 'in', 'crockpot', 'add', 'all', 'other', 'ingredients', 'water', 'is', 'approximate', 'and', 'should', 'be', '2', 'to', '3', 'inches', 'away', 'from', 'the', 'top', 'cook', 'on', 'high', 'for', '4', 'to', '6', 'hours', 'or', 'low', 'for', '810', 'hours']\n",
      "['put', 'roast', 'in', 'crock', 'pot', 'add', 'onion', 'salt', 'pepper', 'and', '12', 'cup', 'water', 'turn', 'on', 'low', 'cook', '68', 'hours', 'pour', 'off', 'water', 'shred', 'meat', 'and', 'add', 'remaining', 'ingredients', 'cook', 'another', 'hour', 'or', 'so', 'use', 'for', 'burritos', 'or', 'tacos']\n",
      "['preheat', 'the', 'oven', 'to', '350', 'degrees', 'grease', 'a', '1', '12quart', 'casserole', 'dish', 'set', 'aside', 'fill', 'a', 'large', 'pan', 'with', 'water', 'bring', 'to', 'a', 'boil', 'add', 'macaroni', 'cook', '2', 'to', '3', 'fewer', 'minutes', 'than', 'manufacturers', 'directions', 'until', 'outside', 'of', 'pasta', 'is', 'cooked', 'and', 'inside', 'is', 'underdone', 'transfer', 'the', 'macaroni', 'to', 'a', 'colander', 'rinse', 'under', 'cold', 'running', 'water', 'and', 'drain', 'well', 'heat', 'milk', 'in', 'a', 'medium', 'saucepan', 'over', 'medium', 'heat', 'or', 'in', 'a', 'microwave', 'safe', 'large', 'measure', 'on', '50', 'power', 'for', 'about', '5', 'minutes', 'stirring', 'occasionally', 'melt', 'butter', 'in', 'a', 'highsided', 'skillet', 'over', 'medium', 'heat', 'when', 'butter', 'bubbles', 'add', 'flour', 'cook', 'stirring', '1', 'minute', 'slowly', 'pour', 'hot', 'milk', 'into', 'flourbutter', 'mixture', 'while', 'whisking', 'continue', 'cooking', 'whisking', 'constantly', 'until', 'the', 'mixture', 'bubbles', 'and', 'becomes', 'thick', 'remove', 'the', 'pan', 'from', 'the', 'heat', 'stir', 'in', 'salt', 'nutmeg', 'black', 'pepper', 'cayenne', 'pepper', 'dijon', 'mustard', 'worcestershire', '2', 'cups', 'cheddar', 'and', '34', 'cup', 'gruyerehavarti', 'when', 'cheese', 'is', 'incorporated', 'set', 'cheese', 'sauce', 'aside', 'stir', 'macaroni', 'into', 'the', 'reserved', 'cheese', 'sauce', 'pour', 'the', 'mixture', 'into', 'the', 'prepared', 'casserole', 'dish', 'sprinkle', 'with', 'remaining', 'cheeses', 'bake', 'until', 'browned', 'on', 'top', 'about', '2030', 'minutes', 'if', 'desired', 'broil', 'for', 'a', 'few', 'minutes', 'at', 'the', 'end', 'for', 'more', 'browning', 'transfer', 'dish', 'to', 'a', 'wire', 'rack', 'to', 'cool', 'for', '5', 'minutes', 'serve']\n",
      "['in', 'a', 'small', 'bowl', 'beat', 'egg', 'with', 'water', 'melt', 'butter', 'in', 'a', 'large', 'skillet', 'over', 'medium', 'low', 'heat', 'add', 'egg', 'and', 'leave', 'flat', 'for', '1', 'to', '2', 'minutes', 'remove', 'from', 'skillet', 'and', 'cut', 'into', 'shreds', 'heat', 'oil', 'in', 'same', 'skillet', 'add', 'veggies', 'mushrooms', 'rice', 'teriyaki', 'sauce', 'pepper', 'and', 'chicken', 'stir', 'fry', 'together', 'for', 'about', '5', 'minutes', 'then', 'stir', 'in', 'egg', 'serve', 'hot']\n",
      "['in', 'a', 'bowl', 'combine', 'cornstarch', 'sugar', 'ginger', 'soy', 'sauce', 'and', 'wine', 'until', 'smooth', 'add', 'beef', 'and', 'toss', 'to', 'coat', 'set', 'aside', 'in', 'a', 'large', 'skillet', 'stirfry', 'bok', 'choy', 'carrots', 'zucchini', 'yellow', 'squash', 'calabacita', 'and', 'celery', 'in', '1', 'tablespoon', 'oil', 'for', '1', 'minute', 'stir', 'in', 'tomatoes', 'and', 'tofu', 'cover', 'and', 'simmer', 'for', '4', 'minutes', 'remove', 'and', 'keep', 'warm', 'in', 'the', 'same', 'skillet', 'stirfry', 'beef', 'in', 'remaining', 'oil', 'until', 'meat', 'reaches', 'desired', 'doneness', 'return', 'vegetables', 'to', 'pan', 'toss', 'serve', 'over', 'rice']\n",
      "['preheat', 'oven', 'to', '350', 'degrees', 'f', 'in', 'a', 'large', 'saucepan', 'over', 'medium', 'heat', 'cover', 'squash', 'with', 'water', 'and', 'cook', 'until', 'tender', 'about', '10', 'minutes', 'drain', 'into', 'colander', 'and', 'mash', 'over', 'the', 'sink', 'to', 'the', 'squash', 'add', 'eggs', 'margarine', 'sugar', 'seasoned', 'salt', 'and', 'pepper', 'and', '1', 'cup', 'cornflake', 'crumbs', 'mix', 'well', 'and', 'transfer', 'to', 'a', '2', 'quart', 'casserole', 'dish', 'sprinkle', 'more', 'conrflake', 'crumbs', 'on', 'top', 'bake', 'for', '20', 'to', '25', 'minutes']\n",
      "['prepare', 'rice', 'according', 'to', 'package', 'directions', 'meanwhile', 'cook', 'bacon', 'and', 'reserve', 'the', 'drippings', 'remove', 'bacon', 'and', 'save', 'for', 'another', 'use', 'in', 'the', 'bacon', 'drippings', 'slowly', 'cook', 'onion', 'celery', 'mushrooms', 'and', 'sausage', 'stir', 'frequently', 'to', 'keep', 'meat', 'in', 'small', 'pieces', 'simmer', '20', 'minutes', 'drain', 'the', 'grease', 'add', 'rice', 'sherry', 'and', 'pecans', 'toss', 'thoroughly', 'spray', '9x13', 'casserole', 'dish', 'with', 'nonstick', 'cooking', 'spray', 'and', 'add', 'ricesausagepecan', 'mixture', 'arrange', '810', 'pecan', 'halves', 'on', 'top', 'bake', 'uncovered', 'at', '350', 'for', '3035', 'minutes']\n",
      "['in', 'a', 'small', 'saucepan', 'over', 'a', 'mediumlow', 'heat', 'whisk', 'using', 'a', 'metal', 'whisk', 'together', 'vinegar', 'and', 'cornstarch', 'add', 'oil', 'pineapple', 'juice', 'ketchup', 'brown', 'sugar', 'and', 'salt', 'whisking', 'constantly', 'until', 'the', 'mixture', 'is', 'heated', 'through']\n",
      "['in', 'a', 'small', 'saucepan', 'over', 'a', 'mediumlow', 'heat', 'whisk', 'using', 'a', 'metal', 'whisk', 'together', 'vinegar', 'and', 'cornstarch', 'add', 'oil', 'pineapple', 'juice', 'ketchup', 'and', 'brown', 'sugar', 'whisking', 'constantly', 'until', 'the', 'mixture', 'is', 'heated', 'through']\n",
      "['preheat', 'an', 'oven', 'to', '400', 'degrees', 'f', 'place', 'the', 'beef', 'into', 'a', 'mixing', 'bowl', 'and', 'season', 'with', 'salt', 'italian', 'seasoning', 'oregano', 'red', 'pepper', 'flakes', 'hot', 'pepper', 'sauce', 'and', 'worcestershire', 'sauce', 'mix', 'well', 'add', 'the', 'milk', 'and', 'cornflake', 'crumbs', 'mix', 'until', 'evenly', 'blended', 'then', 'form', 'into', '1', '12inch', 'meatballs', 'and', 'place', 'onto', 'a', 'baking', 'sheet', 'bake', 'in', 'the', 'preheated', 'oven', 'until', 'no', 'longer', 'pink', 'in', 'the', 'center', '20', 'to', '25', 'minutes']\n",
      "['preheat', 'oven', 'to', '450', 'degrees', 'f', 'spray', 'baking', 'sheet', 'with', 'vegetable', 'cooking', 'spray', 'dip', 'fish', 'into', 'flour', 'then', 'dip', 'in', 'milk', 'coat', 'with', 'cornflake', 'crumbs', 'place', 'fish', 'on', 'baking', 'sheet', 'spray', 'fish', 'with', 'vegetable', 'cooking', 'spray', 'bake', 'for', '10', 'minutes', 'or', 'until', 'fish', 'is', 'done', 'serve', 'with', 'lemon', 'juice']\n",
      "['preheat', 'oven', 'to', '375', 'degrees', 'spread', 'the', 'softened', 'cream', 'cheese', 'evenly', 'into', 'an', '8x8inch', 'baking', 'dish', 'pour', 'the', 'chili', 'over', 'the', 'cream', 'cheese', 'add', '4oz', 'chopped', 'green', 'chilies', 'and', 'sprinkle', 'half', 'the', 'pan', 'with', 'shredded', 'cheddar', 'cheese', 'for', 'those', 'who', 'can', 'have', 'dairy', 'leave', 'cheese', 'off', 'for', 'dairyintolerant', 'bake', 'in', 'the', 'preheated', 'oven', 'until', 'hot', 'and', 'the', 'cheese', 'is', 'bubbly', 'about', '15', 'minutes', 'serve', 'with', 'sturdy', 'corn', 'chips']\n",
      "['combine', 'in', 'a', 'shaker', 'with', 'ice', 'and', 'strain', 'into', 'a', 'martini', 'glass', 'garnish', 'with', 'a', 'lime', 'wedge']\n",
      "['combine', 'popcorn', 'kernels', 'and', 'oil', 'in', 'a', 'deep', 'pot', 'over', 'high', 'heat', 'cover', 'listen', 'for', 'popcorn', 'to', 'start', 'popping', 'and', 'carefully', 'shake', 'the', 'pot', 'either', 'on', 'the', 'burner', 'or', 'just', 'above', 'until', 'the', 'popping', 'stops', 'wear', 'an', 'oven', 'mitt', 'for', 'protection', 'against', 'burns', 'place', 'popped', 'corn', 'into', 'large', 'bowl', 'you', 'should', 'have', 'about', '12', 'cups', 'sprinkle', 'lime', 'jest', 'and', 'salt', 'on', 'popcorn', 'in', 'a', 'small', 'mixing', 'bowl', 'stir', 'together', 'melted', 'butter', 'lime', 'juice', 'and', 'sriracha', 'and', 'toss', 'with', 'popcorn']\n",
      "['combine', 'all', 'ingredients', 'in', 'a', 'heavy', 'saucepan', 'and', 'simmer', 'until', 'thickened', 'pour', 'into', 'sterilized', 'jars', 'and', 'seal']\n",
      "['preheat', 'oven', 'to', '400°f', 'mix', 'chickpeas', 'with', 'oil', 'and', 'spices', 'until', 'evenly', 'coated', 'spread', 'chickpeas', 'evenly', 'on', 'a', 'rimmed', 'baking', 'sheet', 'bake', '30', 'to', '40', 'minutes', 'or', 'until', 'crispy', 'shake', 'pan', 'occasionally', 'during', 'the', 'cooking', 'time', 'to', 'ensure', 'an', 'even', 'roast', 'serve', 'immediately']\n",
      "['build', 'in', 'an', 'irish', 'coffee', 'glass', 'and', 'top', 'with', 'whipped', 'cream', 'and', 'shaved', 'chocolate']\n",
      "['place', 'all', 'ingredients', 'in', 'a', 'blender', 'and', 'pulse', 'until', 'smooth']\n",
      "['mix', 'all', 'ingredients', 'together', 'and', 'bake', 'in', 'oven', 'at', '325', 'for', '15', 'mins', 'or', 'until', 'warm', 'throughout', 'serve', 'right', 'away', 'or', 'chill', 'and', 'reheat', 'later']\n",
      "['sort', 'peas', 'rinse', 'with', 'cold', 'water', 'and', 'add', 'to', 'a', 'large', 'soup', 'pot', 'add', 'the', 'chicken', 'broth', 'and', 'water', 'cover', 'and', 'bring', 'to', 'a', 'boil', 'remove', 'from', 'heat', 'and', 'set', 'aside', 'for', 'one', 'hour', 'return', 'the', 'pot', 'to', 'the', 'heat', 'add', 'the', 'ham', 'shank', 'celery', 'carrots', 'onion', 'bay', 'leaf', 'bouillon', 'granules', 'pepper', 'and', 'thyme', 'cover', 'and', 'gently', 'simmer', 'for', 'about', 'two', 'hours', 'stirring', 'periodically', 'remove', 'and', 'discard', 'the', 'bay', 'leaf', 'remove', 'the', 'ham', 'shank', 'and', 'when', 'cool', 'enough', 'to', 'handle', 'chop', 'the', 'ham', 'into', 'bite', 'size', 'pieces', 'add', 'the', 'ham', 'back', 'to', 'the', 'soup', 'discarding', 'the', 'bone', 'salt', 'to', 'taste', 'if', 'needed', 'heat', 'through', 'and', 'serve']\n",
      "['preheat', 'oven', 'to', '350', 'degrees', 'f', '175', 'degrees', 'c', 'bring', 'a', 'large', 'pot', 'of', 'lightly', 'salted', 'water', 'to', 'a', 'boil', 'add', 'pasta', 'and', 'cook', 'until', 'done', 'drain', 'in', '8x8', 'inch', 'baking', 'dish', 'that', 'has', 'been', 'sprayed', 'with', 'nonstick', 'cooking', 'spray', 'stir', 'together', 'macaroni', 'shredded', 'cheddar', 'cheese', 'cottage', 'cheese', 'milk', 'sour', 'cream', 'parmesan', 'cheese', 'salt', 'and', 'pepper', 'in', 'a', 'small', 'bowl', 'mix', 'together', 'panko', 'bread', 'crumbs', 'and', 'melted', 'butter', 'sprinkle', 'topping', 'over', 'macaroni', 'mixture', 'bake', 'covered', 'for', '20', 'minutes', 'and', 'then', 'uncovered', 'for', '20', 'minutes', 'or', 'until', 'top', 'is', 'golden']\n",
      "['preheat', 'oven', 'to', '350', 'degrees', 'f', '175', 'degrees', 'c', 'combine', 'cream', 'cheese', 'mayonnaise', 'and', 'mustard', 'add', 'onion', 'garlic', 'and', 'salt', 'fold', 'in', 'peppers', 'and', 'cheeses', 'turn', 'into', 'a', 'small', 'baking', 'dish', 'that', 'has', 'been', 'sprayed', 'with', 'vegetable', 'cooking', 'spray', 'bake', 'for', '2530', 'minutes', 'or', 'until', 'bubbly', 'and', 'lightly', 'browned', 'serve', 'warm', 'with', 'crackers']\n",
      "['heat', 'the', 'oven', 'to', '400', 'degrees', 'in', 'a', 'small', 'bowl', 'combine', 'the', 'mayonnaise', 'and', 'parmesan', 'cheese', 'stir', 'in', 'the', 'onions', 'and', 'garlic', 'set', 'aside', 'spray', 'a', 'cookie', 'sheet', 'lightly', 'with', 'nonstick', 'cooking', 'spray', 'making', 'sure', 'to', 'cover', 'the', 'entire', 'area', 'separate', 'the', 'dough', 'into', 'ten', 'biscuits', 'and', 'place', 'on', 'the', 'prepared', 'cookie', 'sheet', 'press', 'or', 'roll', 'each', 'biscuit', 'into', 'a', '4', 'inch', 'circle', 'spread', 'the', 'cheese', 'mixture', 'on', 'top', 'of', 'each', 'biscuit', 'to', 'within', '14', 'inch', 'of', 'the', 'edge', 'dividing', 'the', 'mixture', 'evenly', 'among', 'all', 'the', 'biscuits', 'bake', 'at', '400', 'degrees', 'for', '10', 'to', '13', 'minutes', 'or', 'until', 'golden', 'brown', 'serve', 'warm']\n",
      "['combine', 'parmesan', 'cheese', 'salt', 'garlic', 'powder', 'paprika', 'and', 'pepper', 'set', 'aside', 'spray', 'a', 'baking', 'pan', 'i', 'use', 'a', 'cast', 'iron', 'skillet', 'with', 'nonstick', 'cooking', 'spray', 'then', 'drizzle', 'some', 'vegetable', 'oil', 'into', 'the', 'pan', 'just', 'to', 'lightly', 'coat', 'the', 'entire', 'bottom', 'surface', 'set', 'aside', 'halve', 'the', 'potatoes', 'and', 'blot', 'the', 'cut', 'side', 'with', 'a', 'paper', 'towel', 'to', 'remove', 'moisture', 'place', 'in', 'a', 'bowl', 'and', 'lightly', 'drizzle', 'with', 'vegetable', 'oil', 'toss', 'until', 'potatoes', 'are', 'all', 'lightly', 'coated', 'with', 'oil', 'sprinkle', 'on', 'the', 'parmesan', 'cheese', 'mixture', 'and', 'toss', 'to', 'distribute', 'place', 'the', 'potatoes', 'cut', 'side', 'down', 'in', 'the', 'prepared', 'baking', 'pan', 'bake', 'uncovered', 'at', '400', 'degrees', 'for', '3040', 'minutes', 'turning', 'cut', 'side', 'up', 'half', 'way', 'through', 'baking', 'time', 'until', 'golden', 'and', 'crispy', 'serve', 'with', 'a', 'dollop', 'of', 'sour', 'cream', 'if', 'desired']\n",
      "['in', 'a', 'large', 'bowl', 'combine', 'the', 'brown', 'sugar', 'tomato', 'sauce', 'dry', 'mustard', 'worcestershire', 'sauce', 'tabasco', 'sauce', 'vinegar', 'and', 'salt', 'set', 'aside', 'cook', 'the', 'bacon', 'until', 'crisp', 'reserving', 'one', 'tablespoon', 'of', 'bacon', 'fat', 'drain', 'bacon', 'cool', 'and', 'crumble', 'and', 'add', 'to', 'sauce', 'mixture', 'saute', 'the', 'onion', 'in', 'the', 'reserved', 'bacon', 'fat', 'until', 'translucent', 'and', 'add', 'to', 'sauce', 'mixture', 'rinse', 'and', 'drain', 'all', 'beans', 'except', 'the', 'baked', 'beans', 'add', 'all', 'the', 'beans', 'to', 'the', 'sauce', 'mixture', 'and', 'thoroughly', 'combine', 'pour', 'beans', 'into', 'a', '9x13', 'baking', 'dish', 'that', 'has', 'been', 'sprayed', 'with', 'nonstick', 'cooking', 'spray', 'bake', 'at', '350', 'degrees', 'for', 'one', 'hour', 'allow', 'to', 'rest', '1015', 'minutes', 'before', 'serving']\n",
      "['in', 'a', 'large', 'bowl', 'combine', 'all', 'salad', 'ingredients', 'except', 'pecans', 'almonds', 'and', 'parsley', 'combine', 'all', 'dressing', 'ingredients', 'in', 'a', 'blender', 'or', 'food', 'processor', 'and', 'puree', 'until', 'mixture', 'is', 'smooth', 'when', 'ready', 'to', 'serve', 'add', 'the', 'pecans', 'almonds', 'and', 'parsley', 'to', 'the', 'salad', 'and', 'toss', 'add', 'some', 'of', 'the', 'dressing', 'to', 'lightly', 'coat', 'you', 'may', 'not', 'need', 'all', 'the', 'dressing', 'season', 'with', 'salt', 'and', 'pepper', 'to', 'taste', 'and', 'serve', 'this', 'salad', 'may', 'be', 'served', 'cold', 'or', 'at', 'room', 'temperature']\n",
      "['in', 'a', 'saucepan', 'combine', 'the', 'oil', 'vinegar', 'sugar', 'salt', 'pepper', 'and', 'garlic', 'powder', 'bring', 'to', 'a', 'boil', 'and', 'stir', 'until', 'sugar', 'is', 'dissolved', '23', 'minutes', 'remove', 'from', 'the', 'heat', 'and', 'cool', 'to', 'room', 'temperature', 'in', 'a', 'large', 'bowl', 'combine', 'the', 'black', 'and', 'pinto', 'beans', 'corn', 'bell', 'peppers', 'celery', 'onion', 'and', 'jalapeno', 'pour', 'cooled', 'dressing', 'over', 'mixture', 'and', 'stir', 'until', 'well', 'coated', 'cover', 'and', 'allow', 'to', 'sit', 'at', 'room', 'temperature', 'for', 'at', 'least', 'an', 'hour', 'stirring', 'occasionally', 'to', 'serve', 'stir', 'and', 'using', 'a', 'slotted', 'spoon', 'transfer', 'to', 'a', 'serving', 'bowl', 'serve', 'with', 'tortilla', 'chips', 'refrigerate', 'leftovers', 'bring', 'to', 'room', 'temperature', 'before', 'serving']\n",
      "['chop', 'the', 'oranges', 'into', 'small', 'pieces', 'and', 'add', 'these', 'as', 'well', 'as', 'any', 'juice', 'chopping', 'creates', 'in', 'to', 'the', 'mixing', 'bowl', 'and', 'combine', 'the', 'sugar', 'oil', 'egg', 'orange', 'juice', 'and', 'bakery', 'emulsion', 'mix', 'well', 'combine', 'dry', 'ingredients', 'stir', 'into', 'orange', 'juice', 'mixture', 'just', 'until', 'moistened', 'fold', 'in', 'chips', 'fill', 'greased', 'or', 'paperlined', 'muffin', 'cups', 'twothirds', 'full', 'combine', 'topping', 'ingredients', 'sprinkle', 'over', 'cupcakes', 'bake', 'at', '375', 'degrees', 'f', 'for', '1520', 'minutes', 'or', 'until', 'golden', 'brown']\n",
      "['1', 'prepare', 'piecrust', 'and', 'put', 'in', 'a', '9', 'inch', 'pie', 'pan', '2', 'heat', 'oven', 'to', '375', 'degrees', '3', 'in', 'a', 'large', 'bowl', 'combine', 'all', 'filing', 'ingredients', 'blend', 'well', '4', 'spoon', 'into', 'pastry', 'lined', 'dish', '5', 'in', 'medium', 'bowl', 'blend', 'the', 'topping', 'ingredients', 'with', 'a', 'fork', 'until', 'crumbly', 'sprinkle', 'over', 'the', 'filling', '6', 'bake', 'at', '375', 'degrees', 'for', '40', 'to', '45', 'minutes', 'or', 'until', 'golden', 'brown']\n",
      "['mix', 'all', 'the', 'ingredients', 'together', 'store', 'in', 'an', 'airtight', 'container']\n",
      "['add', 'liquors', 'to', 'cold', 'milk', 'pour', 'mixture', 'into', 'pudding', 'mix', 'blend', 'thoroughly', 'pour', 'into', 'cups', 'chill', 'in', 'either', 'the', 'fridge', 'or', 'freezer', 'until', 'serving', 'if', 'you', 'store', 'for', 'some', 'time', 'in', 'the', 'freezer', 'allow', 'to', 'thaw', 'at', 'room', 'temperature', 'for', 'about', '20', 'minutes', 'before', 'serving', 'although', 'they', 'are', 'still', 'good', 'frozen', 'like', 'ice', 'cream', 'enjoy']\n",
      "['add', 'liquors', 'to', 'cold', 'milk', 'pour', 'mixture', 'into', 'pudding', 'mix', 'blend', 'thoroughly', 'pour', 'into', 'cups', 'chill', 'in', 'either', 'the', 'fridge', 'or', 'freezer', 'until', 'serving', 'if', 'you', 'store', 'for', 'some', 'time', 'in', 'the', 'freezer', 'allow', 'to', 'thaw', 'at', 'room', 'temperature', 'for', 'about', '20', 'minutes', 'before', 'serving', 'although', 'they', 'are', 'still', 'good', 'frozen', 'like', 'ice', 'cream', 'enjoy']\n",
      "['preheat', 'oven', 'to', '350', 'degrees', 'f', '175', 'degrees', 'c', 'grease', 'and', 'flour', 'a', 'bundt', 'pan', 'combine', 'cake', 'mix', 'pudding', 'mix', 'oil', 'eggs', 'water', 'sour', 'cream', 'and', 'extract', 'beat', 'until', 'smooth', 'stir', 'in', 'chocolate', 'pour', 'batter', 'into', 'prepared', 'pan', 'bake', 'for', '1', 'hour', 'allow', 'to', 'cool']\n",
      "['preheat', 'oven', 'to', '350', 'degrees', 'f', '175', 'degrees', 'c', 'grease', 'and', 'flour', 'a', 'bundt', 'pan', 'combine', 'cake', 'mix', 'pudding', 'mix', 'apple', 'sauce', 'eggs', 'water', 'sour', 'cream', 'and', 'extract', 'beat', 'until', 'smooth', 'stir', 'in', 'chocolate', 'chips', 'pour', 'batter', 'into', 'prepared', 'pan', 'bake', 'for', '1', 'hour', 'allow', 'to', 'cool']\n"
     ]
    }
   ],
   "source": [
    "for word in raw_recipe_data.FullInstruction.str.split():\n",
    "    print(word)"
   ]
  },
  {
   "cell_type": "code",
   "execution_count": null,
   "metadata": {},
   "outputs": [],
   "source": [
    "len(model.wv.vocab)"
   ]
  },
  {
   "cell_type": "code",
   "execution_count": null,
   "metadata": {},
   "outputs": [],
   "source": [
    "model.wv.similarity('boil','bake')"
   ]
  },
  {
   "cell_type": "code",
   "execution_count": null,
   "metadata": {},
   "outputs": [],
   "source": [
    "model.wv.similar_by_word('cake')"
   ]
  },
  {
   "cell_type": "markdown",
   "metadata": {},
   "source": [
    "# Dimentionality Reduction"
   ]
  },
  {
   "cell_type": "code",
   "execution_count": null,
   "metadata": {
    "collapsed": true
   },
   "outputs": [],
   "source": [
    "pca = PCA(n_components=2)\n",
    "pca_data = pca.fit_transform(X)"
   ]
  },
  {
   "cell_type": "code",
   "execution_count": null,
   "metadata": {},
   "outputs": [],
   "source": [
    "# PLOT PCA ONLY\n",
    "plt.figure(figsize=((35,25)))\n",
    "plt.scatter(pca_data[:, 0], pca_data[:, 1])\n",
    "words = list(model.wv.vocab)\n",
    "for i, word in enumerate(words):\n",
    "\tplt.annotate(word, xy=(pca_data[i, 0], pca_data[i, 1]), fontsize=18)\n"
   ]
  },
  {
   "cell_type": "code",
   "execution_count": null,
   "metadata": {
    "collapsed": true
   },
   "outputs": [],
   "source": [
    "from sklearn import manifold"
   ]
  },
  {
   "cell_type": "code",
   "execution_count": null,
   "metadata": {},
   "outputs": [],
   "source": [
    "# PLOT TSNE ONLY\n",
    "tsne = manifold.TSNE(n_components=2, init='pca', perplexity=30, random_state=0)\n",
    "tsne_data = tsne.fit_transform(X)\n",
    "plt.figure(figsize=((15,15)))\n",
    "plt.scatter(tsne_data[:, 0], tsne_data[:, 1])\n",
    "words = list(model.wv.vocab)\n",
    "for i, word in enumerate(words):\n",
    "\tplt.annotate(word, xy=(tsne_data[i, 0], tsne_data[i, 1]), fontsize=8)\n"
   ]
  },
  {
   "cell_type": "code",
   "execution_count": null,
   "metadata": {},
   "outputs": [],
   "source": [
    "# PLOT MDS ONLY\n",
    "from sklearn.metrics import euclidean_distances\n",
    "from sklearn.neighbors import DistanceMetric\n",
    "dist = DistanceMetric.get_metric('euclidean')\n",
    "\n",
    "mds = manifold.MDS(2, max_iter=200, n_init=1)\n",
    "distances = dist.pairwise(X)\n",
    "mds_data = mds.fit_transform(distances)\n",
    "plt.scatter(mds_data[:, 0], mds_data[:, 1])"
   ]
  },
  {
   "cell_type": "code",
   "execution_count": null,
   "metadata": {
    "collapsed": true
   },
   "outputs": [],
   "source": [
    "# PLOT TSVD ONLY\n",
    "from sklearn.decomposition import TruncatedSVD\n",
    "t_svd = TruncatedSVD(n_components=2)"
   ]
  },
  {
   "cell_type": "code",
   "execution_count": null,
   "metadata": {},
   "outputs": [],
   "source": [
    "t_svd_data = t_svd.fit_transform(X)\n",
    "plt.scatter(t_svd_data[:, 0], t_svd_data[:, 1])"
   ]
  },
  {
   "cell_type": "markdown",
   "metadata": {},
   "source": [
    "# Clustering"
   ]
  },
  {
   "cell_type": "code",
   "execution_count": null,
   "metadata": {
    "collapsed": true
   },
   "outputs": [],
   "source": [
    "# set up clustering estimators\n",
    "from sklearn import cluster\n",
    "\n",
    "dbscan = cluster.DBSCAN(metric='cityblock', algorithm='auto', min_samples=3, eps=.2) \n",
    "meanshift = cluster.MeanShift()\n",
    "spectral = cluster.SpectralClustering()\n",
    "affinity = cluster.AffinityPropagation(damping=.6, preference=.5)"
   ]
  },
  {
   "cell_type": "code",
   "execution_count": null,
   "metadata": {
    "collapsed": true
   },
   "outputs": [],
   "source": [
    "y = raw_recipe_data['Author_Code']"
   ]
  },
  {
   "cell_type": "markdown",
   "metadata": {},
   "source": [
    "## DBSCAN on MDS data"
   ]
  },
  {
   "cell_type": "code",
   "execution_count": null,
   "metadata": {
    "collapsed": true
   },
   "outputs": [],
   "source": [
    "# dbscan with MDS data\n",
    "mds_dbscan = dbscan.fit(mds_data)\n"
   ]
  },
  {
   "cell_type": "code",
   "execution_count": null,
   "metadata": {
    "scrolled": false
   },
   "outputs": [],
   "source": [
    "for i in range(0, mds_data.shape[0]):\n",
    "    if mds_dbscan.labels_[i] == 0:\n",
    "        c1 = plt.scatter(mds_data[i,0], mds_data[i,1], c='r', marker='+')\n",
    "    elif mds_dbscan.labels_[i] == 1:\n",
    "        c2 = plt.scatter(mds_data[i,0], mds_data[i,1], c='g', marker='o')\n",
    "    elif mds_dbscan.labels_[i] == -1:\n",
    "        c3 = plt.scatter(mds_data[i,0], mds_data[i,1], c='b', marker='*')\n",
    "plt.legend([c1, c2, c3], ['Cluster 1', 'Cluster 2', 'Cluster 3'])\n",
    "\n",
    "plt.title('DBSCAN finds 3 clusters')\n",
    "plt.show()"
   ]
  },
  {
   "cell_type": "code",
   "execution_count": null,
   "metadata": {
    "scrolled": true
   },
   "outputs": [],
   "source": [
    "plt.scatter(mds_data[:, 0], mds_data[:,1], c = mds_dbscan.labels_)\n"
   ]
  },
  {
   "cell_type": "markdown",
   "metadata": {},
   "source": [
    "## DBSCAN on TSNE data"
   ]
  },
  {
   "cell_type": "code",
   "execution_count": null,
   "metadata": {
    "collapsed": true
   },
   "outputs": [],
   "source": [
    "# lets see dbscan clusters for tsne\n",
    "tsne_dbscan = dbscan.fit(tsne_data)"
   ]
  },
  {
   "cell_type": "code",
   "execution_count": null,
   "metadata": {},
   "outputs": [],
   "source": [
    "for i in range(0, tsne_data.shape[0]):\n",
    "    if tsne_dbscan.labels_[i] == 0:\n",
    "        c1 = plt.scatter(tsne_data[i,0], tsne_data[i,1], c='r', marker='+')\n",
    "    elif tsne_dbscan.labels_[i] == 1:\n",
    "        c2 = plt.scatter(tsne_data[i,0], tsne_data[i,1], c='g', marker='o')\n",
    "    elif tsne_dbscan.labels_[i] == -1:\n",
    "        c3 = plt.scatter(tsne_data[i,0], tsne_data[i,1], c='b', marker='*')\n",
    "plt.legend([c1, c2, c3], ['Cluster 1', 'Cluster 2', 'Cluster 3'])\n",
    "plt.title('DBSCAN finds 3 clusters')\n",
    "plt.show()"
   ]
  },
  {
   "cell_type": "code",
   "execution_count": null,
   "metadata": {},
   "outputs": [],
   "source": [
    "plt.scatter(tsne_data[:, 0], tsne_data[:,1], c = tsne_dbscan.labels_)\n"
   ]
  },
  {
   "cell_type": "markdown",
   "metadata": {},
   "source": [
    "## DBSCAN on PCA data"
   ]
  },
  {
   "cell_type": "code",
   "execution_count": null,
   "metadata": {
    "collapsed": true
   },
   "outputs": [],
   "source": [
    "# dbscan with PCA data\n",
    "pca_dbscan = dbscan.fit(pca_data)\n"
   ]
  },
  {
   "cell_type": "code",
   "execution_count": null,
   "metadata": {},
   "outputs": [],
   "source": [
    "for i in range(0, pca_data.shape[0]):\n",
    "    if pca_dbscan.labels_[i] == 0:\n",
    "        c1 = plt.scatter(pca_data[i,0], pca_data[i,1], c='r', marker='+')\n",
    "    elif pca_dbscan.labels_[i] == 1:\n",
    "        c2 = plt.scatter(pca_data[i,0], pca_data[i,1], c='g', marker='o')\n",
    "    elif pca_dbscan.labels_[i] == -1:\n",
    "        c3 = plt.scatter(pca_data[i,0], pca_data[i,1], c='b', marker='*')\n",
    "plt.legend([c1, c2, c3], ['Cluster 1', 'Cluster 2', 'Cluster 3'])\n",
    "plt.title('DBSCAN finds 3 clusters')\n",
    "plt.show()"
   ]
  },
  {
   "cell_type": "markdown",
   "metadata": {},
   "source": [
    "## DBSCAN on TruncatedSVD"
   ]
  },
  {
   "cell_type": "code",
   "execution_count": null,
   "metadata": {
    "collapsed": true
   },
   "outputs": [],
   "source": [
    "tsvd_dbscan = dbscan.fit(t_svd_data)"
   ]
  },
  {
   "cell_type": "code",
   "execution_count": null,
   "metadata": {},
   "outputs": [],
   "source": [
    "for i in range(0, t_svd_data.shape[0]):\n",
    "    if tsvd_dbscan.labels_[i] == 0:\n",
    "        c1 = plt.scatter(t_svd_data[i,0], t_svd_data[i,1], c='r', marker='+')\n",
    "    elif tsvd_dbscan.labels_[i] == 1:\n",
    "        c2 = plt.scatter(t_svd_data[i,0], t_svd_data[i,1], c='g', marker='o')\n",
    "    elif tsvd_dbscan.labels_[i] == -1:\n",
    "        c3 = plt.scatter(t_svd_data[i,0], t_svd_data[i,1], c='b', marker='*')\n",
    "plt.legend([c1, c2, c3], ['Cluster 1', 'Cluster 2', 'Cluster 3'])\n",
    "plt.title('DBSCAN finds 3 clusters')\n",
    "plt.show()"
   ]
  },
  {
   "cell_type": "code",
   "execution_count": null,
   "metadata": {},
   "outputs": [],
   "source": [
    "plt.scatter(t_svd_data[:, 0], t_svd_data[:,1], c = tsvd_dbscan.labels_)\n"
   ]
  },
  {
   "cell_type": "code",
   "execution_count": null,
   "metadata": {
    "collapsed": true
   },
   "outputs": [],
   "source": [
    "from sklearn.model_selection import GridSearchCV\n",
    "\n",
    "def check_grid(estimator, params, X, y):\n",
    "    grid_classifier = GridSearchCV(estimator=estimator, param_grid=params)\n",
    "    grid_classifier.fit(X, y)\n",
    "    grid_score = grid_classifier.score(X, y)\n",
    "    return (grid_classifier, grid_score)\n"
   ]
  },
  {
   "cell_type": "markdown",
   "metadata": {},
   "source": [
    "## MeanShift on PCA data"
   ]
  },
  {
   "cell_type": "code",
   "execution_count": null,
   "metadata": {},
   "outputs": [],
   "source": [
    "# Meanshift on PCA data\n",
    "meanshift_pca = meanshift.fit(pca_data)\n",
    "for i in range(0, pca_data.shape[0]):\n",
    "    if meanshift_pca.labels_[i] == 0:\n",
    "        c1 = plt.scatter(pca_data[i,0], pca_data[i,1], c='r', marker='+')\n",
    "    elif meanshift_pca.labels_[i] == 1:\n",
    "        c2 = plt.scatter(pca_data[i,0], pca_data[i,1], c='g', marker='o')\n",
    "    elif meanshift_pca.labels_[i] == -1:\n",
    "        c3 = plt.scatter(pca_data[i,0], pca_data[i,1], c='b', marker='*')\n",
    "plt.legend([c1, c2, c3], ['Cluster 1', 'Cluster 2', 'Cluster 3'])\n",
    "plt.title('DBSCAN finds 3 clusters')\n",
    "plt.show()"
   ]
  },
  {
   "cell_type": "markdown",
   "metadata": {},
   "source": [
    "## MeanShift on MDS data"
   ]
  },
  {
   "cell_type": "code",
   "execution_count": null,
   "metadata": {},
   "outputs": [],
   "source": [
    "meanshift_mds = meanshift.fit(mds_data)\n",
    "for i in range(0, mds_data.shape[0]):\n",
    "    if meanshift_mds.labels_[i] == 0:\n",
    "        c1 = plt.scatter(mds_data[i,0], mds_data[i,1], c='r', marker='+')\n",
    "    elif meanshift_mds.labels_[i] == 1:\n",
    "        c2 = plt.scatter(mds_data[i,0], mds_data[i,1], c='g', marker='o')\n",
    "    elif meanshift_mds.labels_[i] == -1:\n",
    "        c3 = plt.scatter(mds_data[i,0], mds_data[i,1], c='b', marker='*')\n",
    "plt.legend([c1, c2, c3], ['Cluster 1', 'Cluster 2', 'Cluster 3'])\n",
    "plt.title('MeanShift finds clusters')\n",
    "plt.show()"
   ]
  },
  {
   "cell_type": "code",
   "execution_count": null,
   "metadata": {},
   "outputs": [],
   "source": [
    "plt.scatter(mds_data[:, 0], mds_data[:,1], c = meanshift_mds.labels_)\n",
    "# try another plot method"
   ]
  },
  {
   "cell_type": "code",
   "execution_count": null,
   "metadata": {},
   "outputs": [],
   "source": [
    "# meanshift mds\n",
    "for i in range(0, mds_data.shape[0]):\n",
    "    if meanshift_mds.labels_[i] == 0:\n",
    "        c1 = plt.scatter(mds_data[i,0], mds_data[i,1], c='r', marker='+')\n",
    "    elif meanshift_mds.labels_[i] == 1:\n",
    "        c2 = plt.scatter(mds_data[i,0], mds_data[i,1], c='g', marker='o')\n",
    "    elif meanshift_mds.labels_[i] == 2:\n",
    "        c3 = plt.scatter(mds_data[i,0], mds_data[i,1], c='b', marker='*')\n",
    "    elif meanshift_mds.labels_[i] == 3:\n",
    "        c4 = plt.scatter(mds_data[i,0], mds_data[i,1], c='y', marker='^')\n",
    "\n",
    "plt.legend([c1, c2, c3, c4], ['Cluster 1', 'Cluster 2', 'Cluster 3', 'Cluster 4'])\n",
    "plt.title('MeanShift finds 4 clusters')\n",
    "plt.show()"
   ]
  },
  {
   "cell_type": "markdown",
   "metadata": {},
   "source": [
    "## MeanShift on TSNE data"
   ]
  },
  {
   "cell_type": "code",
   "execution_count": null,
   "metadata": {},
   "outputs": [],
   "source": [
    "meanshift_tsne = meanshift.fit(tsne_data)\n",
    "for i in range(0, pca_data.shape[0]):\n",
    "    if meanshift_tsne.labels_[i] == 0:\n",
    "        c1 = plt.scatter(tsne_data[i,0], tsne_data[i,1], c='r', marker='+')\n",
    "    elif meanshift_tsne.labels_[i] == 1:\n",
    "        c2 = plt.scatter(tsne_data[i,0], tsne_data[i,1], c='g', marker='o')\n",
    "    elif meanshift_tsne.labels_[i] == -1:\n",
    "        c3 = plt.scatter(tsne_data[i,0], tsne_data[i,1], c='b', marker='*')\n",
    "plt.legend([c1, c2, c3], ['Cluster 1', 'Cluster 2', 'Cluster 3'])\n",
    "plt.title('MeanShift finds clusters')\n",
    "plt.show()"
   ]
  },
  {
   "cell_type": "code",
   "execution_count": null,
   "metadata": {},
   "outputs": [],
   "source": [
    "plt.scatter(tsne_data[:, 0], tsne_data[:,1], c = meanshift_tsne.labels_)\n",
    "# compare two ways to plot"
   ]
  },
  {
   "cell_type": "markdown",
   "metadata": {},
   "source": [
    "## MeanShift on PCA data"
   ]
  },
  {
   "cell_type": "code",
   "execution_count": null,
   "metadata": {},
   "outputs": [],
   "source": [
    "# meanshift pca\n",
    "for i in range(0, pca_data.shape[0]):\n",
    "    if meanshift_pca.labels_[i] == 0:\n",
    "        c1 = plt.scatter(pca_data[i,0], pca_data[i,1], c='r', marker='+')\n",
    "    elif meanshift_pca.labels_[i] == 1:\n",
    "        c2 = plt.scatter(pca_data[i,0], pca_data[i,1], c='g', marker='o')\n",
    "    elif meanshift_pca.labels_[i] == 2:\n",
    "        c3 = plt.scatter(pca_data[i,0], pca_data[i,1], c='b', marker='*')\n",
    "    elif meanshift_pca.labels_[i] == 3:\n",
    "        c4 = plt.scatter(pca_data[i,0], pca_data[i,1], c='y', marker='^')\n",
    "\n",
    "plt.legend([c1, c2, c3, c4], ['Cluster 1', 'Cluster 2', 'Cluster 3', 'Cluster 4'])\n",
    "plt.title('MeanShift finds 4 clusters')\n",
    "plt.show()"
   ]
  },
  {
   "cell_type": "code",
   "execution_count": null,
   "metadata": {},
   "outputs": [],
   "source": [
    "plt.scatter(pca_data[:, 0], pca_data[:,1], c = meanshift_pca.labels_)\n"
   ]
  },
  {
   "cell_type": "markdown",
   "metadata": {},
   "source": [
    "## MeanShift on TSVD"
   ]
  },
  {
   "cell_type": "code",
   "execution_count": null,
   "metadata": {},
   "outputs": [],
   "source": [
    "tsvd_meanshift = meanshift.fit(t_svd_data)\n",
    "plt.scatter(t_svd_data[:, 0], t_svd_data[:,1], c = tsvd_meanshift.labels_)"
   ]
  },
  {
   "cell_type": "code",
   "execution_count": null,
   "metadata": {},
   "outputs": [],
   "source": [
    "for i in range(0, t_svd_data.shape[0]):\n",
    "    if tsvd_meanshift.labels_[i] == 0:\n",
    "        c1 = plt.scatter(t_svd_data[i,0], t_svd_data[i,1], c='r', marker='+')\n",
    "    elif tsvd_meanshift.labels_[i] == 1:\n",
    "        c2 = plt.scatter(t_svd_data[i,0], t_svd_data[i,1], c='g', marker='o')\n",
    "    elif tsvd_meanshift.labels_[i] == 2:\n",
    "        c3 = plt.scatter(t_svd_data[i,0], t_svd_data[i,1], c='b', marker='*')\n",
    "    elif tsvd_meanshift.labels_[i] == 3:\n",
    "        c4 = plt.scatter(t_svd_data[i,0], t_svd_data[i,1], c='y', marker='^')\n",
    "\n",
    "plt.legend([c1, c2, c3, c4], ['Cluster 1', 'Cluster 2', 'Cluster 3', 'Cluster 4'])\n",
    "plt.title('MeanShift finds 4 clusters')\n",
    "plt.show()"
   ]
  },
  {
   "cell_type": "markdown",
   "metadata": {},
   "source": [
    "## Spectral Clustering "
   ]
  },
  {
   "cell_type": "code",
   "execution_count": null,
   "metadata": {},
   "outputs": [],
   "source": [
    "# truncated svd\n",
    "tsvd_spectral = spectral.fit(t_svd_data)\n",
    "plt.scatter(t_svd_data[:, 0], t_svd_data[:,1], c = tsvd_spectral.labels_)"
   ]
  },
  {
   "cell_type": "code",
   "execution_count": null,
   "metadata": {
    "scrolled": true
   },
   "outputs": [],
   "source": [
    "# truncated svd\n",
    "for i in range(0, t_svd_data.shape[0]):\n",
    "    if tsvd_spectral.labels_[i] == 0:\n",
    "        c1 = plt.scatter(t_svd_data[i,0], t_svd_data[i,1], c='r', marker='+')\n",
    "    elif tsvd_spectral.labels_[i] == 1:\n",
    "        c2 = plt.scatter(t_svd_data[i,0], t_svd_data[i,1], c='g', marker='o')\n",
    "    elif tsvd_spectral.labels_[i] == 2:\n",
    "        c3 = plt.scatter(t_svd_data[i,0], t_svd_data[i,1], c='b', marker='*')\n",
    "    elif tsvd_spectral.labels_[i] == 3:\n",
    "        c4 = plt.scatter(t_svd_data[i,0], t_svd_data[i,1], c='y', marker='^')\n",
    "    elif tsvd_spectral.labels_[i] == 4:\n",
    "        c5 = plt.scatter(t_svd_data[i,0], t_svd_data[i,1], c='c', marker='*')\n",
    "    elif tsvd_spectral.labels_[i] == 5:\n",
    "        c6 = plt.scatter(t_svd_data[i,0], t_svd_data[i,1], c='m', marker='+')\n",
    "    elif tsvd_spectral.labels_[i] == 6:\n",
    "        c7 = plt.scatter(t_svd_data[i,0], t_svd_data[i,1], c='orange', marker='o')\n",
    "    elif tsvd_spectral.labels_[i] == 7:\n",
    "        c8 = plt.scatter(t_svd_data[i,0], t_svd_data[i,1], c='purple', marker='*')\n",
    "\n",
    "plt.title('MeanShift finds clusters')\n",
    "plt.show()"
   ]
  },
  {
   "cell_type": "code",
   "execution_count": null,
   "metadata": {},
   "outputs": [],
   "source": [
    "# PCA\n",
    "spectral_pca = spectral.fit(pca_data)\n",
    "plt.scatter(pca_data[:, 0], pca_data[:,1], c = spectral_pca.labels_)"
   ]
  },
  {
   "cell_type": "code",
   "execution_count": null,
   "metadata": {},
   "outputs": [],
   "source": [
    "# PCA alt plot\n",
    "# truncated svd\n",
    "for i in range(0, pca_data.shape[0]):\n",
    "    if spectral_pca.labels_[i] == 0:\n",
    "        c1 = plt.scatter(pca_data[i,0], pca_data[i,1], c='r', marker='+')\n",
    "    elif spectral_pca.labels_[i] == 1:\n",
    "        c2 = plt.scatter(pca_data[i,0], pca_data[i,1], c='g', marker='o')\n",
    "    elif spectral_pca.labels_[i] == 2:\n",
    "        c3 = plt.scatter(pca_data[i,0], pca_data[i,1], c='b', marker='*')\n",
    "    elif spectral_pca.labels_[i] == 3:\n",
    "        c4 = plt.scatter(pca_data[i,0], pca_data[i,1], c='y', marker='^')\n",
    "\n",
    "plt.legend([c1, c2, c3, c4], ['Cluster 1', 'Cluster 2', 'Cluster 3', 'Cluster 4'])\n",
    "plt.title('MeanShift finds 4 clusters')\n",
    "plt.show()"
   ]
  },
  {
   "cell_type": "code",
   "execution_count": null,
   "metadata": {
    "collapsed": true
   },
   "outputs": [],
   "source": []
  },
  {
   "cell_type": "code",
   "execution_count": null,
   "metadata": {},
   "outputs": [],
   "source": [
    "#MDS\n",
    "spectral_mds = spectral.fit(mds_data)\n",
    "plt.scatter(mds_data[:, 0], mds_data[:,1], c = spectral_mds.labels_)"
   ]
  },
  {
   "cell_type": "code",
   "execution_count": null,
   "metadata": {},
   "outputs": [],
   "source": [
    "# MDS alt plot\n",
    "# truncated svd\n",
    "for i in range(0, mds_data.shape[0]):\n",
    "    if spectral_mds.labels_[i] == 0:\n",
    "        c1 = plt.scatter(mds_data[i,0], mds_data[i,1], c='r', marker='+')\n",
    "    elif spectral_mds.labels_[i] == 1:\n",
    "        c2 = plt.scatter(mds_data[i,0], mds_data[i,1], c='g', marker='o')\n",
    "    elif spectral_mds.labels_[i] == 2:\n",
    "        c3 = plt.scatter(mds_data[i,0], mds_data[i,1], c='b', marker='*')\n",
    "    elif spectral_mds.labels_[i] == 3:\n",
    "        c4 = plt.scatter(mds_data[i,0], mds_data[i,1], c='y', marker='^')\n",
    "    elif spectral_mds.labels_[i] == 4:\n",
    "        c5 = plt.scatter(mds_data[i,0], mds_data[i,1], c='c', marker='*')\n",
    "    elif spectral_mds.labels_[i] == 5:\n",
    "        c6 = plt.scatter(mds_data[i,0], mds_data[i,1], c='m', marker='+')\n",
    "    elif spectral_mds.labels_[i] == 6:\n",
    "        c7 = plt.scatter(mds_data[i,0], mds_data[i,1], c='orange', marker='o')\n",
    "    elif spectral_mds.labels_[i] == 7:\n",
    "        c8 = plt.scatter(mds_data[i,0], mds_data[i,1], c='purple', marker='*')\n",
    "\n",
    "#plt.legend([c1, c2, c3, c4], ['Cluster 1', 'Cluster 2', 'Cluster 3', 'Cluster 4'])\n",
    "plt.title('MeanShift finds clusters')\n",
    "plt.show()"
   ]
  },
  {
   "cell_type": "code",
   "execution_count": null,
   "metadata": {},
   "outputs": [],
   "source": [
    "# tSNE\n",
    "tsvd_spectral = spectral.fit(t_svd_data)\n",
    "plt.scatter(t_svd_data[:, 0], t_svd_data[:,1], c = tsvd_spectral.labels_)"
   ]
  },
  {
   "cell_type": "code",
   "execution_count": null,
   "metadata": {},
   "outputs": [],
   "source": [
    "# tSNE alt plot\n",
    "# truncated svd\n",
    "for i in range(0, t_svd_data.shape[0]):\n",
    "    if tsvd_spectral.labels_[i] == 0:\n",
    "        c1 = plt.scatter(t_svd_data[i,0], t_svd_data[i,1], c='r', marker='+')\n",
    "    elif tsvd_spectral.labels_[i] == 1:\n",
    "        c2 = plt.scatter(t_svd_data[i,0], t_svd_data[i,1], c='g', marker='o')\n",
    "    elif tsvd_spectral.labels_[i] == 2:\n",
    "        c3 = plt.scatter(t_svd_data[i,0], t_svd_data[i,1], c='b', marker='*')\n",
    "    elif tsvd_spectral.labels_[i] == 3:\n",
    "        c4 = plt.scatter(t_svd_data[i,0], t_svd_data[i,1], c='y', marker='^')\n",
    "    elif tsvd_spectral.labels_[i] == 4:\n",
    "        c5 = plt.scatter(t_svd_data[i,0], t_svd_data[i,1], c='c', marker='*')\n",
    "    elif tsvd_spectral.labels_[i] == 5:\n",
    "        c6 = plt.scatter(t_svd_data[i,0], t_svd_data[i,1], c='m', marker='+')\n",
    "    elif tsvd_spectral.labels_[i] == 6:\n",
    "        c7 = plt.scatter(t_svd_data[i,0], t_svd_data[i,1], c='orange', marker='o')\n",
    "    elif tsvd_spectral.labels_[i] == 7:\n",
    "        c8 = plt.scatter(t_svd_data[i,0], t_svd_data[i,1], c='purple', marker='*')\n",
    "\n",
    "plt.title('MeanShift finds 4 clusters')\n",
    "plt.show()"
   ]
  },
  {
   "cell_type": "markdown",
   "metadata": {},
   "source": [
    "## Affinity Propogation"
   ]
  },
  {
   "cell_type": "code",
   "execution_count": null,
   "metadata": {},
   "outputs": [],
   "source": [
    "# t SVD\n",
    "tsvd_affinity = affinity.fit(t_svd_data)\n",
    "plt.scatter(t_svd_data[:, 0], t_svd_data[:,1], c = tsvd_affinity.labels_)"
   ]
  },
  {
   "cell_type": "code",
   "execution_count": null,
   "metadata": {},
   "outputs": [],
   "source": [
    "# tSVD\n",
    "# truncated svd\n",
    "for i in range(0, t_svd_data.shape[0]):\n",
    "    if tsvd_affinity.labels_[i] == 0:\n",
    "        c1 = plt.scatter(t_svd_data[i,0], t_svd_data[i,1], c='r', marker='+')\n",
    "    elif tsvd_affinity.labels_[i] == 1:\n",
    "        c2 = plt.scatter(t_svd_data[i,0], t_svd_data[i,1], c='g', marker='o')\n",
    "    elif tsvd_affinity.labels_[i] == 2:\n",
    "        c3 = plt.scatter(t_svd_data[i,0], t_svd_data[i,1], c='b', marker='*')\n",
    "    elif tsvd_affinity.labels_[i] == 3:\n",
    "        c4 = plt.scatter(t_svd_data[i,0], t_svd_data[i,1], c='y', marker='^')\n",
    "\n",
    "plt.title('Affinity Propogation finds clusters')\n",
    "plt.show()"
   ]
  },
  {
   "cell_type": "code",
   "execution_count": null,
   "metadata": {},
   "outputs": [],
   "source": [
    "#tSNE\n",
    "tsne_affinity = affinity.fit(tsne_data)\n",
    "plt.scatter(tsne_data[:, 0], tsne_data[:,1], c = tsne_affinity.labels_)"
   ]
  },
  {
   "cell_type": "code",
   "execution_count": null,
   "metadata": {},
   "outputs": [],
   "source": [
    "#tSNE\n",
    "# truncated svd\n",
    "for i in range(0, tsne_data.shape[0]):\n",
    "    if tsne_affinity.labels_[i] == 0:\n",
    "        c1 = plt.scatter(tsne_data[i,0], tsne_data[i,1], c='r', marker='+')\n",
    "    elif tsne_affinity.labels_[i] == 1:\n",
    "        c2 = plt.scatter(tsne_data[i,0], tsne_data[i,1], c='g', marker='o')\n",
    "    elif tsne_affinity.labels_[i] == 2:\n",
    "        c3 = plt.scatter(tsne_data[i,0], tsne_data[i,1], c='b', marker='*')\n",
    "    elif tsne_affinity.labels_[i] == 3:\n",
    "        c4 = plt.scatter(tsne_data[i,0], tsne_data[i,1], c='y', marker='^')\n",
    "\n",
    "plt.title('Affinity Propgation finds clusters')\n",
    "plt.show()"
   ]
  },
  {
   "cell_type": "code",
   "execution_count": null,
   "metadata": {},
   "outputs": [],
   "source": [
    "# PCA\n",
    "affinity_pca = affinity.fit(pca_data)\n",
    "plt.scatter(pca_data[:, 0], pca_data[:,1], c = affinity_pca.labels_)"
   ]
  },
  {
   "cell_type": "code",
   "execution_count": null,
   "metadata": {},
   "outputs": [],
   "source": [
    "#PCA\n",
    "# truncated svd\n",
    "for i in range(0, pca_data.shape[0]):\n",
    "    if affinity_pca.labels_[i] == 0:\n",
    "        c1 = plt.scatter(pca_data[i,0], pca_data[i,1], c='r', marker='+')\n",
    "    elif affinity_pca.labels_[i] == 1:\n",
    "        c2 = plt.scatter(pca_data[i,0], pca_data[i,1], c='g', marker='o')\n",
    "    elif affinity_pca.labels_[i] == 2:\n",
    "        c3 = plt.scatter(pca_data[i,0], pca_data[i,1], c='b', marker='*')\n",
    "    elif affinity_pca.labels_[i] == 3:\n",
    "        c4 = plt.scatter(pca_data[i,0], pca_data[i,1], c='y', marker='^')\n",
    "\n",
    "plt.title('Affinity Propgation finds clusters')\n",
    "plt.show()"
   ]
  },
  {
   "cell_type": "code",
   "execution_count": null,
   "metadata": {},
   "outputs": [],
   "source": [
    "#MDS\n",
    "affinity_mds = affinity.fit(mds_data)\n",
    "plt.scatter(mds_data[:, 0], mds_data[:,1], c = tsvd_meanshift.labels_)"
   ]
  },
  {
   "cell_type": "code",
   "execution_count": null,
   "metadata": {},
   "outputs": [],
   "source": [
    "#MDS\n",
    "# truncated svd\n",
    "for i in range(0, mds_data.shape[0]):\n",
    "    if affinity_mds.labels_[i] == 0:\n",
    "        c1 = plt.scatter(mds_data[i,0], mds_data[i,1], c='r', marker='+')\n",
    "    elif affinity_mds.labels_[i] == 1:\n",
    "        c2 = plt.scatter(mds_data[i,0], mds_data[i,1], c='g', marker='o')\n",
    "    elif affinity_mds.labels_[i] == 2:\n",
    "        c3 = plt.scatter(mds_data[i,0], mds_data[i,1], c='b', marker='*')\n",
    "    elif affinity_mds.labels_[i] == 3:\n",
    "        c4 = plt.scatter(mds_data[i,0], mds_data[i,1], c='y', marker='^')\n",
    "\n",
    "plt.legend([c1, c2, c3, c4], ['Cluster 1', 'Cluster 2', 'Cluster 3', 'Cluster 4'])\n",
    "plt.title('MeanShift finds 4 clusters')\n",
    "plt.show()"
   ]
  },
  {
   "cell_type": "code",
   "execution_count": null,
   "metadata": {
    "collapsed": true
   },
   "outputs": [],
   "source": []
  }
 ],
 "metadata": {
  "anaconda-cloud": {},
  "kernelspec": {
   "display_name": "Python 3",
   "language": "python",
   "name": "python3"
  },
  "language_info": {
   "codemirror_mode": {
    "name": "ipython",
    "version": 3
   },
   "file_extension": ".py",
   "mimetype": "text/x-python",
   "name": "python",
   "nbconvert_exporter": "python",
   "pygments_lexer": "ipython3",
   "version": "3.6.3"
  }
 },
 "nbformat": 4,
 "nbformat_minor": 2
}
