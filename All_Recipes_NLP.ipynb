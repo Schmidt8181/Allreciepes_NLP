{
 "cells": [
  {
   "cell_type": "code",
   "execution_count": 1,
   "metadata": {
    "collapsed": true
   },
   "outputs": [],
   "source": [
    "import numpy as np\n",
    "import pandas as pd\n",
    "import scipy\n",
    "import matplotlib.pyplot as plt\n",
    "import seaborn as sns\n",
    "from sklearn.cluster import KMeans, MeanShift, estimate_bandwidth\n",
    "from sklearn.cluster import SpectralClustering, AffinityPropagation, MiniBatchKMeans\n",
    "from sklearn import metrics\n",
    "from sklearn.preprocessing import normalize\n",
    "from sklearn.decomposition import PCA\n",
    "from sklearn.model_selection import train_test_split\n",
    "%matplotlib inline"
   ]
  },
  {
   "cell_type": "code",
   "execution_count": 2,
   "metadata": {
    "collapsed": true
   },
   "outputs": [],
   "source": [
    "import os\n",
    "curr_directory = os.getcwd()\n",
    "datafile = curr_directory + \"/all_recipe_data.json\""
   ]
  },
  {
   "cell_type": "code",
   "execution_count": 46,
   "metadata": {
    "collapsed": true
   },
   "outputs": [],
   "source": [
    "import json\n",
    "raw_recipe_data = pd.read_json(datafile)"
   ]
  },
  {
   "cell_type": "code",
   "execution_count": 36,
   "metadata": {},
   "outputs": [
    {
     "data": {
      "text/plain": [
       "False"
      ]
     },
     "execution_count": 36,
     "metadata": {},
     "output_type": "execute_result"
    }
   ],
   "source": [
    "raw_recipe_data.isnull().values.any()"
   ]
  },
  {
   "cell_type": "code",
   "execution_count": 47,
   "metadata": {},
   "outputs": [
    {
     "data": {
      "text/html": [
       "<div>\n",
       "<style>\n",
       "    .dataframe thead tr:only-child th {\n",
       "        text-align: right;\n",
       "    }\n",
       "\n",
       "    .dataframe thead th {\n",
       "        text-align: left;\n",
       "    }\n",
       "\n",
       "    .dataframe tbody tr th {\n",
       "        vertical-align: top;\n",
       "    }\n",
       "</style>\n",
       "<table border=\"1\" class=\"dataframe\">\n",
       "  <thead>\n",
       "    <tr style=\"text-align: right;\">\n",
       "      <th></th>\n",
       "      <th>Author</th>\n",
       "      <th>Instructions</th>\n",
       "    </tr>\n",
       "  </thead>\n",
       "  <tbody>\n",
       "    <tr>\n",
       "      <th>0</th>\n",
       "      <td>[witchywoman]</td>\n",
       "      <td>Mix grapefruit, orange, apples, pineapple, mar...</td>\n",
       "    </tr>\n",
       "    <tr>\n",
       "      <th>1</th>\n",
       "      <td>[witchywoman]</td>\n",
       "      <td>Fill a margarita glass with crushed ice. Pour ...</td>\n",
       "    </tr>\n",
       "    <tr>\n",
       "      <th>2</th>\n",
       "      <td>[witchywoman]</td>\n",
       "      <td>Preheat an oven to 350 degrees F (175 degrees ...</td>\n",
       "    </tr>\n",
       "    <tr>\n",
       "      <th>3</th>\n",
       "      <td>[witchywoman]</td>\n",
       "      <td></td>\n",
       "    </tr>\n",
       "    <tr>\n",
       "      <th>4</th>\n",
       "      <td>[witchywoman]</td>\n",
       "      <td>Mix the teriyaki sauce, garlic, ginger, and re...</td>\n",
       "    </tr>\n",
       "  </tbody>\n",
       "</table>\n",
       "</div>"
      ],
      "text/plain": [
       "          Author                                       Instructions\n",
       "0  [witchywoman]  Mix grapefruit, orange, apples, pineapple, mar...\n",
       "1  [witchywoman]  Fill a margarita glass with crushed ice. Pour ...\n",
       "2  [witchywoman]  Preheat an oven to 350 degrees F (175 degrees ...\n",
       "3  [witchywoman]                                                   \n",
       "4  [witchywoman]  Mix the teriyaki sauce, garlic, ginger, and re..."
      ]
     },
     "execution_count": 47,
     "metadata": {},
     "output_type": "execute_result"
    }
   ],
   "source": [
    "raw_recipe_data = raw_recipe_data.replace(np.nan, \"\", regex=True)\n",
    "raw_recipe_data.head()"
   ]
  },
  {
   "cell_type": "code",
   "execution_count": 38,
   "metadata": {},
   "outputs": [
    {
     "data": {
      "text/plain": [
       "Author          0\n",
       "Instructions    0\n",
       "dtype: int64"
      ]
     },
     "execution_count": 38,
     "metadata": {},
     "output_type": "execute_result"
    }
   ],
   "source": [
    "raw_recipe_data.isnull().sum()"
   ]
  },
  {
   "cell_type": "code",
   "execution_count": 39,
   "metadata": {},
   "outputs": [
    {
     "data": {
      "text/html": [
       "<div>\n",
       "<style>\n",
       "    .dataframe thead tr:only-child th {\n",
       "        text-align: right;\n",
       "    }\n",
       "\n",
       "    .dataframe thead th {\n",
       "        text-align: left;\n",
       "    }\n",
       "\n",
       "    .dataframe tbody tr th {\n",
       "        vertical-align: top;\n",
       "    }\n",
       "</style>\n",
       "<table border=\"1\" class=\"dataframe\">\n",
       "  <thead>\n",
       "    <tr style=\"text-align: right;\">\n",
       "      <th></th>\n",
       "      <th>Author</th>\n",
       "      <th>Instructions</th>\n",
       "    </tr>\n",
       "  </thead>\n",
       "  <tbody>\n",
       "    <tr>\n",
       "      <th>0</th>\n",
       "      <td>[witchywoman]</td>\n",
       "      <td>Mix grapefruit, orange, apples, pineapple, mar...</td>\n",
       "    </tr>\n",
       "    <tr>\n",
       "      <th>1</th>\n",
       "      <td>[witchywoman]</td>\n",
       "      <td>Fill a margarita glass with crushed ice. Pour ...</td>\n",
       "    </tr>\n",
       "    <tr>\n",
       "      <th>2</th>\n",
       "      <td>[witchywoman]</td>\n",
       "      <td>Preheat an oven to 350 degrees F (175 degrees ...</td>\n",
       "    </tr>\n",
       "    <tr>\n",
       "      <th>3</th>\n",
       "      <td>[witchywoman]</td>\n",
       "      <td></td>\n",
       "    </tr>\n",
       "    <tr>\n",
       "      <th>4</th>\n",
       "      <td>[witchywoman]</td>\n",
       "      <td>Mix the teriyaki sauce, garlic, ginger, and re...</td>\n",
       "    </tr>\n",
       "  </tbody>\n",
       "</table>\n",
       "</div>"
      ],
      "text/plain": [
       "          Author                                       Instructions\n",
       "0  [witchywoman]  Mix grapefruit, orange, apples, pineapple, mar...\n",
       "1  [witchywoman]  Fill a margarita glass with crushed ice. Pour ...\n",
       "2  [witchywoman]  Preheat an oven to 350 degrees F (175 degrees ...\n",
       "3  [witchywoman]                                                   \n",
       "4  [witchywoman]  Mix the teriyaki sauce, garlic, ginger, and re..."
      ]
     },
     "execution_count": 39,
     "metadata": {},
     "output_type": "execute_result"
    }
   ],
   "source": [
    "raw_recipe_data.head()"
   ]
  },
  {
   "cell_type": "code",
   "execution_count": null,
   "metadata": {
    "collapsed": true
   },
   "outputs": [],
   "source": [
    "raw_recipe_data.drop(3, axis=0, inplace=True)"
   ]
  },
  {
   "cell_type": "code",
   "execution_count": 239,
   "metadata": {
    "collapsed": true
   },
   "outputs": [],
   "source": [
    "from string import punctuation\n",
    "\n",
    "transtab = str.maketrans({key:None for key in punctuation if key != \".\"})"
   ]
  },
  {
   "cell_type": "code",
   "execution_count": 240,
   "metadata": {
    "scrolled": false
   },
   "outputs": [
    {
     "data": {
      "text/html": [
       "<div>\n",
       "<style>\n",
       "    .dataframe thead tr:only-child th {\n",
       "        text-align: right;\n",
       "    }\n",
       "\n",
       "    .dataframe thead th {\n",
       "        text-align: left;\n",
       "    }\n",
       "\n",
       "    .dataframe tbody tr th {\n",
       "        vertical-align: top;\n",
       "    }\n",
       "</style>\n",
       "<table border=\"1\" class=\"dataframe\">\n",
       "  <thead>\n",
       "    <tr style=\"text-align: right;\">\n",
       "      <th></th>\n",
       "      <th>Author</th>\n",
       "      <th>Instructions</th>\n",
       "    </tr>\n",
       "  </thead>\n",
       "  <tbody>\n",
       "    <tr>\n",
       "      <th>0</th>\n",
       "      <td>witchywoman</td>\n",
       "      <td>[mix grapefruit orange apples pineapple marasc...</td>\n",
       "    </tr>\n",
       "    <tr>\n",
       "      <th>1</th>\n",
       "      <td>witchywoman</td>\n",
       "      <td>[fill a margarita glass with crushed ice,  pou...</td>\n",
       "    </tr>\n",
       "    <tr>\n",
       "      <th>2</th>\n",
       "      <td>witchywoman</td>\n",
       "      <td>[preheat an oven to 350 degrees f 175 degrees ...</td>\n",
       "    </tr>\n",
       "    <tr>\n",
       "      <th>4</th>\n",
       "      <td>witchywoman</td>\n",
       "      <td>[mix the teriyaki sauce garlic ginger and red ...</td>\n",
       "    </tr>\n",
       "    <tr>\n",
       "      <th>5</th>\n",
       "      <td>witchywoman</td>\n",
       "      <td>[fill a pint glass with ice and pour in the vo...</td>\n",
       "    </tr>\n",
       "  </tbody>\n",
       "</table>\n",
       "</div>"
      ],
      "text/plain": [
       "        Author                                       Instructions\n",
       "0  witchywoman  [mix grapefruit orange apples pineapple marasc...\n",
       "1  witchywoman  [fill a margarita glass with crushed ice,  pou...\n",
       "2  witchywoman  [preheat an oven to 350 degrees f 175 degrees ...\n",
       "4  witchywoman  [mix the teriyaki sauce garlic ginger and red ...\n",
       "5  witchywoman  [fill a pint glass with ice and pour in the vo..."
      ]
     },
     "execution_count": 240,
     "metadata": {},
     "output_type": "execute_result"
    }
   ],
   "source": [
    "# remove punctuation\n",
    "raw_recipe_data.Instructions = raw_recipe_data.Instructions.apply(lambda x: x.lower().translate(transtab).strip().split(\".\"))\n",
    "raw_recipe_data.head()"
   ]
  },
  {
   "cell_type": "code",
   "execution_count": 227,
   "metadata": {},
   "outputs": [
    {
     "data": {
      "text/html": [
       "<div>\n",
       "<style>\n",
       "    .dataframe thead tr:only-child th {\n",
       "        text-align: right;\n",
       "    }\n",
       "\n",
       "    .dataframe thead th {\n",
       "        text-align: left;\n",
       "    }\n",
       "\n",
       "    .dataframe tbody tr th {\n",
       "        vertical-align: top;\n",
       "    }\n",
       "</style>\n",
       "<table border=\"1\" class=\"dataframe\">\n",
       "  <thead>\n",
       "    <tr style=\"text-align: right;\">\n",
       "      <th></th>\n",
       "      <th>Author</th>\n",
       "      <th>Instructions</th>\n",
       "    </tr>\n",
       "  </thead>\n",
       "  <tbody>\n",
       "    <tr>\n",
       "      <th>0</th>\n",
       "      <td>witchywoman</td>\n",
       "      <td>mix grapefruit, orange, apples, pineapple, mar...</td>\n",
       "    </tr>\n",
       "    <tr>\n",
       "      <th>1</th>\n",
       "      <td>witchywoman</td>\n",
       "      <td>fill a margarita glass with crushed ice. pour ...</td>\n",
       "    </tr>\n",
       "    <tr>\n",
       "      <th>2</th>\n",
       "      <td>witchywoman</td>\n",
       "      <td>preheat an oven to 350 degrees f (175 degrees ...</td>\n",
       "    </tr>\n",
       "    <tr>\n",
       "      <th>4</th>\n",
       "      <td>witchywoman</td>\n",
       "      <td>mix the teriyaki sauce, garlic, ginger, and re...</td>\n",
       "    </tr>\n",
       "    <tr>\n",
       "      <th>5</th>\n",
       "      <td>witchywoman</td>\n",
       "      <td>fill a pint glass with ice, and pour in the vo...</td>\n",
       "    </tr>\n",
       "  </tbody>\n",
       "</table>\n",
       "</div>"
      ],
      "text/plain": [
       "        Author                                       Instructions\n",
       "0  witchywoman  mix grapefruit, orange, apples, pineapple, mar...\n",
       "1  witchywoman  fill a margarita glass with crushed ice. pour ...\n",
       "2  witchywoman  preheat an oven to 350 degrees f (175 degrees ...\n",
       "4  witchywoman  mix the teriyaki sauce, garlic, ginger, and re...\n",
       "5  witchywoman  fill a pint glass with ice, and pour in the vo..."
      ]
     },
     "execution_count": 227,
     "metadata": {},
     "output_type": "execute_result"
    }
   ],
   "source": [
    "raw_recipe_data.Author = raw_recipe_data.Author.apply(lambda x: x[0])\n",
    "raw_recipe_data.head()"
   ]
  },
  {
   "cell_type": "code",
   "execution_count": 241,
   "metadata": {},
   "outputs": [
    {
     "data": {
      "text/plain": [
       "['mix grapefruit orange apples pineapple maraschino cherries and grapes in a large bowl',\n",
       " ' mash slightly with the back of a wooden spoon to release juices',\n",
       " ' add bananas coconut walnuts and sugar stir to coat',\n",
       " ' cover and refrigerate to blend flavors at least 1 hour',\n",
       " '']"
      ]
     },
     "execution_count": 241,
     "metadata": {},
     "output_type": "execute_result"
    }
   ],
   "source": [
    "raw_recipe_data.Instructions.iloc[0]"
   ]
  },
  {
   "cell_type": "code",
   "execution_count": null,
   "metadata": {
    "collapsed": true
   },
   "outputs": [],
   "source": [
    "# Get Instructions: List of list of sentences; DONE\n",
    "# Flatten list of list of sentences -> List of sentences; DONE\n",
    "# Remove stopwords from each sentence; DONE\n",
    "# Create Train/Test split of sentences; DONE\n",
    "# Pass Training set into Gensim; DONE"
   ]
  },
  {
   "cell_type": "code",
   "execution_count": 348,
   "metadata": {},
   "outputs": [
    {
     "data": {
      "text/plain": [
       "[['mix grapefruit orange apples pineapple maraschino cherries and grapes in a large bowl',\n",
       "  ' mash slightly with the back of a wooden spoon to release juices',\n",
       "  ' add bananas coconut walnuts and sugar stir to coat',\n",
       "  ' cover and refrigerate to blend flavors at least 1 hour',\n",
       "  ''],\n",
       " ['fill a margarita glass with crushed ice',\n",
       "  ' pour tequila melon liqueur and triple sec into the glass',\n",
       "  ' top with sour mix grenadine lime juice and orange juice',\n",
       "  ' garnish with the cherry and a wedge of orange',\n",
       "  ''],\n",
       " ['preheat an oven to 350 degrees f 175 degrees c',\n",
       "  ' grease 12 muffin cups or line with paper muffin liners',\n",
       "  ' stir the flour cinnamon nutmeg allspice cloves pumpkin pie spice cardamom ginger salt and baking soda together in a bowl',\n",
       "  ' beat the brown sugar and the eggs together with an electric mixer in a large bowl until smooth',\n",
       "  ' add 12 cup plus 2 tablespoons vegetable oil and pumpkin continue beating until integrated',\n",
       "  ' pour the flour mixture into the egg mixture and beat until just incorporated',\n",
       "  ' fill the prepared muffin cups about halffull with the batter',\n",
       "  ' spoon about 1 teaspoon cream cheese into the center of each muffin cup and poke it down into the middle of the batter with a finger',\n",
       "  ' sprinkle the sunflower seeds over each muffin',\n",
       "  ' bake in the preheated oven until golden and the tops spring back when lightly pressed about 25 minutes',\n",
       "  ' let cool in pan 5 minutes and remove to a rack to cool completely',\n",
       "  ' be extra careful the cream cheese stays hot for a while']]"
      ]
     },
     "execution_count": 348,
     "metadata": {},
     "output_type": "execute_result"
    }
   ],
   "source": [
    "# get instructions\n",
    "sentences = [text for text in raw_recipe_data.Instructions]\n",
    "sentences[:3]"
   ]
  },
  {
   "cell_type": "code",
   "execution_count": 321,
   "metadata": {
    "collapsed": true
   },
   "outputs": [],
   "source": [
    "# flatten list of sentences\n",
    "from itertools import chain\n",
    "\n",
    "sentences = list(chain.from_iterable(sentences))"
   ]
  },
  {
   "cell_type": "code",
   "execution_count": 323,
   "metadata": {},
   "outputs": [
    {
     "data": {
      "text/plain": [
       "861"
      ]
     },
     "execution_count": 323,
     "metadata": {},
     "output_type": "execute_result"
    }
   ],
   "source": [
    "len(sentences)"
   ]
  },
  {
   "cell_type": "code",
   "execution_count": 324,
   "metadata": {
    "collapsed": true
   },
   "outputs": [],
   "source": [
    "# remove empty strings\n",
    "clean_sentences = list(filter(None, sentences))\n"
   ]
  },
  {
   "cell_type": "code",
   "execution_count": 325,
   "metadata": {},
   "outputs": [
    {
     "data": {
      "text/plain": [
       "749"
      ]
     },
     "execution_count": 325,
     "metadata": {},
     "output_type": "execute_result"
    }
   ],
   "source": [
    "len(clean_sentences)"
   ]
  },
  {
   "cell_type": "code",
   "execution_count": 306,
   "metadata": {
    "collapsed": true
   },
   "outputs": [],
   "source": [
    "# remove stop words\n",
    "stoplist = set('for a of the and to in'.split(' '))\n",
    "sentences_text = [[word for word in document.split() if word not in stoplist]\n",
    "                  for document in clean_sentences]"
   ]
  },
  {
   "cell_type": "code",
   "execution_count": 347,
   "metadata": {},
   "outputs": [],
   "source": [
    "# flatten list of words of sentences\n",
    "combined_text = list(chain.from_iterable(sentences_text))\n"
   ]
  },
  {
   "cell_type": "code",
   "execution_count": 310,
   "metadata": {
    "collapsed": true,
    "scrolled": true
   },
   "outputs": [],
   "source": [
    "np.random.shuffle(clean_sentences)\n",
    "train, test = sentences_text[:562], sentences_text[562:]"
   ]
  },
  {
   "cell_type": "code",
   "execution_count": 309,
   "metadata": {},
   "outputs": [
    {
     "data": {
      "text/plain": [
       "749"
      ]
     },
     "execution_count": 309,
     "metadata": {},
     "output_type": "execute_result"
    }
   ],
   "source": [
    "len(sentences_text)"
   ]
  },
  {
   "cell_type": "code",
   "execution_count": 312,
   "metadata": {},
   "outputs": [
    {
     "data": {
      "text/plain": [
       "[['place',\n",
       "  'bouillon',\n",
       "  'cubes',\n",
       "  'medium',\n",
       "  'pot',\n",
       "  'filled',\n",
       "  'with',\n",
       "  'water',\n",
       "  'bring',\n",
       "  'boil'],\n",
       " ['cook',\n",
       "  'over',\n",
       "  'mediumhigh',\n",
       "  'heat',\n",
       "  'until',\n",
       "  'thickened',\n",
       "  '–',\n",
       "  'stirring',\n",
       "  'often',\n",
       "  'keep',\n",
       "  'it',\n",
       "  'from',\n",
       "  'sticking',\n",
       "  'bottom',\n",
       "  'pan'],\n",
       " ['sprinkle',\n",
       "  'tops',\n",
       "  'fried',\n",
       "  'bread',\n",
       "  'with',\n",
       "  'some',\n",
       "  'cheese',\n",
       "  'garlic',\n",
       "  'powder',\n",
       "  'if',\n",
       "  'using']]"
      ]
     },
     "execution_count": 312,
     "metadata": {},
     "output_type": "execute_result"
    }
   ],
   "source": [
    "#train = [tr for tr in train if len(tr) > 1]\n",
    "#test = [te for te in test if len(te) > 1]\n",
    "train[:3]"
   ]
  },
  {
   "cell_type": "code",
   "execution_count": 313,
   "metadata": {
    "scrolled": true
   },
   "outputs": [
    {
     "data": {
      "text/plain": [
       "['place', 'bouillon', 'cubes']"
      ]
     },
     "execution_count": 313,
     "metadata": {},
     "output_type": "execute_result"
    }
   ],
   "source": [
    "training_list = list(chain.from_iterable(train))\n",
    "testing_list = list(chain.from_iterable(test))\n",
    "training_list[:3]"
   ]
  },
  {
   "cell_type": "code",
   "execution_count": 315,
   "metadata": {},
   "outputs": [
    {
     "name": "stdout",
     "output_type": "stream",
     "text": [
      "5107 1702\n"
     ]
    }
   ],
   "source": [
    "print(len(training_list), len(testing_list))"
   ]
  },
  {
   "cell_type": "code",
   "execution_count": 314,
   "metadata": {},
   "outputs": [
    {
     "data": {
      "text/plain": [
       "['store', 'an', 'airtight']"
      ]
     },
     "execution_count": 314,
     "metadata": {},
     "output_type": "execute_result"
    }
   ],
   "source": [
    "testing_list[:3]"
   ]
  },
  {
   "cell_type": "code",
   "execution_count": 118,
   "metadata": {
    "collapsed": true
   },
   "outputs": [],
   "source": [
    "# import modules & set up logging\n",
    "import gensim, logging\n",
    "\n",
    "logging.basicConfig(format='%(asctime)s : %(levelname)s : %(message)s', level=logging.INFO)"
   ]
  },
  {
   "cell_type": "code",
   "execution_count": 317,
   "metadata": {},
   "outputs": [
    {
     "name": "stderr",
     "output_type": "stream",
     "text": [
      "2018-04-23 19:19:23,187 : INFO : collecting all words and their counts\n",
      "2018-04-23 19:19:23,189 : INFO : PROGRESS: at sentence #0, processed 0 words, keeping 0 word types\n",
      "2018-04-23 19:19:23,192 : INFO : collected 1053 word types from a corpus of 5107 raw words and 562 sentences\n",
      "2018-04-23 19:19:23,193 : INFO : Loading a fresh vocabulary\n",
      "2018-04-23 19:19:23,197 : INFO : min_count=3 retains 417 unique words (39% of original 1053, drops 636)\n",
      "2018-04-23 19:19:23,199 : INFO : min_count=3 leaves 4300 word corpus (84% of original 5107, drops 807)\n",
      "2018-04-23 19:19:23,204 : INFO : deleting the raw counts dictionary of 1053 items\n",
      "2018-04-23 19:19:23,206 : INFO : sample=0.001 downsamples 99 most-common words\n",
      "2018-04-23 19:19:23,207 : INFO : downsampling leaves estimated 3126 word corpus (72.7% of prior 4300)\n",
      "2018-04-23 19:19:23,211 : INFO : estimated required memory for 417 words and 100 dimensions: 542100 bytes\n",
      "2018-04-23 19:19:23,212 : INFO : resetting layer weights\n",
      "2018-04-23 19:19:23,223 : INFO : training model with 3 workers on 417 vocabulary and 100 features, using sg=1 hs=0 sample=0.001 negative=5 window=5\n",
      "2018-04-23 19:19:23,229 : INFO : worker thread finished; awaiting finish of 2 more threads\n",
      "2018-04-23 19:19:23,230 : INFO : worker thread finished; awaiting finish of 1 more threads\n",
      "2018-04-23 19:19:23,243 : INFO : worker thread finished; awaiting finish of 0 more threads\n",
      "2018-04-23 19:19:23,244 : INFO : EPOCH - 1 : training on 5107 raw words (3092 effective words) took 0.0s, 181573 effective words/s\n",
      "2018-04-23 19:19:23,250 : INFO : worker thread finished; awaiting finish of 2 more threads\n",
      "2018-04-23 19:19:23,252 : INFO : worker thread finished; awaiting finish of 1 more threads\n",
      "2018-04-23 19:19:23,264 : INFO : worker thread finished; awaiting finish of 0 more threads\n",
      "2018-04-23 19:19:23,266 : INFO : EPOCH - 2 : training on 5107 raw words (3124 effective words) took 0.0s, 183094 effective words/s\n",
      "2018-04-23 19:19:23,272 : INFO : worker thread finished; awaiting finish of 2 more threads\n",
      "2018-04-23 19:19:23,274 : INFO : worker thread finished; awaiting finish of 1 more threads\n",
      "2018-04-23 19:19:23,287 : INFO : worker thread finished; awaiting finish of 0 more threads\n",
      "2018-04-23 19:19:23,288 : INFO : EPOCH - 3 : training on 5107 raw words (3177 effective words) took 0.0s, 175970 effective words/s\n",
      "2018-04-23 19:19:23,295 : INFO : worker thread finished; awaiting finish of 2 more threads\n",
      "2018-04-23 19:19:23,296 : INFO : worker thread finished; awaiting finish of 1 more threads\n",
      "2018-04-23 19:19:23,308 : INFO : worker thread finished; awaiting finish of 0 more threads\n",
      "2018-04-23 19:19:23,309 : INFO : EPOCH - 4 : training on 5107 raw words (3134 effective words) took 0.0s, 193437 effective words/s\n",
      "2018-04-23 19:19:23,321 : INFO : worker thread finished; awaiting finish of 2 more threads\n",
      "2018-04-23 19:19:23,322 : INFO : worker thread finished; awaiting finish of 1 more threads\n",
      "2018-04-23 19:19:23,336 : INFO : worker thread finished; awaiting finish of 0 more threads\n",
      "2018-04-23 19:19:23,337 : INFO : EPOCH - 5 : training on 5107 raw words (3144 effective words) took 0.0s, 168821 effective words/s\n",
      "2018-04-23 19:19:23,338 : INFO : training on a 25535 raw words (15671 effective words) took 0.1s, 136762 effective words/s\n",
      "2018-04-23 19:19:23,339 : WARNING : under 10 jobs per worker: consider setting a smaller `batch_words' for smoother alpha decay\n"
     ]
    }
   ],
   "source": [
    "model = gensim.models.Word2Vec(train, min_count=3, sg=1, window=5, sample=1e-3)"
   ]
  },
  {
   "cell_type": "code",
   "execution_count": 372,
   "metadata": {
    "scrolled": true
   },
   "outputs": [
    {
     "name": "stderr",
     "output_type": "stream",
     "text": [
      "/anaconda/lib/python3.6/site-packages/ipykernel/__main__.py:1: DeprecationWarning: Call to deprecated `__getitem__` (Method will be removed in 4.0.0, use self.wv.__getitem__() instead).\n",
      "  if __name__ == '__main__':\n"
     ]
    }
   ],
   "source": [
    "X = model[model.wv.vocab]"
   ]
  },
  {
   "cell_type": "code",
   "execution_count": 200,
   "metadata": {
    "collapsed": true
   },
   "outputs": [],
   "source": [
    "# set up clustering estimators\n",
    "from sklearn import cluster\n",
    "\n",
    "dbscan = cluster.DBSCAN() \n",
    "meanshift = cluster.MeanShift()\n",
    "spectral = cluster.SpectralClustering()\n",
    "affinity = cluster.AffinityPropagation()"
   ]
  },
  {
   "cell_type": "code",
   "execution_count": 361,
   "metadata": {},
   "outputs": [
    {
     "data": {
      "text/plain": [
       "0.9949292110614942"
      ]
     },
     "execution_count": 361,
     "metadata": {},
     "output_type": "execute_result"
    }
   ],
   "source": [
    "model.wv.similarity('boil','bake')"
   ]
  },
  {
   "cell_type": "code",
   "execution_count": 362,
   "metadata": {},
   "outputs": [
    {
     "name": "stderr",
     "output_type": "stream",
     "text": [
      "2018-04-25 15:14:16,464 : INFO : precomputing L2-norms of word weight vectors\n"
     ]
    },
    {
     "data": {
      "text/plain": [
       "[('chicken', 0.9962111711502075),\n",
       " ('until', 0.9962097406387329),\n",
       " ('over', 0.9961209893226624),\n",
       " ('combine', 0.9960390329360962),\n",
       " ('cheese', 0.9960118532180786),\n",
       " ('pot', 0.9959843754768372),\n",
       " ('sugar', 0.9959626197814941),\n",
       " ('or', 0.9959396123886108),\n",
       " ('with', 0.9959107637405396),\n",
       " ('meat', 0.995867133140564)]"
      ]
     },
     "execution_count": 362,
     "metadata": {},
     "output_type": "execute_result"
    }
   ],
   "source": [
    "model.wv.similar_by_word('cake')"
   ]
  },
  {
   "cell_type": "code",
   "execution_count": 374,
   "metadata": {
    "collapsed": true
   },
   "outputs": [],
   "source": [
    "pca = PCA(n_components=2)\n",
    "result = pca.fit_transform(X)"
   ]
  },
  {
   "cell_type": "code",
   "execution_count": 380,
   "metadata": {},
   "outputs": [
    {
     "data": {
      "image/png": "[encoded data removed]",
      "text/plain": [
       "<matplotlib.figure.Figure at 0x1138ec240>"
      ]
     },
     "metadata": {},
     "output_type": "display_data"
    }
   ],
   "source": [
    "plt.scatter(result[:, 0], result[:, 1])\n",
    "words = list(model.wv.vocab)\n",
    "for i, word in enumerate(words):\n",
    "\tplt.annotate(word, xy=(result[i, 0], result[i, 1]))\n"
   ]
  },
  {
   "cell_type": "code",
   "execution_count": 381,
   "metadata": {
    "collapsed": true
   },
   "outputs": [],
   "source": [
    "from sklearn import manifold"
   ]
  },
  {
   "cell_type": "code",
   "execution_count": 391,
   "metadata": {},
   "outputs": [
    {
     "data": {
      "text/plain": [
       "<matplotlib.collections.PathCollection at 0x115bac518>"
      ]
     },
     "execution_count": 391,
     "metadata": {},
     "output_type": "execute_result"
    },
    {
     "data": {
      "image/png": "[encoded data removed]",
      "text/plain": [
       "<matplotlib.figure.Figure at 0x10680cf60>"
      ]
     },
     "metadata": {},
     "output_type": "display_data"
    }
   ],
   "source": [
    "tsne = manifold.TSNE(n_components=2, init='pca', perplexity=30, random_state=0)\n",
    "tsne_data = tsne.fit_transform(X)\n",
    "plt.scatter(tsne_data[:, 0], tsne_data[:, 1])"
   ]
  },
  {
   "cell_type": "code",
   "execution_count": 389,
   "metadata": {},
   "outputs": [
    {
     "ename": "ValueError",
     "evalue": "Array must be symmetric",
     "output_type": "error",
     "traceback": [
      "\u001b[0;31m---------------------------------------------------------------------------\u001b[0m",
      "\u001b[0;31mValueError\u001b[0m                                Traceback (most recent call last)",
      "\u001b[0;32m<ipython-input-389-288fb40d7862>\u001b[0m in \u001b[0;36m<module>\u001b[0;34m()\u001b[0m\n\u001b[1;32m      1\u001b[0m \u001b[0mmds\u001b[0m \u001b[0;34m=\u001b[0m \u001b[0mmanifold\u001b[0m\u001b[0;34m.\u001b[0m\u001b[0mMDS\u001b[0m\u001b[0;34m(\u001b[0m\u001b[0;36m2\u001b[0m\u001b[0;34m,\u001b[0m \u001b[0mmax_iter\u001b[0m\u001b[0;34m=\u001b[0m\u001b[0;36m100\u001b[0m\u001b[0;34m,\u001b[0m \u001b[0mn_init\u001b[0m\u001b[0;34m=\u001b[0m\u001b[0;36m1\u001b[0m\u001b[0;34m)\u001b[0m\u001b[0;34m\u001b[0m\u001b[0m\n\u001b[0;32m----> 2\u001b[0;31m \u001b[0mmds_data\u001b[0m \u001b[0;34m=\u001b[0m \u001b[0mmds\u001b[0m\u001b[0;34m.\u001b[0m\u001b[0mfit_transform\u001b[0m\u001b[0;34m(\u001b[0m\u001b[0mX\u001b[0m\u001b[0;34m)\u001b[0m\u001b[0;34m\u001b[0m\u001b[0m\n\u001b[0m\u001b[1;32m      3\u001b[0m \u001b[0mplt\u001b[0m\u001b[0;34m.\u001b[0m\u001b[0mscatter\u001b[0m\u001b[0;34m(\u001b[0m\u001b[0mmds_data\u001b[0m\u001b[0;34m[\u001b[0m\u001b[0;34m:\u001b[0m\u001b[0;34m,\u001b[0m \u001b[0;36m0\u001b[0m\u001b[0;34m]\u001b[0m\u001b[0;34m,\u001b[0m \u001b[0mmds_data\u001b[0m\u001b[0;34m[\u001b[0m\u001b[0;34m:\u001b[0m\u001b[0;34m,\u001b[0m \u001b[0;36m1\u001b[0m\u001b[0;34m]\u001b[0m\u001b[0;34m)\u001b[0m\u001b[0;34m\u001b[0m\u001b[0m\n",
      "\u001b[0;32m/anaconda/lib/python3.6/site-packages/sklearn/manifold/mds.py\u001b[0m in \u001b[0;36mfit_transform\u001b[0;34m(self, X, y, init)\u001b[0m\n\u001b[1;32m    427\u001b[0m             \u001b[0mn_jobs\u001b[0m\u001b[0;34m=\u001b[0m\u001b[0mself\u001b[0m\u001b[0;34m.\u001b[0m\u001b[0mn_jobs\u001b[0m\u001b[0;34m,\u001b[0m \u001b[0mmax_iter\u001b[0m\u001b[0;34m=\u001b[0m\u001b[0mself\u001b[0m\u001b[0;34m.\u001b[0m\u001b[0mmax_iter\u001b[0m\u001b[0;34m,\u001b[0m \u001b[0mverbose\u001b[0m\u001b[0;34m=\u001b[0m\u001b[0mself\u001b[0m\u001b[0;34m.\u001b[0m\u001b[0mverbose\u001b[0m\u001b[0;34m,\u001b[0m\u001b[0;34m\u001b[0m\u001b[0m\n\u001b[1;32m    428\u001b[0m             \u001b[0meps\u001b[0m\u001b[0;34m=\u001b[0m\u001b[0mself\u001b[0m\u001b[0;34m.\u001b[0m\u001b[0meps\u001b[0m\u001b[0;34m,\u001b[0m \u001b[0mrandom_state\u001b[0m\u001b[0;34m=\u001b[0m\u001b[0mself\u001b[0m\u001b[0;34m.\u001b[0m\u001b[0mrandom_state\u001b[0m\u001b[0;34m,\u001b[0m\u001b[0;34m\u001b[0m\u001b[0m\n\u001b[0;32m--> 429\u001b[0;31m             return_n_iter=True)\n\u001b[0m\u001b[1;32m    430\u001b[0m \u001b[0;34m\u001b[0m\u001b[0m\n\u001b[1;32m    431\u001b[0m         \u001b[0;32mreturn\u001b[0m \u001b[0mself\u001b[0m\u001b[0;34m.\u001b[0m\u001b[0membedding_\u001b[0m\u001b[0;34m\u001b[0m\u001b[0m\n",
      "\u001b[0;32m/anaconda/lib/python3.6/site-packages/sklearn/manifold/mds.py\u001b[0m in \u001b[0;36msmacof\u001b[0;34m(dissimilarities, metric, n_components, init, n_init, n_jobs, max_iter, verbose, eps, random_state, return_n_iter)\u001b[0m\n\u001b[1;32m    252\u001b[0m                 \u001b[0mn_components\u001b[0m\u001b[0;34m=\u001b[0m\u001b[0mn_components\u001b[0m\u001b[0;34m,\u001b[0m \u001b[0minit\u001b[0m\u001b[0;34m=\u001b[0m\u001b[0minit\u001b[0m\u001b[0;34m,\u001b[0m\u001b[0;34m\u001b[0m\u001b[0m\n\u001b[1;32m    253\u001b[0m                 \u001b[0mmax_iter\u001b[0m\u001b[0;34m=\u001b[0m\u001b[0mmax_iter\u001b[0m\u001b[0;34m,\u001b[0m \u001b[0mverbose\u001b[0m\u001b[0;34m=\u001b[0m\u001b[0mverbose\u001b[0m\u001b[0;34m,\u001b[0m\u001b[0;34m\u001b[0m\u001b[0m\n\u001b[0;32m--> 254\u001b[0;31m                 eps=eps, random_state=random_state)\n\u001b[0m\u001b[1;32m    255\u001b[0m             \u001b[0;32mif\u001b[0m \u001b[0mbest_stress\u001b[0m \u001b[0;32mis\u001b[0m \u001b[0;32mNone\u001b[0m \u001b[0;32mor\u001b[0m \u001b[0mstress\u001b[0m \u001b[0;34m<\u001b[0m \u001b[0mbest_stress\u001b[0m\u001b[0;34m:\u001b[0m\u001b[0;34m\u001b[0m\u001b[0m\n\u001b[1;32m    256\u001b[0m                 \u001b[0mbest_stress\u001b[0m \u001b[0;34m=\u001b[0m \u001b[0mstress\u001b[0m\u001b[0;34m\u001b[0m\u001b[0m\n",
      "\u001b[0;32m/anaconda/lib/python3.6/site-packages/sklearn/manifold/mds.py\u001b[0m in \u001b[0;36m_smacof_single\u001b[0;34m(dissimilarities, metric, n_components, init, max_iter, verbose, eps, random_state)\u001b[0m\n\u001b[1;32m     68\u001b[0m         \u001b[0mThe\u001b[0m \u001b[0mnumber\u001b[0m \u001b[0mof\u001b[0m \u001b[0miterations\u001b[0m \u001b[0mcorresponding\u001b[0m \u001b[0mto\u001b[0m \u001b[0mthe\u001b[0m \u001b[0mbest\u001b[0m \u001b[0mstress\u001b[0m\u001b[0;34m.\u001b[0m\u001b[0;34m\u001b[0m\u001b[0m\n\u001b[1;32m     69\u001b[0m     \"\"\"\n\u001b[0;32m---> 70\u001b[0;31m     \u001b[0mdissimilarities\u001b[0m \u001b[0;34m=\u001b[0m \u001b[0mcheck_symmetric\u001b[0m\u001b[0;34m(\u001b[0m\u001b[0mdissimilarities\u001b[0m\u001b[0;34m,\u001b[0m \u001b[0mraise_exception\u001b[0m\u001b[0;34m=\u001b[0m\u001b[0;32mTrue\u001b[0m\u001b[0;34m)\u001b[0m\u001b[0;34m\u001b[0m\u001b[0m\n\u001b[0m\u001b[1;32m     71\u001b[0m \u001b[0;34m\u001b[0m\u001b[0m\n\u001b[1;32m     72\u001b[0m     \u001b[0mn_samples\u001b[0m \u001b[0;34m=\u001b[0m \u001b[0mdissimilarities\u001b[0m\u001b[0;34m.\u001b[0m\u001b[0mshape\u001b[0m\u001b[0;34m[\u001b[0m\u001b[0;36m0\u001b[0m\u001b[0;34m]\u001b[0m\u001b[0;34m\u001b[0m\u001b[0m\n",
      "\u001b[0;32m/anaconda/lib/python3.6/site-packages/sklearn/utils/validation.py\u001b[0m in \u001b[0;36mcheck_symmetric\u001b[0;34m(array, tol, raise_warning, raise_exception)\u001b[0m\n\u001b[1;32m    705\u001b[0m     \u001b[0;32mif\u001b[0m \u001b[0;32mnot\u001b[0m \u001b[0msymmetric\u001b[0m\u001b[0;34m:\u001b[0m\u001b[0;34m\u001b[0m\u001b[0m\n\u001b[1;32m    706\u001b[0m         \u001b[0;32mif\u001b[0m \u001b[0mraise_exception\u001b[0m\u001b[0;34m:\u001b[0m\u001b[0;34m\u001b[0m\u001b[0m\n\u001b[0;32m--> 707\u001b[0;31m             \u001b[0;32mraise\u001b[0m \u001b[0mValueError\u001b[0m\u001b[0;34m(\u001b[0m\u001b[0;34m\"Array must be symmetric\"\u001b[0m\u001b[0;34m)\u001b[0m\u001b[0;34m\u001b[0m\u001b[0m\n\u001b[0m\u001b[1;32m    708\u001b[0m         \u001b[0;32mif\u001b[0m \u001b[0mraise_warning\u001b[0m\u001b[0;34m:\u001b[0m\u001b[0;34m\u001b[0m\u001b[0m\n\u001b[1;32m    709\u001b[0m             warnings.warn(\"Array is not symmetric, and will be converted \"\n",
      "\u001b[0;31mValueError\u001b[0m: Array must be symmetric"
     ]
    }
   ],
   "source": [
    "mds = manifold.MDS(2, max_iter=100, n_init=1)\n",
    "mds_data = mds.fit_transform(X)\n",
    "plt.scatter(mds_data[:, 0], mds_data[:, 1])"
   ]
  },
  {
   "cell_type": "code",
   "execution_count": null,
   "metadata": {
    "collapsed": true
   },
   "outputs": [],
   "source": []
  }
 ],
 "metadata": {
  "anaconda-cloud": {},
  "kernelspec": {
   "display_name": "Python [default]",
   "language": "python",
   "name": "python3"
  },
  "language_info": {
   "codemirror_mode": {
    "name": "ipython",
    "version": 3
   },
   "file_extension": ".py",
   "mimetype": "text/x-python",
   "name": "python",
   "nbconvert_exporter": "python",
   "pygments_lexer": "ipython3",
   "version": "3.6.1"
  }
 },
 "nbformat": 4,
 "nbformat_minor": 2
}
